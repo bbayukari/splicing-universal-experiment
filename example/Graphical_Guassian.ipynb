{
 "cells": [
  {
   "cell_type": "code",
   "execution_count": 1,
   "id": "5b2149f7",
   "metadata": {},
   "outputs": [],
   "source": [
    "from scope import ScopeSolver\n",
    "import jax.numpy as jnp\n",
    "import numpy as np\n",
    "from sklearn.datasets import make_sparse_spd_matrix\n",
    "from sklearn.covariance import GraphicalLassoCV, ledoit_wolf\n",
    "import matplotlib.pyplot as plt"
   ]
  },
  {
   "cell_type": "code",
   "execution_count": 2,
   "id": "bd92115e",
   "metadata": {},
   "outputs": [],
   "source": [
    "import os\n",
    "\n",
    "os.environ[\n",
    "    \"CUDA_VISIBLE_DEVICES\"\n",
    "] = \"\"  # force use CPU because there is an error when using GPU in my environment\n",
    "# RuntimeError: jaxlib/cusolver_kernels.cc:44: operation cusolverDnCreate(&handle) failed: cuSolver internal error"
   ]
  },
  {
   "cell_type": "code",
   "execution_count": 4,
   "id": "d918e199",
   "metadata": {},
   "outputs": [],
   "source": [
    "n, p = 200, 15\n",
    "\n",
    "np_rdm = np.random.RandomState(0)\n",
    "pre = make_sparse_spd_matrix(\n",
    "    p, alpha=0.8, smallest_coef=0.5, largest_coef=1, random_state=np_rdm\n",
    ")\n",
    "k = int((np.count_nonzero(pre) - p) / 2)\n",
    "cov = np.linalg.inv(pre)\n",
    "d = np.sqrt(np.diag(cov))\n",
    "cov /= d\n",
    "cov /= d[:, np.newaxis]\n",
    "pre *= d\n",
    "pre *= d[:, np.newaxis]\n",
    "X = np_rdm.multivariate_normal(np.zeros(p), cov, size=n)\n",
    "X -= X.mean(axis=0)\n",
    "emp_cov = np.dot(X.T, X) / n\n",
    "emp_pre = np.linalg.inv(emp_cov)"
   ]
  },
  {
   "cell_type": "code",
   "execution_count": 5,
   "id": "e77a6cce",
   "metadata": {},
   "outputs": [],
   "source": [
    "def graphical_guassian_objective(params):\n",
    "    Omega = jnp.zeros((p, p))\n",
    "    Omega = Omega.at[np.triu_indices(p)].set(params)\n",
    "    Omega = jnp.where(Omega, Omega, Omega.T)\n",
    "    return jnp.sum(emp_cov * Omega) - jnp.log(jnp.linalg.det(Omega))"
   ]
  },
  {
   "cell_type": "code",
   "execution_count": 19,
   "id": "38d00541",
   "metadata": {},
   "outputs": [],
   "source": [
    "solver = ScopeSolver(\n",
    "    int(p * (p + 1) / 2),\n",
    "    k + p,\n",
    "    always_select=np.where(np.triu_indices(p)[0] == np.triu_indices(p)[1])[0],\n",
    "    #regular_coef=1.0,\n",
    "    file_log_level=\"debug\"\n",
    ")  # always select diagonal elements\n",
    "solver.solve(graphical_guassian_objective, init_params=pre[np.triu_indices(p)])\n",
    "params = solver.get_params()\n",
    "support_set = solver.get_support_set()\n",
    "\n",
    "est_params = np.zeros((p, p))\n",
    "est_params[np.triu_indices(p)] = params\n",
    "est_params = np.where(est_params, est_params, est_params.T)\n",
    "# print(\"Estimated parameter:\\n\", est_params)\n",
    "# print(\"True parameter:\\n\", pre)"
   ]
  },
  {
   "cell_type": "code",
   "execution_count": 22,
   "id": "96f69c1b",
   "metadata": {},
   "outputs": [
    {
     "data": {
      "text/plain": [
       "Array(8.820492, dtype=float32)"
      ]
     },
     "execution_count": 22,
     "metadata": {},
     "output_type": "execute_result"
    }
   ],
   "source": [
    "graphical_guassian_objective(pre[np.triu_indices(p)])"
   ]
  },
  {
   "cell_type": "code",
   "execution_count": 24,
   "id": "93b860b9",
   "metadata": {},
   "outputs": [
    {
     "data": {
      "text/plain": [
       "Array(9.25882, dtype=float32)"
      ]
     },
     "execution_count": 24,
     "metadata": {},
     "output_type": "execute_result"
    }
   ],
   "source": [
    "graphical_guassian_objective(params)"
   ]
  },
  {
   "cell_type": "code",
   "execution_count": 16,
   "id": "adf4869e",
   "metadata": {},
   "outputs": [
    {
     "data": {
      "text/plain": [
       "array([  0,  15,  29,  42,  54,  65,  75,  84,  92,  99, 105, 110, 114,\n",
       "       117, 119])"
      ]
     },
     "execution_count": 16,
     "metadata": {},
     "output_type": "execute_result"
    }
   ],
   "source": [
    "np.where(np.triu_indices(p)[0] == np.triu_indices(p)[1])[0]"
   ]
  },
  {
   "cell_type": "code",
   "execution_count": 10,
   "id": "2e1f0260",
   "metadata": {},
   "outputs": [],
   "source": [
    "def acc(model, true):\n",
    "    model_coef = set(np.nonzero(model)[0])\n",
    "    data_coef = set(np.nonzero(true)[0])\n",
    "    print(len(model_coef & data_coef) / len(data_coef)) "
   ]
  },
  {
   "cell_type": "code",
   "execution_count": 20,
   "id": "84a4385e",
   "metadata": {},
   "outputs": [
    {
     "name": "stdout",
     "output_type": "stream",
     "text": [
      "0.8709677419354839\n"
     ]
    }
   ],
   "source": [
    "acc(params, pre[np.triu_indices(p)])"
   ]
  },
  {
   "cell_type": "code",
   "execution_count": 12,
   "id": "e197605b",
   "metadata": {},
   "outputs": [],
   "source": [
    "glCV_model = GraphicalLassoCV().fit(X)\n",
    "glCV_pre = glCV_model.precision_"
   ]
  },
  {
   "cell_type": "code",
   "execution_count": 21,
   "id": "bfc1f964",
   "metadata": {},
   "outputs": [
    {
     "data": {
      "image/png": "[encoded data removed]",
      "text/plain": [
       "<Figure size 1500x500 with 4 Axes>"
      ]
     },
     "metadata": {},
     "output_type": "display_data"
    }
   ],
   "source": [
    "plt.figure(figsize=(15, 5))\n",
    "plot_of_pre = [\n",
    "    (\"True\", pre),\n",
    "    (\"Scope\", est_params),\n",
    "    (\"GraphicalLasso(CV)\", glCV_pre),\n",
    "    (\"Empirical\", emp_pre),\n",
    "]\n",
    "vmax = np.abs(pre).max()\n",
    "for i, (model, its_pre) in enumerate(plot_of_pre):\n",
    "    ax = plt.subplot(1, 4, i + 1)\n",
    "    plt.imshow(\n",
    "        np.ma.masked_equal(its_pre, 0),\n",
    "        interpolation=\"nearest\",\n",
    "        vmin=-vmax,\n",
    "        vmax=vmax,\n",
    "        cmap=plt.cm.PiYG,\n",
    "    )\n",
    "    plt.xticks(())\n",
    "    plt.yticks(())\n",
    "    plt.title(\"%s precision\" % model)\n",
    "    if hasattr(ax, \"set_facecolor\"):\n",
    "        ax.set_facecolor(\".8\")\n",
    "    else:\n",
    "        ax.set_axis_bgcolor(\".8\")"
   ]
  },
  {
   "cell_type": "code",
   "execution_count": null,
   "id": "571cec02",
   "metadata": {},
   "outputs": [],
   "source": []
  }
 ],
 "metadata": {
  "kernelspec": {
   "display_name": "scope",
   "language": "python",
   "name": "python3"
  },
  "language_info": {
   "codemirror_mode": {
    "name": "ipython",
    "version": 3
   },
   "file_extension": ".py",
   "mimetype": "text/x-python",
   "name": "python",
   "nbconvert_exporter": "python",
   "pygments_lexer": "ipython3",
   "version": "3.10.8"
  },
  "vscode": {
   "interpreter": {
    "hash": "3c080b8e9735a773b226f51ba3cd4647a8c2650b76ab1ec4d8e8a25c7003cf97"
   }
  }
 },
 "nbformat": 4,
 "nbformat_minor": 5
}
