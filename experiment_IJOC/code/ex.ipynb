{
 "cells": [
  {
   "cell_type": "code",
   "execution_count": 50,
   "metadata": {},
   "outputs": [],
   "source": [
    "from skscope_experiment.model import linear\n",
    "import numpy as np"
   ]
  },
  {
   "cell_type": "code",
   "execution_count": 51,
   "metadata": {},
   "outputs": [],
   "source": [
    "n, p, k, seed, rho, coef_scale = 500, 100, 10, 1, 0.2, 1\n",
    "true_params, (features, response) = linear.data_generator(\n",
    "    n, p, k, seed, rho, coef_scale\n",
    ")"
   ]
  },
  {
   "cell_type": "code",
   "execution_count": 52,
   "metadata": {},
   "outputs": [],
   "source": [
    "features /= np.linalg.norm(features, axis=0)"
   ]
  },
  {
   "cell_type": "code",
   "execution_count": 53,
   "metadata": {},
   "outputs": [],
   "source": [
    "gram_matrix = features.T @ features"
   ]
  },
  {
   "cell_type": "code",
   "execution_count": 54,
   "metadata": {},
   "outputs": [
    {
     "data": {
      "text/plain": [
       "8.182023929196168"
      ]
     },
     "execution_count": 54,
     "metadata": {},
     "output_type": "execute_result"
    }
   ],
   "source": [
    "np.linalg.cond(gram_matrix)"
   ]
  },
  {
   "cell_type": "code",
   "execution_count": 18,
   "metadata": {},
   "outputs": [
    {
     "data": {
      "text/plain": [
       "0.9401389879515298"
      ]
     },
     "execution_count": 18,
     "metadata": {},
     "output_type": "execute_result"
    }
   ],
   "source": [
    "# max of |<x_i, x_j>| i!=j\n",
    "np.max(np.abs(gram_matrix - np.diag(np.diag(gram_matrix))))"
   ]
  },
  {
   "cell_type": "code",
   "execution_count": 29,
   "metadata": {},
   "outputs": [
    {
     "data": {
      "text/plain": [
       "array([ 0.5+0.0000000e+00j, 50.5+0.0000000e+00j,  0.5+0.0000000e+00j,\n",
       "        0.5+2.4463115e-17j,  0.5-2.4463115e-17j,  0.5+0.0000000e+00j,\n",
       "        0.5+0.0000000e+00j,  0.5+0.0000000e+00j,  0.5+0.0000000e+00j,\n",
       "        0.5+0.0000000e+00j])"
      ]
     },
     "execution_count": 29,
     "metadata": {},
     "output_type": "execute_result"
    }
   ],
   "source": [
    "p = 10\n",
    "a = 0.5\n",
    "A = a * np.eye(p) + (1 - a) * np.ones(p) @ np.ones(p).T\n",
    "# eigenvalues of A\n",
    "np.linalg.eigvals(A)"
   ]
  }
 ],
 "metadata": {
  "kernelspec": {
   "display_name": "scope",
   "language": "python",
   "name": "python3"
  },
  "language_info": {
   "codemirror_mode": {
    "name": "ipython",
    "version": 3
   },
   "file_extension": ".py",
   "mimetype": "text/x-python",
   "name": "python",
   "nbconvert_exporter": "python",
   "pygments_lexer": "ipython3",
   "version": "3.10.9"
  }
 },
 "nbformat": 4,
 "nbformat_minor": 2
}
