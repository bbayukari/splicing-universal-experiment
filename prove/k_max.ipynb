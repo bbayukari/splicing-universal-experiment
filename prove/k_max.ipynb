{
 "cells": [
  {
   "cell_type": "code",
   "execution_count": 3,
   "metadata": {},
   "outputs": [],
   "source": [
    "from sympy import *\n",
    "M, c, v, s, k, i = symbols('M c v s k i')"
   ]
  },
  {
   "cell_type": "code",
   "execution_count": 34,
   "metadata": {},
   "outputs": [],
   "source": [
    "i12 = 2*c+sqrt(M**2+v**2)*sqrt(i/k)+v*(1+sqrt(i/k))*(v+c*sqrt(s/i))"
   ]
  },
  {
   "cell_type": "code",
   "execution_count": 38,
   "metadata": {},
   "outputs": [
    {
     "data": {
      "text/latex": [
       "$\\displaystyle \\frac{- c v \\sqrt{\\frac{s}{i}} + v^{2} \\sqrt{\\frac{i}{k}} + \\sqrt{\\frac{i}{k}} \\sqrt{M^{2} + v^{2}}}{2 i}$"
      ],
      "text/plain": [
       "(-c*v*sqrt(s/i) + v**2*sqrt(i/k) + sqrt(i/k)*sqrt(M**2 + v**2))/(2*i)"
      ]
     },
     "execution_count": 38,
     "metadata": {},
     "output_type": "execute_result"
    }
   ],
   "source": [
    "simplify(diff(i12, i))"
   ]
  },
  {
   "cell_type": "code",
   "execution_count": 4,
   "metadata": {},
   "outputs": [
    {
     "data": {
      "text/latex": [
       "$\\displaystyle \\frac{M c^{2} s}{2 i} + \\frac{M \\left(v^{2} + 1\\right) \\left(\\left(1 + \\frac{k}{i}\\right) \\left(c \\sqrt{\\frac{s}{i}} + v\\right)^{2} + \\left(2 c + v \\left(c \\sqrt{\\frac{s}{i}} + v\\right) \\left(\\sqrt{\\frac{i}{k}} + 1\\right) + \\sqrt{\\frac{i}{k}} \\sqrt{M^{2} + v^{2}}\\right)^{2}\\right)}{2} + \\frac{c^{2} s}{i} + c \\sqrt{\\frac{s}{i}} \\sqrt{\\left(1 + \\frac{k}{i}\\right) \\left(c \\sqrt{\\frac{s}{i}} + v\\right)^{2} + \\left(2 c + v \\left(c \\sqrt{\\frac{s}{i}} + v\\right) \\left(\\sqrt{\\frac{i}{k}} + 1\\right) + \\sqrt{\\frac{i}{k}} \\sqrt{M^{2} + v^{2}}\\right)^{2}} \\left(M v + v + 1\\right)$"
      ],
      "text/plain": [
       "M*c**2*s/(2*i) + M*(v**2 + 1)*((1 + k/i)*(c*sqrt(s/i) + v)**2 + (2*c + v*(c*sqrt(s/i) + v)*(sqrt(i/k) + 1) + sqrt(i/k)*sqrt(M**2 + v**2))**2)/2 + c**2*s/i + c*sqrt(s/i)*sqrt((1 + k/i)*(c*sqrt(s/i) + v)**2 + (2*c + v*(c*sqrt(s/i) + v)*(sqrt(i/k) + 1) + sqrt(i/k)*sqrt(M**2 + v**2))**2)*(M*v + v + 1)"
      ]
     },
     "execution_count": 4,
     "metadata": {},
     "output_type": "execute_result"
    }
   ],
   "source": [
    "delta_square = (1+k/i)*(v+c*sqrt(s/i))**2 + (2*c+sqrt(M**2+v**2)*sqrt(i/k)+v*(1+sqrt(i/k))*(v+c*sqrt(s/i)))**2\n",
    "expr = s*c*c/i + s*c*c*M/2/i + c*sqrt(s/i)*(1+v+M*v) * sqrt(delta_square) + M/2*(1+v*v) * delta_square\n",
    "# M>=1, v<=(M-1)/2, c>=0, s>=i, i>=k, k>=1\n",
    "expr"
   ]
  },
  {
   "cell_type": "code",
   "execution_count": 5,
   "metadata": {},
   "outputs": [
    {
     "data": {
      "text/latex": [
       "$\\displaystyle - \\frac{M c^{2} s}{2 i^{2}} + \\frac{M \\left(v^{2} + 1\\right) \\left(- \\frac{c \\sqrt{\\frac{s}{i}} \\left(1 + \\frac{k}{i}\\right) \\left(c \\sqrt{\\frac{s}{i}} + v\\right)}{i} + \\left(2 c + v \\left(c \\sqrt{\\frac{s}{i}} + v\\right) \\left(\\sqrt{\\frac{i}{k}} + 1\\right) + \\sqrt{\\frac{i}{k}} \\sqrt{M^{2} + v^{2}}\\right) \\left(- \\frac{c v \\sqrt{\\frac{s}{i}} \\left(\\sqrt{\\frac{i}{k}} + 1\\right)}{i} + \\frac{v \\sqrt{\\frac{i}{k}} \\left(c \\sqrt{\\frac{s}{i}} + v\\right)}{i} + \\frac{\\sqrt{\\frac{i}{k}} \\sqrt{M^{2} + v^{2}}}{i}\\right) - \\frac{k \\left(c \\sqrt{\\frac{s}{i}} + v\\right)^{2}}{i^{2}}\\right)}{2} - \\frac{c^{2} s}{i^{2}} + \\frac{c \\sqrt{\\frac{s}{i}} \\left(M v + v + 1\\right) \\left(- \\frac{c \\sqrt{\\frac{s}{i}} \\left(1 + \\frac{k}{i}\\right) \\left(c \\sqrt{\\frac{s}{i}} + v\\right)}{2 i} + \\frac{\\left(2 c + v \\left(c \\sqrt{\\frac{s}{i}} + v\\right) \\left(\\sqrt{\\frac{i}{k}} + 1\\right) + \\sqrt{\\frac{i}{k}} \\sqrt{M^{2} + v^{2}}\\right) \\left(- \\frac{c v \\sqrt{\\frac{s}{i}} \\left(\\sqrt{\\frac{i}{k}} + 1\\right)}{i} + \\frac{v \\sqrt{\\frac{i}{k}} \\left(c \\sqrt{\\frac{s}{i}} + v\\right)}{i} + \\frac{\\sqrt{\\frac{i}{k}} \\sqrt{M^{2} + v^{2}}}{i}\\right)}{2} - \\frac{k \\left(c \\sqrt{\\frac{s}{i}} + v\\right)^{2}}{2 i^{2}}\\right)}{\\sqrt{\\left(1 + \\frac{k}{i}\\right) \\left(c \\sqrt{\\frac{s}{i}} + v\\right)^{2} + \\left(2 c + v \\left(c \\sqrt{\\frac{s}{i}} + v\\right) \\left(\\sqrt{\\frac{i}{k}} + 1\\right) + \\sqrt{\\frac{i}{k}} \\sqrt{M^{2} + v^{2}}\\right)^{2}}} - \\frac{c \\sqrt{\\frac{s}{i}} \\sqrt{\\left(1 + \\frac{k}{i}\\right) \\left(c \\sqrt{\\frac{s}{i}} + v\\right)^{2} + \\left(2 c + v \\left(c \\sqrt{\\frac{s}{i}} + v\\right) \\left(\\sqrt{\\frac{i}{k}} + 1\\right) + \\sqrt{\\frac{i}{k}} \\sqrt{M^{2} + v^{2}}\\right)^{2}} \\left(M v + v + 1\\right)}{2 i}$"
      ],
      "text/plain": [
       "-M*c**2*s/(2*i**2) + M*(v**2 + 1)*(-c*sqrt(s/i)*(1 + k/i)*(c*sqrt(s/i) + v)/i + (2*c + v*(c*sqrt(s/i) + v)*(sqrt(i/k) + 1) + sqrt(i/k)*sqrt(M**2 + v**2))*(-c*v*sqrt(s/i)*(sqrt(i/k) + 1)/i + v*sqrt(i/k)*(c*sqrt(s/i) + v)/i + sqrt(i/k)*sqrt(M**2 + v**2)/i) - k*(c*sqrt(s/i) + v)**2/i**2)/2 - c**2*s/i**2 + c*sqrt(s/i)*(M*v + v + 1)*(-c*sqrt(s/i)*(1 + k/i)*(c*sqrt(s/i) + v)/(2*i) + (2*c + v*(c*sqrt(s/i) + v)*(sqrt(i/k) + 1) + sqrt(i/k)*sqrt(M**2 + v**2))*(-c*v*sqrt(s/i)*(sqrt(i/k) + 1)/i + v*sqrt(i/k)*(c*sqrt(s/i) + v)/i + sqrt(i/k)*sqrt(M**2 + v**2)/i)/2 - k*(c*sqrt(s/i) + v)**2/(2*i**2))/sqrt((1 + k/i)*(c*sqrt(s/i) + v)**2 + (2*c + v*(c*sqrt(s/i) + v)*(sqrt(i/k) + 1) + sqrt(i/k)*sqrt(M**2 + v**2))**2) - c*sqrt(s/i)*sqrt((1 + k/i)*(c*sqrt(s/i) + v)**2 + (2*c + v*(c*sqrt(s/i) + v)*(sqrt(i/k) + 1) + sqrt(i/k)*sqrt(M**2 + v**2))**2)*(M*v + v + 1)/(2*i)"
      ]
     },
     "execution_count": 5,
     "metadata": {},
     "output_type": "execute_result"
    }
   ],
   "source": [
    "diff_i = diff(expr, i)\n",
    "diff_i"
   ]
  },
  {
   "cell_type": "code",
   "execution_count": 5,
   "metadata": {},
   "outputs": [
    {
     "ename": "NotImplementedError",
     "evalue": "Cannot remove all radicals",
     "output_type": "error",
     "traceback": [
      "\u001b[0;31m---------------------------------------------------------------------------\u001b[0m",
      "\u001b[0;31mNotImplementedError\u001b[0m                       Traceback (most recent call last)",
      "Cell \u001b[0;32mIn[5], line 1\u001b[0m\n\u001b[0;32m----> 1\u001b[0m solveset(diff_i, i)\n",
      "File \u001b[0;32m~/miniconda3/envs/scope/lib/python3.10/site-packages/sympy/solvers/solveset.py:2252\u001b[0m, in \u001b[0;36msolveset\u001b[0;34m(f, symbol, domain)\u001b[0m\n\u001b[1;32m   2250\u001b[0m \u001b[39mif\u001b[39;00m symbol \u001b[39mnot\u001b[39;00m \u001b[39min\u001b[39;00m _rc:\n\u001b[1;32m   2251\u001b[0m     x \u001b[39m=\u001b[39m _rc[\u001b[39m0\u001b[39m] \u001b[39mif\u001b[39;00m domain\u001b[39m.\u001b[39mis_subset(S\u001b[39m.\u001b[39mReals) \u001b[39melse\u001b[39;00m _rc[\u001b[39m1\u001b[39m]\n\u001b[0;32m-> 2252\u001b[0m     rv \u001b[39m=\u001b[39m solveset(f\u001b[39m.\u001b[39;49mxreplace({symbol: x}), x, domain)\n\u001b[1;32m   2253\u001b[0m     \u001b[39m# try to use the original symbol if possible\u001b[39;00m\n\u001b[1;32m   2254\u001b[0m     \u001b[39mtry\u001b[39;00m:\n",
      "File \u001b[0;32m~/miniconda3/envs/scope/lib/python3.10/site-packages/sympy/solvers/solveset.py:2276\u001b[0m, in \u001b[0;36msolveset\u001b[0;34m(f, symbol, domain)\u001b[0m\n\u001b[1;32m   2273\u001b[0m     f \u001b[39m=\u001b[39m f\u001b[39m.\u001b[39mxreplace({d: e})\n\u001b[1;32m   2274\u001b[0m f \u001b[39m=\u001b[39m piecewise_fold(f)\n\u001b[0;32m-> 2276\u001b[0m \u001b[39mreturn\u001b[39;00m _solveset(f, symbol, domain, _check\u001b[39m=\u001b[39;49m\u001b[39mTrue\u001b[39;49;00m)\n",
      "File \u001b[0;32m~/miniconda3/envs/scope/lib/python3.10/site-packages/sympy/solvers/solveset.py:1104\u001b[0m, in \u001b[0;36m_solveset\u001b[0;34m(f, symbol, domain, _check)\u001b[0m\n\u001b[1;32m   1102\u001b[0m \u001b[39mfor\u001b[39;00m equation \u001b[39min\u001b[39;00m [lhs \u001b[39m-\u001b[39m rhs \u001b[39mfor\u001b[39;00m rhs \u001b[39min\u001b[39;00m rhs_s]:\n\u001b[1;32m   1103\u001b[0m     \u001b[39mif\u001b[39;00m equation \u001b[39m==\u001b[39m f:\n\u001b[0;32m-> 1104\u001b[0m         u \u001b[39m=\u001b[39m unrad(f, symbol)\n\u001b[1;32m   1105\u001b[0m         \u001b[39mif\u001b[39;00m u:\n\u001b[1;32m   1106\u001b[0m             result \u001b[39m+\u001b[39m\u001b[39m=\u001b[39m _solve_radical(equation, u,\n\u001b[1;32m   1107\u001b[0m                                      symbol,\n\u001b[1;32m   1108\u001b[0m                                      solver)\n",
      "File \u001b[0;32m~/miniconda3/envs/scope/lib/python3.10/site-packages/sympy/solvers/solvers.py:3624\u001b[0m, in \u001b[0;36munrad\u001b[0;34m(eq, *syms, **flags)\u001b[0m\n\u001b[1;32m   3619\u001b[0m rpt \u001b[39m+\u001b[39m\u001b[39m=\u001b[39m \u001b[39m1\u001b[39m  \u001b[39m# XXX how many repeats with others unchanging is enough?\u001b[39;00m\n\u001b[1;32m   3620\u001b[0m \u001b[39mif\u001b[39;00m \u001b[39mnot\u001b[39;00m ok \u001b[39mor\u001b[39;00m (\n\u001b[1;32m   3621\u001b[0m             nwas \u001b[39mis\u001b[39;00m \u001b[39mnot\u001b[39;00m \u001b[39mNone\u001b[39;00m \u001b[39mand\u001b[39;00m \u001b[39mlen\u001b[39m(rterms) \u001b[39m==\u001b[39m nwas \u001b[39mand\u001b[39;00m\n\u001b[1;32m   3622\u001b[0m             new_depth \u001b[39mis\u001b[39;00m \u001b[39mnot\u001b[39;00m \u001b[39mNone\u001b[39;00m \u001b[39mand\u001b[39;00m new_depth \u001b[39m==\u001b[39m depth \u001b[39mand\u001b[39;00m\n\u001b[1;32m   3623\u001b[0m             rpt \u001b[39m>\u001b[39m \u001b[39m3\u001b[39m):\n\u001b[0;32m-> 3624\u001b[0m     \u001b[39mraise\u001b[39;00m \u001b[39mNotImplementedError\u001b[39;00m(\u001b[39m'\u001b[39m\u001b[39mCannot remove all radicals\u001b[39m\u001b[39m'\u001b[39m)\n\u001b[1;32m   3626\u001b[0m flags\u001b[39m.\u001b[39mupdate({\u001b[39m\"\u001b[39m\u001b[39mcov\u001b[39m\u001b[39m\"\u001b[39m: cov, \u001b[39m\"\u001b[39m\u001b[39mn\u001b[39m\u001b[39m\"\u001b[39m: \u001b[39mlen\u001b[39m(rterms), \u001b[39m\"\u001b[39m\u001b[39mrpt\u001b[39m\u001b[39m\"\u001b[39m: rpt})\n\u001b[1;32m   3627\u001b[0m neq \u001b[39m=\u001b[39m unrad(eq, \u001b[39m*\u001b[39msyms, \u001b[39m*\u001b[39m\u001b[39m*\u001b[39mflags)\n",
      "\u001b[0;31mNotImplementedError\u001b[0m: Cannot remove all radicals"
     ]
    }
   ],
   "source": [
    "solveset(diff_i, i)"
   ]
  },
  {
   "cell_type": "code",
   "execution_count": 33,
   "metadata": {},
   "outputs": [
    {
     "data": {
      "text/latex": [
       "$\\displaystyle 0.446036548033817$"
      ],
      "text/plain": [
       "0.446036548033817"
      ]
     },
     "execution_count": 33,
     "metadata": {},
     "output_type": "execute_result"
    }
   ],
   "source": [
    "tmp.evalf(subs={i:1000, M:1.4, v:0.2, c:0.1, s:10000, k:5})"
   ]
  },
  {
   "cell_type": "code",
   "execution_count": 13,
   "metadata": {},
   "outputs": [
    {
     "data": {
      "text/latex": [
       "$\\displaystyle \\frac{i \\left(2 c + v \\left(c \\sqrt{\\frac{s}{i}} + v\\right) \\left(\\sqrt{\\frac{i}{k}} + 1\\right) + \\sqrt{\\frac{i}{k}} \\sqrt{M^{2} + v^{2}}\\right)^{2} + \\left(i + k\\right) \\left(c \\sqrt{\\frac{s}{i}} + v\\right)^{2}}{i}$"
      ],
      "text/plain": [
       "(i*(2*c + v*(c*sqrt(s/i) + v)*(sqrt(i/k) + 1) + sqrt(i/k)*sqrt(M**2 + v**2))**2 + (i + k)*(c*sqrt(s/i) + v)**2)/i"
      ]
     },
     "execution_count": 13,
     "metadata": {},
     "output_type": "execute_result"
    }
   ],
   "source": [
    "simplify(delta_square)"
   ]
  },
  {
   "cell_type": "code",
   "execution_count": 24,
   "metadata": {},
   "outputs": [
    {
     "name": "stdout",
     "output_type": "stream",
     "text": [
      "a1.1 0.0 10 0.0 1 2\n",
      "a1.1 0.0 10 0.0 1 3\n",
      "a1.1 0.0 10 0.0 1 4\n",
      "a1.1 0.0 10 0.0 1 5\n",
      "a1.1 0.0 10 0.0 1 6\n",
      "a1.1 0.0 10 0.0 1 7\n",
      "a1.1 0.0 10 0.0 1 8\n",
      "a1.1 0.0 10 0.0 1 9\n",
      "a1.1 0.0 10 0.0 1 10\n",
      "a1.1 0.0 10 0.0 2 3\n",
      "a1.1 0.0 10 0.0 2 4\n",
      "a1.1 0.0 10 0.0 2 5\n",
      "a1.1 0.0 10 0.0 2 6\n",
      "a1.1 0.0 10 0.0 2 7\n",
      "a1.1 0.0 10 0.0 2 8\n",
      "a1.1 0.0 10 0.0 2 9\n",
      "a1.1 0.0 10 0.0 2 10\n",
      "a1.1 0.0 10 0.0 3 4\n",
      "a1.1 0.0 10 0.0 3 5\n",
      "a1.1 0.0 10 0.0 3 6\n",
      "a1.1 0.0 10 0.0 3 7\n",
      "a1.1 0.0 10 0.0 3 8\n",
      "a1.1 0.0 10 0.0 3 9\n",
      "a1.1 0.0 10 0.0 3 10\n",
      "a1.1 0.0 10 0.0 4 5\n",
      "a1.1 0.0 10 0.0 4 6\n",
      "a1.1 0.0 10 0.0 4 7\n",
      "a1.1 0.0 10 0.0 4 8\n",
      "a1.1 0.0 10 0.0 4 9\n",
      "a1.1 0.0 10 0.0 4 10\n",
      "a1.1 0.0 10 0.0 5 6\n",
      "a1.1 0.0 10 0.0 5 7\n",
      "a1.1 0.0 10 0.0 5 8\n",
      "a1.1 0.0 10 0.0 5 9\n",
      "a1.1 0.0 10 0.0 5 10\n",
      "a1.1 0.0 10 0.0 6 7\n",
      "a1.1 0.0 10 0.0 6 8\n",
      "a1.1 0.0 10 0.0 6 9\n",
      "a1.1 0.0 10 0.0 6 10\n",
      "a1.1 0.0 10 0.0 7 8\n",
      "a1.1 0.0 10 0.0 7 9\n",
      "a1.1 0.0 10 0.0 7 10\n",
      "a1.1 0.0 10 0.0 8 9\n",
      "a1.1 0.0 10 0.0 8 10\n",
      "a1.1 0.0 10 0.0 9 10\n",
      "a1.1 0.0 10 0.03162277660168379 1 2\n",
      "a1.1 0.0 10 0.03162277660168379 1 3\n",
      "a1.1 0.0 10 0.03162277660168379 1 4\n",
      "a1.1 0.0 10 0.03162277660168379 1 5\n",
      "a1.1 0.0 10 0.03162277660168379 1 6\n",
      "a1.1 0.0 10 0.03162277660168379 1 7\n",
      "a1.1 0.0 10 0.03162277660168379 1 8\n",
      "a1.1 0.0 10 0.03162277660168379 1 9\n",
      "a1.1 0.0 10 0.03162277660168379 1 10\n",
      "a1.1 0.0 10 0.03162277660168379 2 3\n",
      "a1.1 0.0 10 0.03162277660168379 2 4\n",
      "a1.1 0.0 10 0.03162277660168379 2 5\n",
      "a1.1 0.0 10 0.03162277660168379 2 6\n",
      "a1.1 0.0 10 0.03162277660168379 2 7\n",
      "a1.1 0.0 10 0.03162277660168379 2 8\n",
      "a1.1 0.0 10 0.03162277660168379 2 9\n",
      "a1.1 0.0 10 0.03162277660168379 2 10\n",
      "a1.1 0.0 10 0.03162277660168379 3 4\n",
      "a1.1 0.0 10 0.03162277660168379 3 5\n",
      "a1.1 0.0 10 0.03162277660168379 3 6\n",
      "a1.1 0.0 10 0.03162277660168379 3 7\n",
      "a1.1 0.0 10 0.03162277660168379 3 8\n",
      "a1.1 0.0 10 0.03162277660168379 3 9\n",
      "a1.1 0.0 10 0.03162277660168379 3 10\n",
      "a1.1 0.0 10 0.03162277660168379 4 5\n",
      "a1.1 0.0 10 0.03162277660168379 4 6\n",
      "a1.1 0.0 10 0.03162277660168379 4 7\n",
      "a1.1 0.0 10 0.03162277660168379 4 8\n",
      "a1.1 0.0 10 0.03162277660168379 4 9\n",
      "a1.1 0.0 10 0.03162277660168379 4 10\n",
      "a1.1 0.0 10 0.03162277660168379 5 6\n",
      "a1.1 0.0 10 0.03162277660168379 5 7\n",
      "a1.1 0.0 10 0.03162277660168379 5 8\n",
      "a1.1 0.0 10 0.03162277660168379 5 9\n",
      "a1.1 0.0 10 0.03162277660168379 5 10\n",
      "a1.1 0.0 10 0.03162277660168379 6 7\n",
      "a1.1 0.0 10 0.03162277660168379 6 8\n",
      "a1.1 0.0 10 0.03162277660168379 6 9\n",
      "a1.1 0.0 10 0.03162277660168379 6 10\n",
      "a1.1 0.0 10 0.03162277660168379 7 8\n",
      "a1.1 0.0 10 0.03162277660168379 7 9\n",
      "a1.1 0.0 10 0.03162277660168379 7 10\n",
      "a1.1 0.0 10 0.03162277660168379 8 9\n",
      "a1.1 0.0 10 0.03162277660168379 8 10\n",
      "a1.1 0.0 10 0.03162277660168379 9 10\n",
      "a1.1 0.0 10 0.06324555320336758 1 2\n",
      "a1.1 0.0 10 0.06324555320336758 1 3\n",
      "a1.1 0.0 10 0.06324555320336758 1 4\n",
      "a1.1 0.0 10 0.06324555320336758 1 5\n",
      "a1.1 0.0 10 0.06324555320336758 1 6\n",
      "a1.1 0.0 10 0.06324555320336758 1 7\n",
      "a1.1 0.0 10 0.06324555320336758 1 8\n",
      "a1.1 0.0 10 0.06324555320336758 1 9\n",
      "a1.1 0.0 10 0.06324555320336758 1 10\n",
      "a1.1 0.0 10 0.06324555320336758 2 3\n",
      "a1.1 0.0 10 0.06324555320336758 2 4\n",
      "a1.1 0.0 10 0.06324555320336758 2 5\n",
      "a1.1 0.0 10 0.06324555320336758 2 6\n",
      "a1.1 0.0 10 0.06324555320336758 2 7\n",
      "a1.1 0.0 10 0.06324555320336758 2 8\n",
      "a1.1 0.0 10 0.06324555320336758 2 9\n",
      "a1.1 0.0 10 0.06324555320336758 2 10\n",
      "a1.1 0.0 10 0.06324555320336758 3 4\n",
      "a1.1 0.0 10 0.06324555320336758 3 5\n",
      "a1.1 0.0 10 0.06324555320336758 3 6\n",
      "a1.1 0.0 10 0.06324555320336758 3 7\n",
      "a1.1 0.0 10 0.06324555320336758 3 8\n",
      "a1.1 0.0 10 0.06324555320336758 3 9\n",
      "a1.1 0.0 10 0.06324555320336758 3 10\n",
      "a1.1 0.0 10 0.06324555320336758 4 5\n",
      "a1.1 0.0 10 0.06324555320336758 4 6\n",
      "a1.1 0.0 10 0.06324555320336758 4 7\n",
      "a1.1 0.0 10 0.06324555320336758 4 8\n",
      "a1.1 0.0 10 0.06324555320336758 4 9\n",
      "a1.1 0.0 10 0.06324555320336758 4 10\n",
      "a1.1 0.0 10 0.06324555320336758 5 6\n",
      "a1.1 0.0 10 0.06324555320336758 5 7\n",
      "a1.1 0.0 10 0.06324555320336758 5 8\n",
      "a1.1 0.0 10 0.06324555320336758 5 9\n",
      "a1.1 0.0 10 0.06324555320336758 5 10\n",
      "a1.1 0.0 10 0.06324555320336758 6 7\n",
      "a1.1 0.0 10 0.06324555320336758 6 8\n",
      "a1.1 0.0 10 0.06324555320336758 6 9\n",
      "a1.1 0.0 10 0.06324555320336758 6 10\n",
      "a1.1 0.0 10 0.06324555320336758 7 8\n",
      "a1.1 0.0 10 0.06324555320336758 7 9\n",
      "a1.1 0.0 10 0.06324555320336758 7 10\n",
      "a1.1 0.0 10 0.06324555320336758 8 9\n",
      "a1.1 0.0 10 0.06324555320336758 8 10\n",
      "a1.1 0.0 10 0.06324555320336758 9 10\n",
      "a1.1 0.0 10 0.09486832980505139 1 2\n",
      "a1.1 0.0 10 0.09486832980505139 1 3\n",
      "a1.1 0.0 10 0.09486832980505139 1 4\n",
      "a1.1 0.0 10 0.09486832980505139 1 5\n",
      "a1.1 0.0 10 0.09486832980505139 1 6\n",
      "a1.1 0.0 10 0.09486832980505139 1 7\n",
      "a1.1 0.0 10 0.09486832980505139 1 8\n",
      "a1.1 0.0 10 0.09486832980505139 1 9\n",
      "a1.1 0.0 10 0.09486832980505139 1 10\n",
      "a1.1 0.0 10 0.09486832980505139 2 3\n",
      "a1.1 0.0 10 0.09486832980505139 2 4\n",
      "a1.1 0.0 10 0.09486832980505139 2 5\n",
      "a1.1 0.0 10 0.09486832980505139 2 6\n",
      "a1.1 0.0 10 0.09486832980505139 2 7\n",
      "a1.1 0.0 10 0.09486832980505139 2 8\n",
      "a1.1 0.0 10 0.09486832980505139 2 9\n",
      "a1.1 0.0 10 0.09486832980505139 2 10\n",
      "a1.1 0.0 10 0.09486832980505139 3 4\n",
      "a1.1 0.0 10 0.09486832980505139 3 5\n",
      "a1.1 0.0 10 0.09486832980505139 3 6\n",
      "a1.1 0.0 10 0.09486832980505139 3 7\n",
      "a1.1 0.0 10 0.09486832980505139 3 8\n",
      "a1.1 0.0 10 0.09486832980505139 3 9\n",
      "a1.1 0.0 10 0.09486832980505139 3 10\n",
      "a1.1 0.0 10 0.09486832980505139 4 5\n",
      "a1.1 0.0 10 0.09486832980505139 4 6\n",
      "a1.1 0.0 10 0.09486832980505139 4 7\n",
      "a1.1 0.0 10 0.09486832980505139 4 8\n",
      "a1.1 0.0 10 0.09486832980505139 4 9\n",
      "a1.1 0.0 10 0.09486832980505139 4 10\n",
      "a1.1 0.0 10 0.09486832980505139 5 6\n",
      "a1.1 0.0 10 0.09486832980505139 5 7\n",
      "a1.1 0.0 10 0.09486832980505139 5 8\n",
      "a1.1 0.0 10 0.09486832980505139 5 9\n",
      "a1.1 0.0 10 0.09486832980505139 5 10\n",
      "a1.1 0.0 10 0.09486832980505139 6 7\n",
      "a1.1 0.0 10 0.09486832980505139 6 8\n",
      "a1.1 0.0 10 0.09486832980505139 6 9\n",
      "a1.1 0.0 10 0.09486832980505139 6 10\n",
      "a1.1 0.0 10 0.09486832980505139 7 8\n",
      "a1.1 0.0 10 0.09486832980505139 7 9\n",
      "a1.1 0.0 10 0.09486832980505139 7 10\n",
      "a1.1 0.0 10 0.09486832980505139 8 9\n",
      "a1.1 0.0 10 0.09486832980505139 8 10\n",
      "a1.1 0.0 10 0.09486832980505139 9 10\n",
      "a1.1 0.0 10 0.12649110640673517 1 2\n",
      "a1.1 0.0 10 0.12649110640673517 1 3\n",
      "a1.1 0.0 10 0.12649110640673517 1 4\n",
      "a1.1 0.0 10 0.12649110640673517 1 5\n",
      "a1.1 0.0 10 0.12649110640673517 1 6\n",
      "a1.1 0.0 10 0.12649110640673517 1 7\n",
      "a1.1 0.0 10 0.12649110640673517 1 8\n",
      "a1.1 0.0 10 0.12649110640673517 1 9\n",
      "a1.1 0.0 10 0.12649110640673517 1 10\n",
      "a1.1 0.0 10 0.12649110640673517 2 3\n",
      "a1.1 0.0 10 0.12649110640673517 2 4\n",
      "a1.1 0.0 10 0.12649110640673517 2 5\n",
      "a1.1 0.0 10 0.12649110640673517 2 6\n",
      "a1.1 0.0 10 0.12649110640673517 2 7\n",
      "a1.1 0.0 10 0.12649110640673517 2 8\n",
      "a1.1 0.0 10 0.12649110640673517 2 9\n",
      "a1.1 0.0 10 0.12649110640673517 2 10\n",
      "a1.1 0.0 10 0.12649110640673517 3 4\n",
      "a1.1 0.0 10 0.12649110640673517 3 5\n",
      "a1.1 0.0 10 0.12649110640673517 3 6\n",
      "a1.1 0.0 10 0.12649110640673517 3 7\n",
      "a1.1 0.0 10 0.12649110640673517 3 8\n",
      "a1.1 0.0 10 0.12649110640673517 3 9\n",
      "a1.1 0.0 10 0.12649110640673517 3 10\n",
      "a1.1 0.0 10 0.12649110640673517 4 5\n",
      "a1.1 0.0 10 0.12649110640673517 4 6\n",
      "a1.1 0.0 10 0.12649110640673517 4 7\n",
      "a1.1 0.0 10 0.12649110640673517 4 8\n",
      "a1.1 0.0 10 0.12649110640673517 4 9\n",
      "a1.1 0.0 10 0.12649110640673517 4 10\n",
      "a1.1 0.0 10 0.12649110640673517 5 6\n",
      "a1.1 0.0 10 0.12649110640673517 5 7\n",
      "a1.1 0.0 10 0.12649110640673517 5 8\n",
      "a1.1 0.0 10 0.12649110640673517 5 9\n",
      "a1.1 0.0 10 0.12649110640673517 5 10\n",
      "a1.1 0.0 10 0.12649110640673517 6 7\n",
      "a1.1 0.0 10 0.12649110640673517 6 8\n",
      "a1.1 0.0 10 0.12649110640673517 6 9\n",
      "a1.1 0.0 10 0.12649110640673517 6 10\n",
      "a1.1 0.0 10 0.12649110640673517 7 8\n",
      "a1.1 0.0 10 0.12649110640673517 7 9\n",
      "a1.1 0.0 10 0.12649110640673517 7 10\n",
      "a1.1 0.0 10 0.12649110640673517 8 9\n",
      "a1.1 0.0 10 0.12649110640673517 8 10\n",
      "a1.1 0.0 10 0.12649110640673517 9 10\n",
      "a1.1 0.0 10 0.15811388300841897 1 2\n",
      "a1.1 0.0 10 0.15811388300841897 1 3\n",
      "a1.1 0.0 10 0.15811388300841897 1 4\n",
      "a1.1 0.0 10 0.15811388300841897 1 5\n",
      "a1.1 0.0 10 0.15811388300841897 1 6\n",
      "a1.1 0.0 10 0.15811388300841897 1 7\n",
      "a1.1 0.0 10 0.15811388300841897 1 8\n",
      "a1.1 0.0 10 0.15811388300841897 1 9\n",
      "a1.1 0.0 10 0.15811388300841897 1 10\n",
      "a1.1 0.0 10 0.15811388300841897 2 3\n",
      "a1.1 0.0 10 0.15811388300841897 2 4\n",
      "a1.1 0.0 10 0.15811388300841897 2 5\n",
      "a1.1 0.0 10 0.15811388300841897 2 6\n",
      "a1.1 0.0 10 0.15811388300841897 2 7\n",
      "a1.1 0.0 10 0.15811388300841897 2 8\n",
      "a1.1 0.0 10 0.15811388300841897 2 9\n",
      "a1.1 0.0 10 0.15811388300841897 2 10\n",
      "a1.1 0.0 10 0.15811388300841897 3 4\n",
      "a1.1 0.0 10 0.15811388300841897 3 5\n",
      "a1.1 0.0 10 0.15811388300841897 3 6\n",
      "a1.1 0.0 10 0.15811388300841897 3 7\n",
      "a1.1 0.0 10 0.15811388300841897 3 8\n",
      "a1.1 0.0 10 0.15811388300841897 3 9\n",
      "a1.1 0.0 10 0.15811388300841897 3 10\n",
      "a1.1 0.0 10 0.15811388300841897 4 5\n",
      "a1.1 0.0 10 0.15811388300841897 4 6\n",
      "a1.1 0.0 10 0.15811388300841897 4 7\n",
      "a1.1 0.0 10 0.15811388300841897 4 8\n",
      "a1.1 0.0 10 0.15811388300841897 4 9\n",
      "a1.1 0.0 10 0.15811388300841897 4 10\n",
      "a1.1 0.0 10 0.15811388300841897 5 6\n",
      "a1.1 0.0 10 0.15811388300841897 5 7\n",
      "a1.1 0.0 10 0.15811388300841897 5 8\n",
      "a1.1 0.0 10 0.15811388300841897 5 9\n",
      "a1.1 0.0 10 0.15811388300841897 5 10\n",
      "a1.1 0.0 10 0.15811388300841897 6 7\n",
      "a1.1 0.0 10 0.15811388300841897 6 8\n",
      "a1.1 0.0 10 0.15811388300841897 6 9\n",
      "a1.1 0.0 10 0.15811388300841897 6 10\n",
      "a1.1 0.0 10 0.15811388300841897 7 8\n",
      "a1.1 0.0 10 0.15811388300841897 7 9\n",
      "a"
     ]
    },
    {
     "ename": "KeyboardInterrupt",
     "evalue": "",
     "output_type": "error",
     "traceback": [
      "\u001b[0;31m---------------------------------------------------------------------------\u001b[0m",
      "\u001b[0;31mKeyboardInterrupt\u001b[0m                         Traceback (most recent call last)",
      "Cell \u001b[0;32mIn[24], line 10\u001b[0m\n\u001b[1;32m      8\u001b[0m \u001b[39mfor\u001b[39;00m i_v \u001b[39min\u001b[39;00m \u001b[39mrange\u001b[39m(k_v\u001b[39m+\u001b[39m\u001b[39m1\u001b[39m, s_v\u001b[39m+\u001b[39m\u001b[39m1\u001b[39m):\n\u001b[1;32m      9\u001b[0m     \u001b[39mprint\u001b[39m(\u001b[39m\"\u001b[39m\u001b[39ma\u001b[39m\u001b[39m\"\u001b[39m, end\u001b[39m=\u001b[39m\u001b[39m\"\u001b[39m\u001b[39m\"\u001b[39m)\n\u001b[0;32m---> 10\u001b[0m     \u001b[39mif\u001b[39;00m tmp\u001b[39m.\u001b[39;49mevalf(subs\u001b[39m=\u001b[39;49m{i:i_v, M:M_v, v:v_v, c:c_v, s:s_v, k:k_v}) \u001b[39m>\u001b[39m\u001b[39m=\u001b[39m \u001b[39m0\u001b[39m:\n\u001b[1;32m     11\u001b[0m         \u001b[39mprint\u001b[39m(M_v, v_v, s_v, c_v, k_v, i_v)\n",
      "File \u001b[0;32m~/miniconda3/envs/scope/lib/python3.10/site-packages/sympy/core/evalf.py:1647\u001b[0m, in \u001b[0;36mEvalfMixin.evalf\u001b[0;34m(self, n, subs, maxn, chop, strict, quad, verbose)\u001b[0m\n\u001b[1;32m   1645\u001b[0m     options[\u001b[39m'\u001b[39m\u001b[39mquad\u001b[39m\u001b[39m'\u001b[39m] \u001b[39m=\u001b[39m quad\n\u001b[1;32m   1646\u001b[0m \u001b[39mtry\u001b[39;00m:\n\u001b[0;32m-> 1647\u001b[0m     result \u001b[39m=\u001b[39m evalf(\u001b[39mself\u001b[39;49m, prec \u001b[39m+\u001b[39;49m \u001b[39m4\u001b[39;49m, options)\n\u001b[1;32m   1648\u001b[0m \u001b[39mexcept\u001b[39;00m \u001b[39mNotImplementedError\u001b[39;00m:\n\u001b[1;32m   1649\u001b[0m     \u001b[39m# Fall back to the ordinary evalf\u001b[39;00m\n\u001b[1;32m   1650\u001b[0m     \u001b[39mif\u001b[39;00m \u001b[39mhasattr\u001b[39m(\u001b[39mself\u001b[39m, \u001b[39m'\u001b[39m\u001b[39msubs\u001b[39m\u001b[39m'\u001b[39m) \u001b[39mand\u001b[39;00m subs \u001b[39mis\u001b[39;00m \u001b[39mnot\u001b[39;00m \u001b[39mNone\u001b[39;00m:  \u001b[39m# issue 20291\u001b[39;00m\n",
      "File \u001b[0;32m~/miniconda3/envs/scope/lib/python3.10/site-packages/sympy/core/evalf.py:1482\u001b[0m, in \u001b[0;36mevalf\u001b[0;34m(x, prec, options)\u001b[0m\n\u001b[1;32m   1480\u001b[0m \u001b[39mtry\u001b[39;00m:\n\u001b[1;32m   1481\u001b[0m     rf \u001b[39m=\u001b[39m evalf_table[\u001b[39mtype\u001b[39m(x)]\n\u001b[0;32m-> 1482\u001b[0m     r \u001b[39m=\u001b[39m rf(x, prec, options)\n\u001b[1;32m   1483\u001b[0m \u001b[39mexcept\u001b[39;00m \u001b[39mKeyError\u001b[39;00m:\n\u001b[1;32m   1484\u001b[0m     \u001b[39m# Fall back to ordinary evalf if possible\u001b[39;00m\n\u001b[1;32m   1485\u001b[0m     \u001b[39mif\u001b[39;00m \u001b[39m'\u001b[39m\u001b[39msubs\u001b[39m\u001b[39m'\u001b[39m \u001b[39min\u001b[39;00m options:\n",
      "File \u001b[0;32m~/miniconda3/envs/scope/lib/python3.10/site-packages/sympy/core/evalf.py:696\u001b[0m, in \u001b[0;36mevalf_mul\u001b[0;34m(v, prec, options)\u001b[0m\n\u001b[1;32m    694\u001b[0m \u001b[39melif\u001b[39;00m i \u001b[39m==\u001b[39m last \u001b[39mand\u001b[39;00m arg \u001b[39mis\u001b[39;00m S\u001b[39m.\u001b[39mOne:\n\u001b[1;32m    695\u001b[0m     \u001b[39mcontinue\u001b[39;00m\n\u001b[0;32m--> 696\u001b[0m re, im, re_acc, im_acc \u001b[39m=\u001b[39m evalf(arg, working_prec, options)\n\u001b[1;32m    697\u001b[0m \u001b[39mif\u001b[39;00m re \u001b[39mand\u001b[39;00m im:\n\u001b[1;32m    698\u001b[0m     complex_factors\u001b[39m.\u001b[39mappend((re, im, re_acc, im_acc))\n",
      "File \u001b[0;32m~/miniconda3/envs/scope/lib/python3.10/site-packages/sympy/core/evalf.py:1482\u001b[0m, in \u001b[0;36mevalf\u001b[0;34m(x, prec, options)\u001b[0m\n\u001b[1;32m   1480\u001b[0m \u001b[39mtry\u001b[39;00m:\n\u001b[1;32m   1481\u001b[0m     rf \u001b[39m=\u001b[39m evalf_table[\u001b[39mtype\u001b[39m(x)]\n\u001b[0;32m-> 1482\u001b[0m     r \u001b[39m=\u001b[39m rf(x, prec, options)\n\u001b[1;32m   1483\u001b[0m \u001b[39mexcept\u001b[39;00m \u001b[39mKeyError\u001b[39;00m:\n\u001b[1;32m   1484\u001b[0m     \u001b[39m# Fall back to ordinary evalf if possible\u001b[39;00m\n\u001b[1;32m   1485\u001b[0m     \u001b[39mif\u001b[39;00m \u001b[39m'\u001b[39m\u001b[39msubs\u001b[39m\u001b[39m'\u001b[39m \u001b[39min\u001b[39;00m options:\n",
      "File \u001b[0;32m~/miniconda3/envs/scope/lib/python3.10/site-packages/sympy/core/evalf.py:600\u001b[0m, in \u001b[0;36mevalf_add\u001b[0;34m(v, prec, options)\u001b[0m\n\u001b[1;32m    597\u001b[0m \u001b[39mwhile\u001b[39;00m \u001b[39m1\u001b[39m:\n\u001b[1;32m    598\u001b[0m     options[\u001b[39m'\u001b[39m\u001b[39mmaxprec\u001b[39m\u001b[39m'\u001b[39m] \u001b[39m=\u001b[39m \u001b[39mmin\u001b[39m(oldmaxprec, \u001b[39m2\u001b[39m\u001b[39m*\u001b[39mprec)\n\u001b[0;32m--> 600\u001b[0m     terms \u001b[39m=\u001b[39m [evalf(arg, prec \u001b[39m+\u001b[39m \u001b[39m10\u001b[39m, options) \u001b[39mfor\u001b[39;00m arg \u001b[39min\u001b[39;00m v\u001b[39m.\u001b[39margs]\n\u001b[1;32m    601\u001b[0m     n \u001b[39m=\u001b[39m terms\u001b[39m.\u001b[39mcount(S\u001b[39m.\u001b[39mComplexInfinity)\n\u001b[1;32m    602\u001b[0m     \u001b[39mif\u001b[39;00m n \u001b[39m>\u001b[39m\u001b[39m=\u001b[39m \u001b[39m2\u001b[39m:\n",
      "File \u001b[0;32m~/miniconda3/envs/scope/lib/python3.10/site-packages/sympy/core/evalf.py:600\u001b[0m, in \u001b[0;36m<listcomp>\u001b[0;34m(.0)\u001b[0m\n\u001b[1;32m    597\u001b[0m \u001b[39mwhile\u001b[39;00m \u001b[39m1\u001b[39m:\n\u001b[1;32m    598\u001b[0m     options[\u001b[39m'\u001b[39m\u001b[39mmaxprec\u001b[39m\u001b[39m'\u001b[39m] \u001b[39m=\u001b[39m \u001b[39mmin\u001b[39m(oldmaxprec, \u001b[39m2\u001b[39m\u001b[39m*\u001b[39mprec)\n\u001b[0;32m--> 600\u001b[0m     terms \u001b[39m=\u001b[39m [evalf(arg, prec \u001b[39m+\u001b[39;49m \u001b[39m10\u001b[39;49m, options) \u001b[39mfor\u001b[39;00m arg \u001b[39min\u001b[39;00m v\u001b[39m.\u001b[39margs]\n\u001b[1;32m    601\u001b[0m     n \u001b[39m=\u001b[39m terms\u001b[39m.\u001b[39mcount(S\u001b[39m.\u001b[39mComplexInfinity)\n\u001b[1;32m    602\u001b[0m     \u001b[39mif\u001b[39;00m n \u001b[39m>\u001b[39m\u001b[39m=\u001b[39m \u001b[39m2\u001b[39m:\n",
      "File \u001b[0;32m~/miniconda3/envs/scope/lib/python3.10/site-packages/sympy/core/evalf.py:1482\u001b[0m, in \u001b[0;36mevalf\u001b[0;34m(x, prec, options)\u001b[0m\n\u001b[1;32m   1480\u001b[0m \u001b[39mtry\u001b[39;00m:\n\u001b[1;32m   1481\u001b[0m     rf \u001b[39m=\u001b[39m evalf_table[\u001b[39mtype\u001b[39m(x)]\n\u001b[0;32m-> 1482\u001b[0m     r \u001b[39m=\u001b[39m rf(x, prec, options)\n\u001b[1;32m   1483\u001b[0m \u001b[39mexcept\u001b[39;00m \u001b[39mKeyError\u001b[39;00m:\n\u001b[1;32m   1484\u001b[0m     \u001b[39m# Fall back to ordinary evalf if possible\u001b[39;00m\n\u001b[1;32m   1485\u001b[0m     \u001b[39mif\u001b[39;00m \u001b[39m'\u001b[39m\u001b[39msubs\u001b[39m\u001b[39m'\u001b[39m \u001b[39min\u001b[39;00m options:\n",
      "File \u001b[0;32m~/miniconda3/envs/scope/lib/python3.10/site-packages/sympy/core/evalf.py:648\u001b[0m, in \u001b[0;36mevalf_mul\u001b[0;34m(v, prec, options)\u001b[0m\n\u001b[1;32m    646\u001b[0m \u001b[39mfrom\u001b[39;00m \u001b[39m.\u001b[39;00m\u001b[39mnumbers\u001b[39;00m \u001b[39mimport\u001b[39;00m Float\n\u001b[1;32m    647\u001b[0m \u001b[39mfor\u001b[39;00m arg \u001b[39min\u001b[39;00m args:\n\u001b[0;32m--> 648\u001b[0m     result \u001b[39m=\u001b[39m evalf(arg, prec, options)\n\u001b[1;32m    649\u001b[0m     \u001b[39mif\u001b[39;00m result \u001b[39mis\u001b[39;00m S\u001b[39m.\u001b[39mComplexInfinity:\n\u001b[1;32m    650\u001b[0m         special\u001b[39m.\u001b[39mappend(result)\n",
      "File \u001b[0;32m~/miniconda3/envs/scope/lib/python3.10/site-packages/sympy/core/evalf.py:1482\u001b[0m, in \u001b[0;36mevalf\u001b[0;34m(x, prec, options)\u001b[0m\n\u001b[1;32m   1480\u001b[0m \u001b[39mtry\u001b[39;00m:\n\u001b[1;32m   1481\u001b[0m     rf \u001b[39m=\u001b[39m evalf_table[\u001b[39mtype\u001b[39m(x)]\n\u001b[0;32m-> 1482\u001b[0m     r \u001b[39m=\u001b[39m rf(x, prec, options)\n\u001b[1;32m   1483\u001b[0m \u001b[39mexcept\u001b[39;00m \u001b[39mKeyError\u001b[39;00m:\n\u001b[1;32m   1484\u001b[0m     \u001b[39m# Fall back to ordinary evalf if possible\u001b[39;00m\n\u001b[1;32m   1485\u001b[0m     \u001b[39mif\u001b[39;00m \u001b[39m'\u001b[39m\u001b[39msubs\u001b[39m\u001b[39m'\u001b[39m \u001b[39min\u001b[39;00m options:\n",
      "File \u001b[0;32m~/miniconda3/envs/scope/lib/python3.10/site-packages/sympy/core/evalf.py:600\u001b[0m, in \u001b[0;36mevalf_add\u001b[0;34m(v, prec, options)\u001b[0m\n\u001b[1;32m    597\u001b[0m \u001b[39mwhile\u001b[39;00m \u001b[39m1\u001b[39m:\n\u001b[1;32m    598\u001b[0m     options[\u001b[39m'\u001b[39m\u001b[39mmaxprec\u001b[39m\u001b[39m'\u001b[39m] \u001b[39m=\u001b[39m \u001b[39mmin\u001b[39m(oldmaxprec, \u001b[39m2\u001b[39m\u001b[39m*\u001b[39mprec)\n\u001b[0;32m--> 600\u001b[0m     terms \u001b[39m=\u001b[39m [evalf(arg, prec \u001b[39m+\u001b[39m \u001b[39m10\u001b[39m, options) \u001b[39mfor\u001b[39;00m arg \u001b[39min\u001b[39;00m v\u001b[39m.\u001b[39margs]\n\u001b[1;32m    601\u001b[0m     n \u001b[39m=\u001b[39m terms\u001b[39m.\u001b[39mcount(S\u001b[39m.\u001b[39mComplexInfinity)\n\u001b[1;32m    602\u001b[0m     \u001b[39mif\u001b[39;00m n \u001b[39m>\u001b[39m\u001b[39m=\u001b[39m \u001b[39m2\u001b[39m:\n",
      "File \u001b[0;32m~/miniconda3/envs/scope/lib/python3.10/site-packages/sympy/core/evalf.py:600\u001b[0m, in \u001b[0;36m<listcomp>\u001b[0;34m(.0)\u001b[0m\n\u001b[1;32m    597\u001b[0m \u001b[39mwhile\u001b[39;00m \u001b[39m1\u001b[39m:\n\u001b[1;32m    598\u001b[0m     options[\u001b[39m'\u001b[39m\u001b[39mmaxprec\u001b[39m\u001b[39m'\u001b[39m] \u001b[39m=\u001b[39m \u001b[39mmin\u001b[39m(oldmaxprec, \u001b[39m2\u001b[39m\u001b[39m*\u001b[39mprec)\n\u001b[0;32m--> 600\u001b[0m     terms \u001b[39m=\u001b[39m [evalf(arg, prec \u001b[39m+\u001b[39;49m \u001b[39m10\u001b[39;49m, options) \u001b[39mfor\u001b[39;00m arg \u001b[39min\u001b[39;00m v\u001b[39m.\u001b[39margs]\n\u001b[1;32m    601\u001b[0m     n \u001b[39m=\u001b[39m terms\u001b[39m.\u001b[39mcount(S\u001b[39m.\u001b[39mComplexInfinity)\n\u001b[1;32m    602\u001b[0m     \u001b[39mif\u001b[39;00m n \u001b[39m>\u001b[39m\u001b[39m=\u001b[39m \u001b[39m2\u001b[39m:\n",
      "File \u001b[0;32m~/miniconda3/envs/scope/lib/python3.10/site-packages/sympy/core/evalf.py:1482\u001b[0m, in \u001b[0;36mevalf\u001b[0;34m(x, prec, options)\u001b[0m\n\u001b[1;32m   1480\u001b[0m \u001b[39mtry\u001b[39;00m:\n\u001b[1;32m   1481\u001b[0m     rf \u001b[39m=\u001b[39m evalf_table[\u001b[39mtype\u001b[39m(x)]\n\u001b[0;32m-> 1482\u001b[0m     r \u001b[39m=\u001b[39m rf(x, prec, options)\n\u001b[1;32m   1483\u001b[0m \u001b[39mexcept\u001b[39;00m \u001b[39mKeyError\u001b[39;00m:\n\u001b[1;32m   1484\u001b[0m     \u001b[39m# Fall back to ordinary evalf if possible\u001b[39;00m\n\u001b[1;32m   1485\u001b[0m     \u001b[39mif\u001b[39;00m \u001b[39m'\u001b[39m\u001b[39msubs\u001b[39m\u001b[39m'\u001b[39m \u001b[39min\u001b[39;00m options:\n",
      "File \u001b[0;32m~/miniconda3/envs/scope/lib/python3.10/site-packages/sympy/core/evalf.py:648\u001b[0m, in \u001b[0;36mevalf_mul\u001b[0;34m(v, prec, options)\u001b[0m\n\u001b[1;32m    646\u001b[0m \u001b[39mfrom\u001b[39;00m \u001b[39m.\u001b[39;00m\u001b[39mnumbers\u001b[39;00m \u001b[39mimport\u001b[39;00m Float\n\u001b[1;32m    647\u001b[0m \u001b[39mfor\u001b[39;00m arg \u001b[39min\u001b[39;00m args:\n\u001b[0;32m--> 648\u001b[0m     result \u001b[39m=\u001b[39m evalf(arg, prec, options)\n\u001b[1;32m    649\u001b[0m     \u001b[39mif\u001b[39;00m result \u001b[39mis\u001b[39;00m S\u001b[39m.\u001b[39mComplexInfinity:\n\u001b[1;32m    650\u001b[0m         special\u001b[39m.\u001b[39mappend(result)\n",
      "File \u001b[0;32m~/miniconda3/envs/scope/lib/python3.10/site-packages/sympy/core/evalf.py:1482\u001b[0m, in \u001b[0;36mevalf\u001b[0;34m(x, prec, options)\u001b[0m\n\u001b[1;32m   1480\u001b[0m \u001b[39mtry\u001b[39;00m:\n\u001b[1;32m   1481\u001b[0m     rf \u001b[39m=\u001b[39m evalf_table[\u001b[39mtype\u001b[39m(x)]\n\u001b[0;32m-> 1482\u001b[0m     r \u001b[39m=\u001b[39m rf(x, prec, options)\n\u001b[1;32m   1483\u001b[0m \u001b[39mexcept\u001b[39;00m \u001b[39mKeyError\u001b[39;00m:\n\u001b[1;32m   1484\u001b[0m     \u001b[39m# Fall back to ordinary evalf if possible\u001b[39;00m\n\u001b[1;32m   1485\u001b[0m     \u001b[39mif\u001b[39;00m \u001b[39m'\u001b[39m\u001b[39msubs\u001b[39m\u001b[39m'\u001b[39m \u001b[39min\u001b[39;00m options:\n",
      "File \u001b[0;32m~/miniconda3/envs/scope/lib/python3.10/site-packages/sympy/core/evalf.py:600\u001b[0m, in \u001b[0;36mevalf_add\u001b[0;34m(v, prec, options)\u001b[0m\n\u001b[1;32m    597\u001b[0m \u001b[39mwhile\u001b[39;00m \u001b[39m1\u001b[39m:\n\u001b[1;32m    598\u001b[0m     options[\u001b[39m'\u001b[39m\u001b[39mmaxprec\u001b[39m\u001b[39m'\u001b[39m] \u001b[39m=\u001b[39m \u001b[39mmin\u001b[39m(oldmaxprec, \u001b[39m2\u001b[39m\u001b[39m*\u001b[39mprec)\n\u001b[0;32m--> 600\u001b[0m     terms \u001b[39m=\u001b[39m [evalf(arg, prec \u001b[39m+\u001b[39m \u001b[39m10\u001b[39m, options) \u001b[39mfor\u001b[39;00m arg \u001b[39min\u001b[39;00m v\u001b[39m.\u001b[39margs]\n\u001b[1;32m    601\u001b[0m     n \u001b[39m=\u001b[39m terms\u001b[39m.\u001b[39mcount(S\u001b[39m.\u001b[39mComplexInfinity)\n\u001b[1;32m    602\u001b[0m     \u001b[39mif\u001b[39;00m n \u001b[39m>\u001b[39m\u001b[39m=\u001b[39m \u001b[39m2\u001b[39m:\n",
      "File \u001b[0;32m~/miniconda3/envs/scope/lib/python3.10/site-packages/sympy/core/evalf.py:600\u001b[0m, in \u001b[0;36m<listcomp>\u001b[0;34m(.0)\u001b[0m\n\u001b[1;32m    597\u001b[0m \u001b[39mwhile\u001b[39;00m \u001b[39m1\u001b[39m:\n\u001b[1;32m    598\u001b[0m     options[\u001b[39m'\u001b[39m\u001b[39mmaxprec\u001b[39m\u001b[39m'\u001b[39m] \u001b[39m=\u001b[39m \u001b[39mmin\u001b[39m(oldmaxprec, \u001b[39m2\u001b[39m\u001b[39m*\u001b[39mprec)\n\u001b[0;32m--> 600\u001b[0m     terms \u001b[39m=\u001b[39m [evalf(arg, prec \u001b[39m+\u001b[39;49m \u001b[39m10\u001b[39;49m, options) \u001b[39mfor\u001b[39;00m arg \u001b[39min\u001b[39;00m v\u001b[39m.\u001b[39margs]\n\u001b[1;32m    601\u001b[0m     n \u001b[39m=\u001b[39m terms\u001b[39m.\u001b[39mcount(S\u001b[39m.\u001b[39mComplexInfinity)\n\u001b[1;32m    602\u001b[0m     \u001b[39mif\u001b[39;00m n \u001b[39m>\u001b[39m\u001b[39m=\u001b[39m \u001b[39m2\u001b[39m:\n",
      "File \u001b[0;32m~/miniconda3/envs/scope/lib/python3.10/site-packages/sympy/core/evalf.py:1482\u001b[0m, in \u001b[0;36mevalf\u001b[0;34m(x, prec, options)\u001b[0m\n\u001b[1;32m   1480\u001b[0m \u001b[39mtry\u001b[39;00m:\n\u001b[1;32m   1481\u001b[0m     rf \u001b[39m=\u001b[39m evalf_table[\u001b[39mtype\u001b[39m(x)]\n\u001b[0;32m-> 1482\u001b[0m     r \u001b[39m=\u001b[39m rf(x, prec, options)\n\u001b[1;32m   1483\u001b[0m \u001b[39mexcept\u001b[39;00m \u001b[39mKeyError\u001b[39;00m:\n\u001b[1;32m   1484\u001b[0m     \u001b[39m# Fall back to ordinary evalf if possible\u001b[39;00m\n\u001b[1;32m   1485\u001b[0m     \u001b[39mif\u001b[39;00m \u001b[39m'\u001b[39m\u001b[39msubs\u001b[39m\u001b[39m'\u001b[39m \u001b[39min\u001b[39;00m options:\n",
      "File \u001b[0;32m~/miniconda3/envs/scope/lib/python3.10/site-packages/sympy/core/evalf.py:696\u001b[0m, in \u001b[0;36mevalf_mul\u001b[0;34m(v, prec, options)\u001b[0m\n\u001b[1;32m    694\u001b[0m \u001b[39melif\u001b[39;00m i \u001b[39m==\u001b[39m last \u001b[39mand\u001b[39;00m arg \u001b[39mis\u001b[39;00m S\u001b[39m.\u001b[39mOne:\n\u001b[1;32m    695\u001b[0m     \u001b[39mcontinue\u001b[39;00m\n\u001b[0;32m--> 696\u001b[0m re, im, re_acc, im_acc \u001b[39m=\u001b[39m evalf(arg, working_prec, options)\n\u001b[1;32m    697\u001b[0m \u001b[39mif\u001b[39;00m re \u001b[39mand\u001b[39;00m im:\n\u001b[1;32m    698\u001b[0m     complex_factors\u001b[39m.\u001b[39mappend((re, im, re_acc, im_acc))\n",
      "File \u001b[0;32m~/miniconda3/envs/scope/lib/python3.10/site-packages/sympy/core/evalf.py:1482\u001b[0m, in \u001b[0;36mevalf\u001b[0;34m(x, prec, options)\u001b[0m\n\u001b[1;32m   1480\u001b[0m \u001b[39mtry\u001b[39;00m:\n\u001b[1;32m   1481\u001b[0m     rf \u001b[39m=\u001b[39m evalf_table[\u001b[39mtype\u001b[39m(x)]\n\u001b[0;32m-> 1482\u001b[0m     r \u001b[39m=\u001b[39m rf(x, prec, options)\n\u001b[1;32m   1483\u001b[0m \u001b[39mexcept\u001b[39;00m \u001b[39mKeyError\u001b[39;00m:\n\u001b[1;32m   1484\u001b[0m     \u001b[39m# Fall back to ordinary evalf if possible\u001b[39;00m\n\u001b[1;32m   1485\u001b[0m     \u001b[39mif\u001b[39;00m \u001b[39m'\u001b[39m\u001b[39msubs\u001b[39m\u001b[39m'\u001b[39m \u001b[39min\u001b[39;00m options:\n",
      "File \u001b[0;32m~/miniconda3/envs/scope/lib/python3.10/site-packages/sympy/core/evalf.py:807\u001b[0m, in \u001b[0;36mevalf_pow\u001b[0;34m(v, prec, options)\u001b[0m\n\u001b[1;32m    804\u001b[0m     \u001b[39m# Assumes full accuracy in input\u001b[39;00m\n\u001b[1;32m    805\u001b[0m     \u001b[39mreturn\u001b[39;00m finalize_complex(re, im, target_prec)\n\u001b[0;32m--> 807\u001b[0m result \u001b[39m=\u001b[39m evalf(base, prec \u001b[39m+\u001b[39;49m \u001b[39m5\u001b[39;49m, options)\n\u001b[1;32m    808\u001b[0m \u001b[39mif\u001b[39;00m result \u001b[39mis\u001b[39;00m S\u001b[39m.\u001b[39mComplexInfinity:\n\u001b[1;32m    809\u001b[0m     \u001b[39mif\u001b[39;00m exp\u001b[39m.\u001b[39mis_Rational:\n",
      "File \u001b[0;32m~/miniconda3/envs/scope/lib/python3.10/site-packages/sympy/core/evalf.py:1482\u001b[0m, in \u001b[0;36mevalf\u001b[0;34m(x, prec, options)\u001b[0m\n\u001b[1;32m   1480\u001b[0m \u001b[39mtry\u001b[39;00m:\n\u001b[1;32m   1481\u001b[0m     rf \u001b[39m=\u001b[39m evalf_table[\u001b[39mtype\u001b[39m(x)]\n\u001b[0;32m-> 1482\u001b[0m     r \u001b[39m=\u001b[39m rf(x, prec, options)\n\u001b[1;32m   1483\u001b[0m \u001b[39mexcept\u001b[39;00m \u001b[39mKeyError\u001b[39;00m:\n\u001b[1;32m   1484\u001b[0m     \u001b[39m# Fall back to ordinary evalf if possible\u001b[39;00m\n\u001b[1;32m   1485\u001b[0m     \u001b[39mif\u001b[39;00m \u001b[39m'\u001b[39m\u001b[39msubs\u001b[39m\u001b[39m'\u001b[39m \u001b[39min\u001b[39;00m options:\n",
      "File \u001b[0;32m~/miniconda3/envs/scope/lib/python3.10/site-packages/sympy/core/evalf.py:696\u001b[0m, in \u001b[0;36mevalf_mul\u001b[0;34m(v, prec, options)\u001b[0m\n\u001b[1;32m    694\u001b[0m \u001b[39melif\u001b[39;00m i \u001b[39m==\u001b[39m last \u001b[39mand\u001b[39;00m arg \u001b[39mis\u001b[39;00m S\u001b[39m.\u001b[39mOne:\n\u001b[1;32m    695\u001b[0m     \u001b[39mcontinue\u001b[39;00m\n\u001b[0;32m--> 696\u001b[0m re, im, re_acc, im_acc \u001b[39m=\u001b[39m evalf(arg, working_prec, options)\n\u001b[1;32m    697\u001b[0m \u001b[39mif\u001b[39;00m re \u001b[39mand\u001b[39;00m im:\n\u001b[1;32m    698\u001b[0m     complex_factors\u001b[39m.\u001b[39mappend((re, im, re_acc, im_acc))\n",
      "File \u001b[0;32m~/miniconda3/envs/scope/lib/python3.10/site-packages/sympy/core/evalf.py:1482\u001b[0m, in \u001b[0;36mevalf\u001b[0;34m(x, prec, options)\u001b[0m\n\u001b[1;32m   1480\u001b[0m \u001b[39mtry\u001b[39;00m:\n\u001b[1;32m   1481\u001b[0m     rf \u001b[39m=\u001b[39m evalf_table[\u001b[39mtype\u001b[39m(x)]\n\u001b[0;32m-> 1482\u001b[0m     r \u001b[39m=\u001b[39m rf(x, prec, options)\n\u001b[1;32m   1483\u001b[0m \u001b[39mexcept\u001b[39;00m \u001b[39mKeyError\u001b[39;00m:\n\u001b[1;32m   1484\u001b[0m     \u001b[39m# Fall back to ordinary evalf if possible\u001b[39;00m\n\u001b[1;32m   1485\u001b[0m     \u001b[39mif\u001b[39;00m \u001b[39m'\u001b[39m\u001b[39msubs\u001b[39m\u001b[39m'\u001b[39m \u001b[39min\u001b[39;00m options:\n",
      "File \u001b[0;32m~/miniconda3/envs/scope/lib/python3.10/site-packages/sympy/core/evalf.py:784\u001b[0m, in \u001b[0;36mevalf_pow\u001b[0;34m(v, prec, options)\u001b[0m\n\u001b[1;32m    782\u001b[0m \u001b[39m# Real to integer power\u001b[39;00m\n\u001b[1;32m    783\u001b[0m \u001b[39mif\u001b[39;00m re \u001b[39mand\u001b[39;00m \u001b[39mnot\u001b[39;00m im:\n\u001b[0;32m--> 784\u001b[0m     \u001b[39mreturn\u001b[39;00m mpf_pow_int(re, p, target_prec), \u001b[39mNone\u001b[39;00m, target_prec, \u001b[39mNone\u001b[39;00m\n\u001b[1;32m    785\u001b[0m \u001b[39m# (x*I)**n = I**n * x**n\u001b[39;00m\n\u001b[1;32m    786\u001b[0m \u001b[39mif\u001b[39;00m im \u001b[39mand\u001b[39;00m \u001b[39mnot\u001b[39;00m re:\n",
      "File \u001b[0;32m~/miniconda3/envs/scope/lib/python3.10/site-packages/mpmath/libmp/libmpf.py:1070\u001b[0m, in \u001b[0;36mmpf_pow_int\u001b[0;34m(s, n, prec, rnd)\u001b[0m\n\u001b[1;32m   1068\u001b[0m     bc \u001b[39m+\u001b[39m\u001b[39m=\u001b[39m bctable[\u001b[39mint\u001b[39m(man\u001b[39m>>\u001b[39mbc)]\n\u001b[1;32m   1069\u001b[0m     \u001b[39mreturn\u001b[39;00m normalize1(\u001b[39m0\u001b[39m, man, exp\u001b[39m+\u001b[39mexp, bc, prec, rnd)\n\u001b[0;32m-> 1070\u001b[0m \u001b[39mif\u001b[39;00m n \u001b[39m==\u001b[39m \u001b[39m-\u001b[39m\u001b[39m1\u001b[39m: \u001b[39mreturn\u001b[39;00m mpf_div(fone, s, prec, rnd)\n\u001b[1;32m   1071\u001b[0m \u001b[39mif\u001b[39;00m n \u001b[39m<\u001b[39m \u001b[39m0\u001b[39m:\n\u001b[1;32m   1072\u001b[0m     inverse \u001b[39m=\u001b[39m mpf_pow_int(s, \u001b[39m-\u001b[39mn, prec\u001b[39m+\u001b[39m\u001b[39m5\u001b[39m, reciprocal_rnd[rnd])\n",
      "File \u001b[0;32m~/miniconda3/envs/scope/lib/python3.10/site-packages/mpmath/libmp/libmpf.py:980\u001b[0m, in \u001b[0;36mmpf_div\u001b[0;34m(s, t, prec, rnd)\u001b[0m\n\u001b[1;32m    978\u001b[0m \u001b[39mif\u001b[39;00m extra \u001b[39m<\u001b[39m \u001b[39m5\u001b[39m:\n\u001b[1;32m    979\u001b[0m     extra \u001b[39m=\u001b[39m \u001b[39m5\u001b[39m\n\u001b[0;32m--> 980\u001b[0m quot, rem \u001b[39m=\u001b[39m \u001b[39mdivmod\u001b[39;49m(sman\u001b[39m<<\u001b[39;49mextra, tman)\n\u001b[1;32m    981\u001b[0m \u001b[39mif\u001b[39;00m rem:\n\u001b[1;32m    982\u001b[0m     quot \u001b[39m=\u001b[39m (quot\u001b[39m<<\u001b[39m\u001b[39m1\u001b[39m) \u001b[39m+\u001b[39m \u001b[39m1\u001b[39m\n",
      "\u001b[0;31mKeyboardInterrupt\u001b[0m: "
     ]
    }
   ],
   "source": [
    "import numpy as np\n",
    "for M_v in np.arange(1, 1.4, 0.1):\n",
    "    for v_v in np.arange(0, (M_v-1)/2, 0.1):\n",
    "        for s_v in np.arange(10, 100):\n",
    "            for c_v in np.arange(0, 1, 0.1):\n",
    "                c_v /= np.sqrt(s_v)\n",
    "                for k_v in range(1, s_v):\n",
    "                    for i_v in range(k_v+1, s_v+1):\n",
    "                        print(\"a\", end=\"\")\n",
    "                        if tmp.evalf(subs={i:i_v, M:M_v, v:v_v, c:c_v, s:s_v, k:k_v}) >= 0:\n",
    "                            print(M_v, v_v, s_v, c_v, k_v, i_v)\n",
    "                                             \n"
   ]
  },
  {
   "cell_type": "code",
   "execution_count": 22,
   "metadata": {},
   "outputs": [],
   "source": [
    "delta_square_i = diff(delta_square, i)\n",
    "tmp = simplify(delta_square_i) "
   ]
  },
  {
   "cell_type": "code",
   "execution_count": 12,
   "metadata": {},
   "outputs": [
    {
     "data": {
      "text/latex": [
       "$\\displaystyle i \\left(2 c + v \\left(c \\sqrt{\\frac{s}{i}} + v\\right) \\left(\\sqrt{\\frac{i}{k}} + 1\\right) + \\sqrt{\\frac{i}{k}} \\sqrt{M^{2} + v^{2}}\\right) \\left(- c v \\sqrt{\\frac{s}{i}} \\left(\\sqrt{\\frac{i}{k}} + 1\\right) + v \\sqrt{\\frac{i}{k}} \\left(c \\sqrt{\\frac{s}{i}} + v\\right) + \\sqrt{\\frac{i}{k}} \\sqrt{M^{2} + v^{2}}\\right) - \\left(c \\sqrt{\\frac{s}{i}} + v\\right) \\left(c \\sqrt{\\frac{s}{i}} \\left(i + k\\right) + k \\left(c \\sqrt{\\frac{s}{i}} + v\\right)\\right)$"
      ],
      "text/plain": [
       "i*(2*c + v*(c*sqrt(s/i) + v)*(sqrt(i/k) + 1) + sqrt(i/k)*sqrt(M**2 + v**2))*(-c*v*sqrt(s/i)*(sqrt(i/k) + 1) + v*sqrt(i/k)*(c*sqrt(s/i) + v) + sqrt(i/k)*sqrt(M**2 + v**2)) - (c*sqrt(s/i) + v)*(c*sqrt(s/i)*(i + k) + k*(c*sqrt(s/i) + v))"
      ]
     },
     "execution_count": 12,
     "metadata": {},
     "output_type": "execute_result"
    }
   ],
   "source": [
    "simplify(tmp*i*i)"
   ]
  },
  {
   "cell_type": "code",
   "execution_count": 8,
   "metadata": {},
   "outputs": [
    {
     "data": {
      "text/latex": [
       "$\\displaystyle \\left\\{i\\; \\middle|\\; i \\in \\mathbb{C} \\wedge M^{8} i^{12} - 8 M^{6} c^{2} i^{11} k - 2 M^{6} c^{2} i^{11} s v^{2} - 4 M^{6} c^{2} i^{10} k s v^{2} - 4 M^{6} c^{2} i^{10} k s - 8 M^{6} c^{2} i^{9} k^{2} s - 8 M^{6} c i^{11} k v^{2} + 28 M^{6} i^{12} v^{4} + 8 M^{6} i^{12} v^{2} \\sqrt{M^{2} + v^{2}} + 4 M^{6} i^{12} v^{2} - 2 M^{6} i^{11} k v^{4} - 4 M^{6} i^{10} k^{2} v^{2} + 16 M^{4} c^{4} i^{10} k^{2} - 8 M^{4} c^{4} i^{10} k s v^{2} + M^{4} c^{4} i^{10} s^{2} v^{4} + 8 M^{4} c^{4} i^{9} k^{2} s v^{2} + 16 M^{4} c^{4} i^{9} k^{2} s + 2 M^{4} c^{4} i^{9} k s^{2} v^{4} + 4 M^{4} c^{4} i^{9} k s^{2} v^{2} + 32 M^{4} c^{4} i^{8} k^{3} s + 6 M^{4} c^{4} i^{8} k^{2} s^{2} v^{4} + 20 M^{4} c^{4} i^{8} k^{2} s^{2} v^{2} + 6 M^{4} c^{4} i^{8} k^{2} s^{2} + 24 M^{4} c^{4} i^{7} k^{3} s^{2} v^{2} + 24 M^{4} c^{4} i^{7} k^{3} s^{2} + 24 M^{4} c^{4} i^{6} k^{4} s^{2} + 32 M^{4} c^{3} i^{10} k^{2} v^{2} + 72 M^{4} c^{3} i^{10} k s v^{4} + 16 M^{4} c^{3} i^{10} k s v^{2} \\sqrt{M^{2} + v^{2}} + 8 M^{4} c^{3} i^{9} k^{2} s v^{4} + 8 M^{4} c^{3} i^{9} k^{2} s v^{2} + 8 M^{4} c^{3} i^{8} k^{3} s v^{2} - 120 M^{4} c^{2} i^{11} k v^{4} - 48 M^{4} c^{2} i^{11} k v^{2} \\sqrt{M^{2} + v^{2}} - 24 M^{4} c^{2} i^{11} k v^{2} - 30 M^{4} c^{2} i^{11} s v^{6} - 12 M^{4} c^{2} i^{11} s v^{4} \\sqrt{M^{2} + v^{2}} - 6 M^{4} c^{2} i^{11} s v^{4} + 24 M^{4} c^{2} i^{10} k^{2} v^{4} - 22 M^{4} c^{2} i^{10} k s v^{6} - 16 M^{4} c^{2} i^{10} k s v^{4} \\sqrt{M^{2} + v^{2}} - 52 M^{4} c^{2} i^{10} k s v^{4} - 20 M^{4} c^{2} i^{10} k s v^{2} \\sqrt{M^{2} + v^{2}} - 12 M^{4} c^{2} i^{10} k s v^{2} + 16 M^{4} c^{2} i^{9} k^{3} v^{2} + 2 M^{4} c^{2} i^{9} k^{2} s v^{6} - 56 M^{4} c^{2} i^{9} k^{2} s v^{4} - 36 M^{4} c^{2} i^{9} k^{2} s v^{2} \\sqrt{M^{2} + v^{2}} - 26 M^{4} c^{2} i^{9} k^{2} s v^{2} + 8 M^{4} c^{2} i^{8} k^{3} s v^{4} + 6 M^{4} c^{2} i^{7} k^{4} s v^{2} - 120 M^{4} c i^{11} k v^{6} - 48 M^{4} c i^{11} k v^{4} \\sqrt{M^{2} + v^{2}} - 24 M^{4} c i^{11} k v^{4} + 8 M^{4} c i^{10} k^{2} v^{6} + 16 M^{4} c i^{9} k^{3} v^{4} + 70 M^{4} i^{12} v^{8} + 56 M^{4} i^{12} v^{6} \\sqrt{M^{2} + v^{2}} + 84 M^{4} i^{12} v^{6} + 24 M^{4} i^{12} v^{4} \\sqrt{M^{2} + v^{2}} + 6 M^{4} i^{12} v^{4} - 30 M^{4} i^{11} k v^{8} - 12 M^{4} i^{11} k v^{6} \\sqrt{M^{2} + v^{2}} - 6 M^{4} i^{11} k v^{6} + M^{4} i^{10} k^{2} v^{8} - 60 M^{4} i^{10} k^{2} v^{6} - 24 M^{4} i^{10} k^{2} v^{4} \\sqrt{M^{2} + v^{2}} - 12 M^{4} i^{10} k^{2} v^{4} + 4 M^{4} i^{9} k^{3} v^{6} + 6 M^{4} i^{8} k^{4} v^{4} - 32 M^{2} c^{6} i^{8} k^{3} s v^{2} + 16 M^{2} c^{6} i^{8} k^{2} s^{2} v^{4} - 2 M^{2} c^{6} i^{8} k s^{3} v^{6} + 8 M^{2} c^{6} i^{7} k^{3} s^{2} v^{4} - 8 M^{2} c^{6} i^{7} k^{3} s^{2} + 2 M^{2} c^{6} i^{7} k^{2} s^{3} v^{6} - 2 M^{2} c^{6} i^{7} k^{2} s^{3} v^{2} - 32 M^{2} c^{6} i^{6} k^{4} s^{2} - 4 M^{2} c^{6} i^{6} k^{3} s^{3} v^{6} - 12 M^{2} c^{6} i^{6} k^{3} s^{3} v^{4} - 20 M^{2} c^{6} i^{6} k^{3} s^{3} v^{2} - 4 M^{2} c^{6} i^{6} k^{3} s^{3} - 32 M^{2} c^{6} i^{5} k^{5} s^{2} - 24 M^{2} c^{6} i^{5} k^{4} s^{3} v^{4} - 56 M^{2} c^{6} i^{5} k^{4} s^{3} v^{2} - 24 M^{2} c^{6} i^{5} k^{4} s^{3} - 48 M^{2} c^{6} i^{4} k^{5} s^{3} v^{2} - 48 M^{2} c^{6} i^{4} k^{5} s^{3} - 32 M^{2} c^{6} i^{3} k^{6} s^{3} - 64 M^{2} c^{5} i^{8} k^{3} s v^{4} - 32 M^{2} c^{5} i^{8} k^{3} s v^{2} - 80 M^{2} c^{5} i^{8} k^{2} s^{2} v^{6} - 32 M^{2} c^{5} i^{8} k^{2} s^{2} v^{4} \\sqrt{M^{2} + v^{2}} - 88 M^{2} c^{5} i^{8} k^{2} s^{2} v^{4} - 32 M^{2} c^{5} i^{8} k^{2} s^{2} v^{2} \\sqrt{M^{2} + v^{2}} - 96 M^{2} c^{5} i^{7} k^{4} s v^{2} + 8 M^{2} c^{5} i^{7} k^{3} s^{2} v^{6} - 152 M^{2} c^{5} i^{7} k^{3} s^{2} v^{4} - 64 M^{2} c^{5} i^{7} k^{3} s^{2} v^{2} \\sqrt{M^{2} + v^{2}} + 8 M^{2} c^{5} i^{7} k^{3} s^{2} v^{2} + 48 M^{2} c^{5} i^{6} k^{4} s^{2} v^{4} + 48 M^{2} c^{5} i^{6} k^{4} s^{2} v^{2} + 64 M^{2} c^{5} i^{5} k^{5} s^{2} v^{2} + 96 M^{2} c^{4} i^{10} k^{2} v^{4} + 64 M^{2} c^{4} i^{10} k^{2} v^{2} \\sqrt{M^{2} + v^{2}} + 32 M^{2} c^{4} i^{10} k^{2} v^{2} - 48 M^{2} c^{4} i^{10} k s v^{6} - 32 M^{2} c^{4} i^{10} k s v^{4} \\sqrt{M^{2} + v^{2}} - 16 M^{2} c^{4} i^{10} k s v^{4} + 6 M^{2} c^{4} i^{10} s^{2} v^{8} + 4 M^{2} c^{4} i^{10} s^{2} v^{6} \\sqrt{M^{2} + v^{2}} + 2 M^{2} c^{4} i^{10} s^{2} v^{6} + 48 M^{2} c^{4} i^{9} k^{2} s v^{6} + 32 M^{2} c^{4} i^{9} k^{2} s v^{4} \\sqrt{M^{2} + v^{2}} + 160 M^{2} c^{4} i^{9} k^{2} s v^{4} + 80 M^{2} c^{4} i^{9} k^{2} s v^{2} \\sqrt{M^{2} + v^{2}} + 32 M^{2} c^{4} i^{9} k^{2} s v^{2} + 12 M^{2} c^{4} i^{9} k s^{2} v^{8} + 8 M^{2} c^{4} i^{9} k s^{2} v^{6} \\sqrt{M^{2} + v^{2}} + 16 M^{2} c^{4} i^{9} k s^{2} v^{6} + 12 M^{2} c^{4} i^{9} k s^{2} v^{4} \\sqrt{M^{2} + v^{2}} + 8 M^{2} c^{4} i^{9} k s^{2} v^{4} - 48 M^{2} c^{4} i^{8} k^{3} s v^{6} + 288 M^{2} c^{4} i^{8} k^{3} s v^{4} + 176 M^{2} c^{4} i^{8} k^{3} s v^{2} \\sqrt{M^{2} + v^{2}} + 56 M^{2} c^{4} i^{8} k^{3} s v^{2} - 8 M^{2} c^{4} i^{8} k^{2} s^{2} v^{8} + 8 M^{2} c^{4} i^{8} k^{2} s^{2} v^{6} \\sqrt{M^{2} + v^{2}} + 28 M^{2} c^{4} i^{8} k^{2} s^{2} v^{6} + 44 M^{2} c^{4} i^{8} k^{2} s^{2} v^{4} \\sqrt{M^{2} + v^{2}} + 58 M^{2} c^{4} i^{8} k^{2} s^{2} v^{4} + 16 M^{2} c^{4} i^{8} k^{2} s^{2} v^{2} \\sqrt{M^{2} + v^{2}} + 12 M^{2} c^{4} i^{8} k^{2} s^{2} v^{2} - 144 M^{2} c^{4} i^{7} k^{4} s v^{4} - 64 M^{2} c^{4} i^{7} k^{4} s v^{2} + 2 M^{2} c^{4} i^{7} k^{3} s^{2} v^{8} - 4 M^{2} c^{4} i^{7} k^{3} s^{2} v^{6} + 40 M^{2} c^{4} i^{7} k^{3} s^{2} v^{4} \\sqrt{M^{2} + v^{2}} + 114 M^{2} c^{4} i^{7} k^{3} s^{2} v^{4} + 56 M^{2} c^{4} i^{7} k^{3} s^{2} v^{2} \\sqrt{M^{2} + v^{2}} + 52 M^{2} c^{4} i^{7} k^{3} s^{2} v^{2} - 104 M^{2} c^{4} i^{6} k^{5} s v^{2} + 12 M^{2} c^{4} i^{6} k^{4} s^{2} v^{6} + 78 M^{2} c^{4} i^{6} k^{4} s^{2} v^{4} + 48 M^{2} c^{4} i^{6} k^{4} s^{2} v^{2} \\sqrt{M^{2} + v^{2}} + 68 M^{2} c^{4} i^{6} k^{4} s^{2} v^{2} + 28 M^{2} c^{4} i^{5} k^{5} s^{2} v^{4} + 36 M^{2} c^{4} i^{5} k^{5} s^{2} v^{2} + 24 M^{2} c^{4} i^{4} k^{6} s^{2} v^{2} + 192 M^{2} c^{3} i^{10} k^{2} v^{6} + 128 M^{2} c^{3} i^{10} k^{2} v^{4} \\sqrt{M^{2} + v^{2}} + 64 M^{2} c^{3} i^{10} k^{2} v^{4} + 112 M^{2} c^{3} i^{10} k s v^{8} + 128 M^{2} c^{3} i^{10} k s v^{6} \\sqrt{M^{2} + v^{2}} + 144 M^{2} c^{3} i^{10} k s v^{6} + 32 M^{2} c^{3} i^{10} k s v^{4} \\sqrt{M^{2} + v^{2}} + 48 M^{2} c^{3} i^{9} k^{2} s v^{8} + 32 M^{2} c^{3} i^{9} k^{2} s v^{6} \\sqrt{M^{2} + v^{2}} + 112 M^{2} c^{3} i^{9} k^{2} s v^{6} + 48 M^{2} c^{3} i^{9} k^{2} s v^{4} \\sqrt{M^{2} + v^{2}} + 16 M^{2} c^{3} i^{9} k^{2} s v^{4} - 16 M^{2} c^{3} i^{8} k^{3} s v^{8} + 72 M^{2} c^{3} i^{8} k^{3} s v^{6} + 48 M^{2} c^{3} i^{8} k^{3} s v^{4} \\sqrt{M^{2} + v^{2}} + 8 M^{2} c^{3} i^{8} k^{3} s v^{4} - 72 M^{2} c^{3} i^{7} k^{4} s v^{6} - 48 M^{2} c^{3} i^{7} k^{4} s v^{4} - 56 M^{2} c^{3} i^{6} k^{5} s v^{4} - 120 M^{2} c^{2} i^{11} k v^{8} - 160 M^{2} c^{2} i^{11} k v^{6} \\sqrt{M^{2} + v^{2}} - 240 M^{2} c^{2} i^{11} k v^{6} - 96 M^{2} c^{2} i^{11} k v^{4} \\sqrt{M^{2} + v^{2}} - 24 M^{2} c^{2} i^{11} k v^{4} - 30 M^{2} c^{2} i^{11} s v^{10} - 40 M^{2} c^{2} i^{11} s v^{8} \\sqrt{M^{2} + v^{2}} - 60 M^{2} c^{2} i^{11} s v^{8} - 24 M^{2} c^{2} i^{11} s v^{6} \\sqrt{M^{2} + v^{2}} - 6 M^{2} c^{2} i^{11} s v^{6} + 144 M^{2} c^{2} i^{10} k^{2} v^{8} + 96 M^{2} c^{2} i^{10} k^{2} v^{6} \\sqrt{M^{2} + v^{2}} + 48 M^{2} c^{2} i^{10} k^{2} v^{6} + 8 M^{2} c^{2} i^{10} k s v^{10} - 8 M^{2} c^{2} i^{10} k s v^{8} \\sqrt{M^{2} + v^{2}} - 64 M^{2} c^{2} i^{10} k s v^{8} - 72 M^{2} c^{2} i^{10} k s v^{6} \\sqrt{M^{2} + v^{2}} - 92 M^{2} c^{2} i^{10} k s v^{6} - 40 M^{2} c^{2} i^{10} k s v^{4} \\sqrt{M^{2} + v^{2}} - 12 M^{2} c^{2} i^{10} k s v^{4} + 96 M^{2} c^{2} i^{9} k^{3} v^{6} + 64 M^{2} c^{2} i^{9} k^{3} v^{4} \\sqrt{M^{2} + v^{2}} + 32 M^{2} c^{2} i^{9} k^{3} v^{4} + 12 M^{2} c^{2} i^{9} k^{2} s v^{10} + 8 M^{2} c^{2} i^{9} k^{2} s v^{8} \\sqrt{M^{2} + v^{2}} + 40 M^{2} c^{2} i^{9} k^{2} s v^{8} - 20 M^{2} c^{2} i^{9} k^{2} s v^{6} \\sqrt{M^{2} + v^{2}} - 124 M^{2} c^{2} i^{9} k^{2} s v^{6} - 80 M^{2} c^{2} i^{9} k^{2} s v^{4} \\sqrt{M^{2} + v^{2}} - 28 M^{2} c^{2} i^{9} k^{2} s v^{4} - 2 M^{2} c^{2} i^{8} k^{3} s v^{10} + 32 M^{2} c^{2} i^{8} k^{3} s v^{8} + 28 M^{2} c^{2} i^{8} k^{3} s v^{6} \\sqrt{M^{2} + v^{2}} - 10 M^{2} c^{2} i^{8} k^{3} s v^{6} - 8 M^{2} c^{2} i^{8} k^{3} s v^{4} \\sqrt{M^{2} + v^{2}} - 8 M^{2} c^{2} i^{7} k^{5} v^{4} - 12 M^{2} c^{2} i^{7} k^{4} s v^{8} - 46 M^{2} c^{2} i^{7} k^{4} s v^{6} + 16 M^{2} c^{2} i^{7} k^{4} s v^{4} - 14 M^{2} c^{2} i^{6} k^{5} s v^{6} + 12 M^{2} c^{2} i^{6} k^{5} s v^{4} + 12 M^{2} c^{2} i^{5} k^{6} s v^{4} - 120 M^{2} c i^{11} k v^{10} - 160 M^{2} c i^{11} k v^{8} \\sqrt{M^{2} + v^{2}} - 240 M^{2} c i^{11} k v^{8} - 96 M^{2} c i^{11} k v^{6} \\sqrt{M^{2} + v^{2}} - 24 M^{2} c i^{11} k v^{6} + 48 M^{2} c i^{10} k^{2} v^{10} + 32 M^{2} c i^{10} k^{2} v^{8} \\sqrt{M^{2} + v^{2}} + 16 M^{2} c i^{10} k^{2} v^{8} + 96 M^{2} c i^{9} k^{3} v^{8} + 64 M^{2} c i^{9} k^{3} v^{6} \\sqrt{M^{2} + v^{2}} + 32 M^{2} c i^{9} k^{3} v^{6} - 8 M^{2} c i^{7} k^{5} v^{6} + 28 M^{2} i^{12} v^{12} + 56 M^{2} i^{12} v^{10} \\sqrt{M^{2} + v^{2}} + 140 M^{2} i^{12} v^{10} + 112 M^{2} i^{12} v^{8} \\sqrt{M^{2} + v^{2}} + 84 M^{2} i^{12} v^{8} + 24 M^{2} i^{12} v^{6} \\sqrt{M^{2} + v^{2}} + 4 M^{2} i^{12} v^{6} - 30 M^{2} i^{11} k v^{12} - 40 M^{2} i^{11} k v^{10} \\sqrt{M^{2} + v^{2}} - 60 M^{2} i^{11} k v^{10} - 24 M^{2} i^{11} k v^{8} \\sqrt{M^{2} + v^{2}} - 6 M^{2} i^{11} k v^{8} + 6 M^{2} i^{10} k^{2} v^{12} + 4 M^{2} i^{10} k^{2} v^{10} \\sqrt{M^{2} + v^{2}} - 58 M^{2} i^{10} k^{2} v^{10} - 80 M^{2} i^{10} k^{2} v^{8} \\sqrt{M^{2} + v^{2}} - 120 M^{2} i^{10} k^{2} v^{8} - 48 M^{2} i^{10} k^{2} v^{6} \\sqrt{M^{2} + v^{2}} - 12 M^{2} i^{10} k^{2} v^{6} + 24 M^{2} i^{9} k^{3} v^{10} + 16 M^{2} i^{9} k^{3} v^{8} \\sqrt{M^{2} + v^{2}} + 8 M^{2} i^{9} k^{3} v^{8} + 36 M^{2} i^{8} k^{4} v^{8} + 24 M^{2} i^{8} k^{4} v^{6} \\sqrt{M^{2} + v^{2}} + 12 M^{2} i^{8} k^{4} v^{6} - 2 M^{2} i^{7} k^{5} v^{8} - 4 M^{2} i^{6} k^{6} v^{6} + 16 c^{8} i^{6} k^{4} s^{2} v^{4} - 8 c^{8} i^{6} k^{3} s^{3} v^{6} + c^{8} i^{6} k^{2} s^{4} v^{8} - 8 c^{8} i^{5} k^{4} s^{3} v^{6} - 16 c^{8} i^{5} k^{4} s^{3} v^{4} - 8 c^{8} i^{5} k^{4} s^{3} v^{2} - 2 c^{8} i^{5} k^{3} s^{4} v^{8} - 4 c^{8} i^{5} k^{3} s^{4} v^{6} - 2 c^{8} i^{5} k^{3} s^{4} v^{4} - 32 c^{8} i^{4} k^{5} s^{3} v^{4} - 32 c^{8} i^{4} k^{5} s^{3} v^{2} + c^{8} i^{4} k^{4} s^{4} v^{8} - 4 c^{8} i^{4} k^{4} s^{4} v^{6} - 2 c^{8} i^{4} k^{4} s^{4} v^{4} + 4 c^{8} i^{4} k^{4} s^{4} v^{2} + c^{8} i^{4} k^{4} s^{4} - 32 c^{8} i^{3} k^{6} s^{3} v^{2} + 8 c^{8} i^{3} k^{5} s^{4} v^{6} + 16 c^{8} i^{3} k^{5} s^{4} v^{4} + 24 c^{8} i^{3} k^{5} s^{4} v^{2} + 8 c^{8} i^{3} k^{5} s^{4} + 24 c^{8} i^{2} k^{6} s^{4} v^{4} + 48 c^{8} i^{2} k^{6} s^{4} v^{2} + 24 c^{8} i^{2} k^{6} s^{4} + 32 c^{8} i k^{7} s^{4} v^{2} + 32 c^{8} i k^{7} s^{4} + 16 c^{8} k^{8} s^{4} + 32 c^{7} i^{6} k^{4} s^{2} v^{6} + 32 c^{7} i^{6} k^{4} s^{2} v^{4} + 8 c^{7} i^{6} k^{3} s^{3} v^{8} + 16 c^{7} i^{6} k^{3} s^{3} v^{6} \\sqrt{M^{2} + v^{2}} + 24 c^{7} i^{6} k^{3} s^{3} v^{6} + 32 c^{7} i^{6} k^{3} s^{3} v^{4} \\sqrt{M^{2} + v^{2}} + 16 c^{7} i^{6} k^{3} s^{3} v^{4} + 16 c^{7} i^{6} k^{3} s^{3} v^{2} \\sqrt{M^{2} + v^{2}} + 96 c^{7} i^{5} k^{5} s^{2} v^{4} - 8 c^{7} i^{5} k^{4} s^{3} v^{8} + 16 c^{7} i^{5} k^{4} s^{3} v^{6} + 64 c^{7} i^{5} k^{4} s^{3} v^{4} \\sqrt{M^{2} + v^{2}} + 40 c^{7} i^{5} k^{4} s^{3} v^{4} + 64 c^{7} i^{5} k^{4} s^{3} v^{2} \\sqrt{M^{2} + v^{2}} - 8 c^{7} i^{5} k^{4} s^{3} v^{2} - 56 c^{7} i^{4} k^{5} s^{3} v^{6} - 48 c^{7} i^{4} k^{5} s^{3} v^{4} + 64 c^{7} i^{4} k^{5} s^{3} v^{2} \\sqrt{M^{2} + v^{2}} - 56 c^{7} i^{4} k^{5} s^{3} v^{2} - 128 c^{7} i^{3} k^{6} s^{3} v^{4} - 128 c^{7} i^{3} k^{6} s^{3} v^{2} - 96 c^{7} i^{2} k^{7} s^{3} v^{2} - 32 c^{6} i^{8} k^{3} s v^{6} - 64 c^{6} i^{8} k^{3} s v^{4} \\sqrt{M^{2} + v^{2}} - 32 c^{6} i^{8} k^{3} s v^{4} + 16 c^{6} i^{8} k^{2} s^{2} v^{8} + 32 c^{6} i^{8} k^{2} s^{2} v^{6} \\sqrt{M^{2} + v^{2}} + 16 c^{6} i^{8} k^{2} s^{2} v^{6} - 2 c^{6} i^{8} k s^{3} v^{10} - 4 c^{6} i^{8} k s^{3} v^{8} \\sqrt{M^{2} + v^{2}} - 2 c^{6} i^{8} k s^{3} v^{8} + 8 c^{6} i^{7} k^{3} s^{2} v^{8} + 16 c^{6} i^{7} k^{3} s^{2} v^{6} \\sqrt{M^{2} + v^{2}} - 8 c^{6} i^{7} k^{3} s^{2} v^{6} - 16 c^{6} i^{7} k^{3} s^{2} v^{4} \\sqrt{M^{2} + v^{2}} - 8 c^{6} i^{7} k^{3} s^{2} v^{4} - 16 c^{6} i^{7} k^{3} s^{2} v^{2} \\sqrt{M^{2} + v^{2}} - 8 c^{6} i^{7} k^{3} s^{2} v^{2} + 2 c^{6} i^{7} k^{2} s^{3} v^{10} + 4 c^{6} i^{7} k^{2} s^{3} v^{8} \\sqrt{M^{2} + v^{2}} + 6 c^{6} i^{7} k^{2} s^{3} v^{8} + 4 c^{6} i^{7} k^{2} s^{3} v^{6} \\sqrt{M^{2} + v^{2}} - 2 c^{6} i^{7} k^{2} s^{3} v^{6} - 4 c^{6} i^{7} k^{2} s^{3} v^{4} \\sqrt{M^{2} + v^{2}} - 2 c^{6} i^{7} k^{2} s^{3} v^{4} + 24 c^{6} i^{6} k^{4} s^{2} v^{8} - 48 c^{6} i^{6} k^{4} s^{2} v^{4} \\sqrt{M^{2} + v^{2}} - 8 c^{6} i^{6} k^{4} s^{2} v^{4} - 64 c^{6} i^{6} k^{4} s^{2} v^{2} \\sqrt{M^{2} + v^{2}} - 32 c^{6} i^{6} k^{4} s^{2} v^{2} + 2 c^{6} i^{6} k^{3} s^{3} v^{10} + 12 c^{6} i^{6} k^{3} s^{3} v^{8} + 8 c^{6} i^{6} k^{3} s^{3} v^{6} \\sqrt{M^{2} + v^{2}} - 18 c^{6} i^{6} k^{3} s^{3} v^{6} - 24 c^{6} i^{6} k^{3} s^{3} v^{4} \\sqrt{M^{2} + v^{2}} - 20 c^{6} i^{6} k^{3} s^{3} v^{4} - 4 c^{6} i^{6} k^{3} s^{3} v^{2} \\sqrt{M^{2} + v^{2}} - 4 c^{6} i^{6} k^{3} s^{3} v^{2} + 128 c^{6} i^{5} k^{5} s^{2} v^{6} + 96 c^{6} i^{5} k^{5} s^{2} v^{4} - 64 c^{6} i^{5} k^{5} s^{2} v^{2} \\sqrt{M^{2} + v^{2}} - 32 c^{6} i^{5} k^{5} s^{2} v^{2} - 2 c^{6} i^{5} k^{4} s^{3} v^{10} - 4 c^{6} i^{5} k^{4} s^{3} v^{8} - 4 c^{6} i^{5} k^{4} s^{3} v^{6} \\sqrt{M^{2} + v^{2}} - 36 c^{6} i^{5} k^{4} s^{3} v^{6} - 40 c^{6} i^{5} k^{4} s^{3} v^{4} \\sqrt{M^{2} + v^{2}} - 60 c^{6} i^{5} k^{4} s^{3} v^{4} - 20 c^{6} i^{5} k^{4} s^{3} v^{2} \\sqrt{M^{2} + v^{2}} - 26 c^{6} i^{5} k^{4} s^{3} v^{2} + 184 c^{6} i^{4} k^{6} s^{2} v^{4} - 16 c^{6} i^{4} k^{5} s^{3} v^{8} - 42 c^{6} i^{4} k^{5} s^{3} v^{6} - 16 c^{6} i^{4} k^{5} s^{3} v^{4} \\sqrt{M^{2} + v^{2}} - 80 c^{6} i^{4} k^{5} s^{3} v^{4} - 32 c^{6} i^{4} k^{5} s^{3} v^{2} \\sqrt{M^{2} + v^{2}} - 64 c^{6} i^{4} k^{5} s^{3} v^{2} - 50 c^{6} i^{3} k^{6} s^{3} v^{6} - 84 c^{6} i^{3} k^{6} s^{3} v^{4} - 16 c^{6} i^{3} k^{6} s^{3} v^{2} \\sqrt{M^{2} + v^{2}} - 82 c^{6} i^{3} k^{6} s^{3} v^{2} - 72 c^{6} i^{2} k^{7} s^{3} v^{4} - 72 c^{6} i^{2} k^{7} s^{3} v^{2} - 40 c^{6} i k^{8} s^{3} v^{2} - 64 c^{5} i^{8} k^{3} s v^{8} - 128 c^{5} i^{8} k^{3} s v^{6} \\sqrt{M^{2} + v^{2}} - 96 c^{5} i^{8} k^{3} s v^{6} - 64 c^{5} i^{8} k^{3} s v^{4} \\sqrt{M^{2} + v^{2}} - 32 c^{5} i^{8} k^{3} s v^{4} - 16 c^{5} i^{8} k^{2} s^{2} v^{10} - 64 c^{5} i^{8} k^{2} s^{2} v^{8} \\sqrt{M^{2} + v^{2}} - 104 c^{5} i^{8} k^{2} s^{2} v^{8} - 112 c^{5} i^{8} k^{2} s^{2} v^{6} \\sqrt{M^{2} + v^{2}} - 88 c^{5} i^{8} k^{2} s^{2} v^{6} - 32 c^{5} i^{8} k^{2} s^{2} v^{4} \\sqrt{M^{2} + v^{2}} - 96 c^{5} i^{7} k^{4} s v^{6} - 192 c^{5} i^{7} k^{4} s v^{4} \\sqrt{M^{2} + v^{2}} - 96 c^{5} i^{7} k^{4} s v^{4} + 8 c^{5} i^{7} k^{3} s^{2} v^{10} + 16 c^{5} i^{7} k^{3} s^{2} v^{8} \\sqrt{M^{2} + v^{2}} - 32 c^{5} i^{7} k^{3} s^{2} v^{8} - 128 c^{5} i^{7} k^{3} s^{2} v^{6} \\sqrt{M^{2} + v^{2}} - 160 c^{5} i^{7} k^{3} s^{2} v^{6} - 64 c^{5} i^{7} k^{3} s^{2} v^{4} \\sqrt{M^{2} + v^{2}} + 8 c^{5} i^{7} k^{3} s^{2} v^{4} + 8 c^{5} i^{6} k^{4} s^{2} v^{10} + 56 c^{5} i^{6} k^{4} s^{2} v^{8} + 80 c^{5} i^{6} k^{4} s^{2} v^{6} \\sqrt{M^{2} + v^{2}} + 56 c^{5} i^{6} k^{4} s^{2} v^{6} + 32 c^{5} i^{6} k^{4} s^{2} v^{4} \\sqrt{M^{2} + v^{2}} + 56 c^{5} i^{6} k^{4} s^{2} v^{4} + 56 c^{5} i^{5} k^{5} s^{2} v^{8} + 96 c^{5} i^{5} k^{5} s^{2} v^{6} + 48 c^{5} i^{5} k^{5} s^{2} v^{4} \\sqrt{M^{2} + v^{2}} + 120 c^{5} i^{5} k^{5} s^{2} v^{4} + 136 c^{5} i^{4} k^{6} s^{2} v^{6} + 136 c^{5} i^{4} k^{6} s^{2} v^{4} + 120 c^{5} i^{3} k^{7} s^{2} v^{4} + 16 c^{4} i^{10} k^{2} v^{8} + 64 c^{4} i^{10} k^{2} v^{6} \\sqrt{M^{2} + v^{2}} + 96 c^{4} i^{10} k^{2} v^{6} + 64 c^{4} i^{10} k^{2} v^{4} \\sqrt{M^{2} + v^{2}} + 16 c^{4} i^{10} k^{2} v^{4} - 8 c^{4} i^{10} k s v^{10} - 32 c^{4} i^{10} k s v^{8} \\sqrt{M^{2} + v^{2}} - 48 c^{4} i^{10} k s v^{8} - 32 c^{4} i^{10} k s v^{6} \\sqrt{M^{2} + v^{2}} - 8 c^{4} i^{10} k s v^{6} + c^{4} i^{10} s^{2} v^{12} + 4 c^{4} i^{10} s^{2} v^{10} \\sqrt{M^{2} + v^{2}} + 6 c^{4} i^{10} s^{2} v^{10} + 4 c^{4} i^{10} s^{2} v^{8} \\sqrt{M^{2} + v^{2}} + c^{4} i^{10} s^{2} v^{8} + 8 c^{4} i^{9} k^{2} s v^{10} + 32 c^{4} i^{9} k^{2} s v^{8} \\sqrt{M^{2} + v^{2}} + 80 c^{4} i^{9} k^{2} s v^{8} + 144 c^{4} i^{9} k^{2} s v^{6} \\sqrt{M^{2} + v^{2}} + 152 c^{4} i^{9} k^{2} s v^{6} + 80 c^{4} i^{9} k^{2} s v^{4} \\sqrt{M^{2} + v^{2}} + 16 c^{4} i^{9} k^{2} s v^{4} + 2 c^{4} i^{9} k s^{2} v^{12} + 8 c^{4} i^{9} k s^{2} v^{10} \\sqrt{M^{2} + v^{2}} + 12 c^{4} i^{9} k s^{2} v^{10} + 12 c^{4} i^{9} k s^{2} v^{8} \\sqrt{M^{2} + v^{2}} + 14 c^{4} i^{9} k s^{2} v^{8} + 12 c^{4} i^{9} k s^{2} v^{6} \\sqrt{M^{2} + v^{2}} + 4 c^{4} i^{9} k s^{2} v^{6} - 48 c^{4} i^{8} k^{3} s v^{10} - 96 c^{4} i^{8} k^{3} s v^{8} \\sqrt{M^{2} + v^{2}} - 16 c^{4} i^{8} k^{3} s v^{8} + 176 c^{4} i^{8} k^{3} s v^{6} \\sqrt{M^{2} + v^{2}} + 280 c^{4} i^{8} k^{3} s v^{6} + 160 c^{4} i^{8} k^{3} s v^{4} \\sqrt{M^{2} + v^{2}} + 24 c^{4} i^{8} k^{3} s v^{4} - 6 c^{4} i^{8} k^{2} s^{2} v^{12} - 16 c^{4} i^{8} k^{2} s^{2} v^{10} \\sqrt{M^{2} + v^{2}} - 20 c^{4} i^{8} k^{2} s^{2} v^{10} - 12 c^{4} i^{8} k^{2} s^{2} v^{8} \\sqrt{M^{2} + v^{2}} + 26 c^{4} i^{8} k^{2} s^{2} v^{8} + 56 c^{4} i^{8} k^{2} s^{2} v^{6} \\sqrt{M^{2} + v^{2}} + 38 c^{4} i^{8} k^{2} s^{2} v^{6} + 16 c^{4} i^{8} k^{2} s^{2} v^{4} \\sqrt{M^{2} + v^{2}} + 6 c^{4} i^{8} k^{2} s^{2} v^{4} - 144 c^{4} i^{7} k^{4} s v^{8} - 288 c^{4} i^{7} k^{4} s v^{6} \\sqrt{M^{2} + v^{2}} - 208 c^{4} i^{7} k^{4} s v^{6} - 128 c^{4} i^{7} k^{4} s v^{4} \\sqrt{M^{2} + v^{2}} - 64 c^{4} i^{7} k^{4} s v^{4} + 2 c^{4} i^{7} k^{3} s^{2} v^{12} + 4 c^{4} i^{7} k^{3} s^{2} v^{10} \\sqrt{M^{2} + v^{2}} - 14 c^{4} i^{7} k^{3} s^{2} v^{10} - 36 c^{4} i^{7} k^{3} s^{2} v^{8} \\sqrt{M^{2} + v^{2}} + 14 c^{4} i^{7} k^{3} s^{2} v^{8} + 92 c^{4} i^{7} k^{3} s^{2} v^{6} \\sqrt{M^{2} + v^{2}} + 90 c^{4} i^{7} k^{3} s^{2} v^{6} + 60 c^{4} i^{7} k^{3} s^{2} v^{4} \\sqrt{M^{2} + v^{2}} + 28 c^{4} i^{7} k^{3} s^{2} v^{4} - 104 c^{4} i^{6} k^{5} s v^{6} - 208 c^{4} i^{6} k^{5} s v^{4} \\sqrt{M^{2} + v^{2}} - 104 c^{4} i^{6} k^{5} s v^{4} + c^{4} i^{6} k^{4} s^{2} v^{12} + 20 c^{4} i^{6} k^{4} s^{2} v^{10} + 28 c^{4} i^{6} k^{4} s^{2} v^{8} \\sqrt{M^{2} + v^{2}} + 48 c^{4} i^{6} k^{4} s^{2} v^{8} + 84 c^{4} i^{6} k^{4} s^{2} v^{6} \\sqrt{M^{2} + v^{2}} + 74 c^{4} i^{6} k^{4} s^{2} v^{6} + 60 c^{4} i^{6} k^{4} s^{2} v^{4} \\sqrt{M^{2} + v^{2}} + 45 c^{4} i^{6} k^{4} s^{2} v^{4} - 8 c^{4} i^{5} k^{6} s v^{6} + 8 c^{4} i^{5} k^{5} s^{2} v^{10} + 34 c^{4} i^{5} k^{5} s^{2} v^{8} + 40 c^{4} i^{5} k^{5} s^{2} v^{6} \\sqrt{M^{2} + v^{2}} + 20 c^{4} i^{5} k^{5} s^{2} v^{6} + 4 c^{4} i^{5} k^{5} s^{2} v^{4} \\sqrt{M^{2} + v^{2}} + 44 c^{4} i^{5} k^{5} s^{2} v^{4} + 28 c^{4} i^{4} k^{6} s^{2} v^{8} + 20 c^{4} i^{4} k^{6} s^{2} v^{6} - 12 c^{4} i^{4} k^{6} s^{2} v^{4} \\sqrt{M^{2} + v^{2}} + 52 c^{4} i^{4} k^{6} s^{2} v^{4} + 48 c^{4} i^{3} k^{7} s^{2} v^{6} + 48 c^{4} i^{3} k^{7} s^{2} v^{4} + 33 c^{4} i^{2} k^{8} s^{2} v^{4} + 32 c^{3} i^{10} k^{2} v^{10} + 128 c^{3} i^{10} k^{2} v^{8} \\sqrt{M^{2} + v^{2}} + 192 c^{3} i^{10} k^{2} v^{8} + 128 c^{3} i^{10} k^{2} v^{6} \\sqrt{M^{2} + v^{2}} + 32 c^{3} i^{10} k^{2} v^{6} + 8 c^{3} i^{10} k s v^{12} + 48 c^{3} i^{10} k s v^{10} \\sqrt{M^{2} + v^{2}} + 112 c^{3} i^{10} k s v^{10} + 128 c^{3} i^{10} k s v^{8} \\sqrt{M^{2} + v^{2}} + 72 c^{3} i^{10} k s v^{8} + 16 c^{3} i^{10} k s v^{6} \\sqrt{M^{2} + v^{2}} + 8 c^{3} i^{9} k^{2} s v^{12} + 32 c^{3} i^{9} k^{2} s v^{10} \\sqrt{M^{2} + v^{2}} + 72 c^{3} i^{9} k^{2} s v^{10} + 112 c^{3} i^{9} k^{2} s v^{8} \\sqrt{M^{2} + v^{2}} + 104 c^{3} i^{9} k^{2} s v^{8} + 48 c^{3} i^{9} k^{2} s v^{6} \\sqrt{M^{2} + v^{2}} + 8 c^{3} i^{9} k^{2} s v^{6} - 16 c^{3} i^{8} k^{3} s v^{12} - 32 c^{3} i^{8} k^{3} s v^{10} \\sqrt{M^{2} + v^{2}} - 16 c^{3} i^{8} k^{3} s v^{10} + 32 c^{3} i^{8} k^{3} s v^{8} \\sqrt{M^{2} + v^{2}} + 64 c^{3} i^{8} k^{3} s v^{8} + 32 c^{3} i^{8} k^{3} s v^{6} \\sqrt{M^{2} + v^{2}} - 72 c^{3} i^{7} k^{4} s v^{10} - 144 c^{3} i^{7} k^{4} s v^{8} \\sqrt{M^{2} + v^{2}} - 120 c^{3} i^{7} k^{4} s v^{8} - 96 c^{3} i^{7} k^{4} s v^{6} \\sqrt{M^{2} + v^{2}} - 48 c^{3} i^{7} k^{4} s v^{6} - 40 c^{3} i^{6} k^{5} s v^{8} - 96 c^{3} i^{6} k^{5} s v^{6} \\sqrt{M^{2} + v^{2}} - 56 c^{3} i^{6} k^{5} s v^{6} - 8 c^{3} i^{5} k^{6} s v^{8} - 8 c^{3} i^{5} k^{6} s v^{6} - 24 c^{3} i^{4} k^{7} s v^{6} - 8 c^{2} i^{11} k v^{12} - 48 c^{2} i^{11} k v^{10} \\sqrt{M^{2} + v^{2}} - 120 c^{2} i^{11} k v^{10} - 160 c^{2} i^{11} k v^{8} \\sqrt{M^{2} + v^{2}} - 120 c^{2} i^{11} k v^{8} - 48 c^{2} i^{11} k v^{6} \\sqrt{M^{2} + v^{2}} - 8 c^{2} i^{11} k v^{6} - 2 c^{2} i^{11} s v^{14} - 12 c^{2} i^{11} s v^{12} \\sqrt{M^{2} + v^{2}} - 30 c^{2} i^{11} s v^{12} - 40 c^{2} i^{11} s v^{10} \\sqrt{M^{2} + v^{2}} - 30 c^{2} i^{11} s v^{10} - 12 c^{2} i^{11} s v^{8} \\sqrt{M^{2} + v^{2}} - 2 c^{2} i^{11} s v^{8} + 24 c^{2} i^{10} k^{2} v^{12} + 96 c^{2} i^{10} k^{2} v^{10} \\sqrt{M^{2} + v^{2}} + 144 c^{2} i^{10} k^{2} v^{10} + 96 c^{2} i^{10} k^{2} v^{8} \\sqrt{M^{2} + v^{2}} + 24 c^{2} i^{10} k^{2} v^{8} + 2 c^{2} i^{10} k s v^{14} + 8 c^{2} i^{10} k s v^{12} \\sqrt{M^{2} + v^{2}} + 8 c^{2} i^{10} k s v^{12} - 12 c^{2} i^{10} k s v^{10} \\sqrt{M^{2} + v^{2}} - 42 c^{2} i^{10} k s v^{10} - 56 c^{2} i^{10} k s v^{8} \\sqrt{M^{2} + v^{2}} - 44 c^{2} i^{10} k s v^{8} - 20 c^{2} i^{10} k s v^{6} \\sqrt{M^{2} + v^{2}} - 4 c^{2} i^{10} k s v^{6} + 16 c^{2} i^{9} k^{3} v^{10} + 64 c^{2} i^{9} k^{3} v^{8} \\sqrt{M^{2} + v^{2}} + 96 c^{2} i^{9} k^{3} v^{8} + 64 c^{2} i^{9} k^{3} v^{6} \\sqrt{M^{2} + v^{2}} + 16 c^{2} i^{9} k^{3} v^{6} + 2 c^{2} i^{9} k^{2} s v^{14} + 8 c^{2} i^{9} k^{2} s v^{12} \\sqrt{M^{2} + v^{2}} + 24 c^{2} i^{9} k^{2} s v^{12} + 48 c^{2} i^{9} k^{2} s v^{10} \\sqrt{M^{2} + v^{2}} + 36 c^{2} i^{9} k^{2} s v^{10} - 28 c^{2} i^{9} k^{2} s v^{8} \\sqrt{M^{2} + v^{2}} - 68 c^{2} i^{9} k^{2} s v^{8} - 44 c^{2} i^{9} k^{2} s v^{6} \\sqrt{M^{2} + v^{2}} - 10 c^{2} i^{9} k^{2} s v^{6} - 2 c^{2} i^{8} k^{3} s v^{14} - 4 c^{2} i^{8} k^{3} s v^{12} \\sqrt{M^{2} + v^{2}} - 2 c^{2} i^{8} k^{3} s v^{12} + 12 c^{2} i^{8} k^{3} s v^{10} \\sqrt{M^{2} + v^{2}} + 22 c^{2} i^{8} k^{3} s v^{10} - 18 c^{2} i^{8} k^{3} s v^{8} - 8 c^{2} i^{8} k^{3} s v^{6} \\sqrt{M^{2} + v^{2}} - 8 c^{2} i^{7} k^{5} v^{8} - 16 c^{2} i^{7} k^{5} v^{6} \\sqrt{M^{2} + v^{2}} - 8 c^{2} i^{7} k^{5} v^{6} - 12 c^{2} i^{7} k^{4} s v^{12} - 24 c^{2} i^{7} k^{4} s v^{10} \\sqrt{M^{2} + v^{2}} - 40 c^{2} i^{7} k^{4} s v^{10} - 68 c^{2} i^{7} k^{4} s v^{8} \\sqrt{M^{2} + v^{2}} - 42 c^{2} i^{7} k^{4} s v^{8} + 8 c^{2} i^{7} k^{4} s v^{6} \\sqrt{M^{2} + v^{2}} + 10 c^{2} i^{7} k^{4} s v^{6} - 6 c^{2} i^{6} k^{5} s v^{10} - 20 c^{2} i^{6} k^{5} s v^{8} \\sqrt{M^{2} + v^{2}} + 2 c^{2} i^{6} k^{5} s v^{8} + 28 c^{2} i^{6} k^{5} s v^{6} \\sqrt{M^{2} + v^{2}} + 12 c^{2} i^{6} k^{5} s v^{6} - 2 c^{2} i^{5} k^{6} s v^{10} + 20 c^{2} i^{5} k^{6} s v^{8} + 36 c^{2} i^{5} k^{6} s v^{6} \\sqrt{M^{2} + v^{2}} + 10 c^{2} i^{5} k^{6} s v^{6} - 8 c^{2} i^{4} k^{7} s v^{8} - 8 c^{2} i^{4} k^{7} s v^{6} - 10 c^{2} i^{3} k^{8} s v^{6} - 8 c i^{11} k v^{14} - 48 c i^{11} k v^{12} \\sqrt{M^{2} + v^{2}} - 120 c i^{11} k v^{12} - 160 c i^{11} k v^{10} \\sqrt{M^{2} + v^{2}} - 120 c i^{11} k v^{10} - 48 c i^{11} k v^{8} \\sqrt{M^{2} + v^{2}} - 8 c i^{11} k v^{8} + 8 c i^{10} k^{2} v^{14} + 32 c i^{10} k^{2} v^{12} \\sqrt{M^{2} + v^{2}} + 48 c i^{10} k^{2} v^{12} + 32 c i^{10} k^{2} v^{10} \\sqrt{M^{2} + v^{2}} + 8 c i^{10} k^{2} v^{10} + 16 c i^{9} k^{3} v^{12} + 64 c i^{9} k^{3} v^{10} \\sqrt{M^{2} + v^{2}} + 96 c i^{9} k^{3} v^{10} + 64 c i^{9} k^{3} v^{8} \\sqrt{M^{2} + v^{2}} + 16 c i^{9} k^{3} v^{8} - 8 c i^{7} k^{5} v^{10} - 16 c i^{7} k^{5} v^{8} \\sqrt{M^{2} + v^{2}} - 8 c i^{7} k^{5} v^{8} + i^{12} v^{16} + 8 i^{12} v^{14} \\sqrt{M^{2} + v^{2}} + 28 i^{12} v^{14} + 56 i^{12} v^{12} \\sqrt{M^{2} + v^{2}} + 70 i^{12} v^{12} + 56 i^{12} v^{10} \\sqrt{M^{2} + v^{2}} + 28 i^{12} v^{10} + 8 i^{12} v^{8} \\sqrt{M^{2} + v^{2}} + i^{12} v^{8} - 2 i^{11} k v^{16} - 12 i^{11} k v^{14} \\sqrt{M^{2} + v^{2}} - 30 i^{11} k v^{14} - 40 i^{11} k v^{12} \\sqrt{M^{2} + v^{2}} - 30 i^{11} k v^{12} - 12 i^{11} k v^{10} \\sqrt{M^{2} + v^{2}} - 2 i^{11} k v^{10} + i^{10} k^{2} v^{16} + 4 i^{10} k^{2} v^{14} \\sqrt{M^{2} + v^{2}} + 2 i^{10} k^{2} v^{14} - 20 i^{10} k^{2} v^{12} \\sqrt{M^{2} + v^{2}} - 59 i^{10} k^{2} v^{12} - 80 i^{10} k^{2} v^{10} \\sqrt{M^{2} + v^{2}} - 60 i^{10} k^{2} v^{10} - 24 i^{10} k^{2} v^{8} \\sqrt{M^{2} + v^{2}} - 4 i^{10} k^{2} v^{8} + 4 i^{9} k^{3} v^{14} + 16 i^{9} k^{3} v^{12} \\sqrt{M^{2} + v^{2}} + 24 i^{9} k^{3} v^{12} + 16 i^{9} k^{3} v^{10} \\sqrt{M^{2} + v^{2}} + 4 i^{9} k^{3} v^{10} + 6 i^{8} k^{4} v^{12} + 24 i^{8} k^{4} v^{10} \\sqrt{M^{2} + v^{2}} + 36 i^{8} k^{4} v^{10} + 24 i^{8} k^{4} v^{8} \\sqrt{M^{2} + v^{2}} + 6 i^{8} k^{4} v^{8} - 2 i^{7} k^{5} v^{12} - 4 i^{7} k^{5} v^{10} \\sqrt{M^{2} + v^{2}} - 2 i^{7} k^{5} v^{10} - 4 i^{6} k^{6} v^{10} - 8 i^{6} k^{6} v^{8} \\sqrt{M^{2} + v^{2}} - 4 i^{6} k^{6} v^{8} + i^{4} k^{8} v^{8} = 0 \\right\\} \\setminus \\left\\{0\\right\\}$"
      ],
      "text/plain": [
       "Complement(ConditionSet(i, Eq(M**8*i**12 - 8*M**6*c**2*i**11*k - 2*M**6*c**2*i**11*s*v**2 - 4*M**6*c**2*i**10*k*s*v**2 - 4*M**6*c**2*i**10*k*s - 8*M**6*c**2*i**9*k**2*s - 8*M**6*c*i**11*k*v**2 + 28*M**6*i**12*v**4 + 8*M**6*i**12*v**2*sqrt(M**2 + v**2) + 4*M**6*i**12*v**2 - 2*M**6*i**11*k*v**4 - 4*M**6*i**10*k**2*v**2 + 16*M**4*c**4*i**10*k**2 - 8*M**4*c**4*i**10*k*s*v**2 + M**4*c**4*i**10*s**2*v**4 + 8*M**4*c**4*i**9*k**2*s*v**2 + 16*M**4*c**4*i**9*k**2*s + 2*M**4*c**4*i**9*k*s**2*v**4 + 4*M**4*c**4*i**9*k*s**2*v**2 + 32*M**4*c**4*i**8*k**3*s + 6*M**4*c**4*i**8*k**2*s**2*v**4 + 20*M**4*c**4*i**8*k**2*s**2*v**2 + 6*M**4*c**4*i**8*k**2*s**2 + 24*M**4*c**4*i**7*k**3*s**2*v**2 + 24*M**4*c**4*i**7*k**3*s**2 + 24*M**4*c**4*i**6*k**4*s**2 + 32*M**4*c**3*i**10*k**2*v**2 + 72*M**4*c**3*i**10*k*s*v**4 + 16*M**4*c**3*i**10*k*s*v**2*sqrt(M**2 + v**2) + 8*M**4*c**3*i**9*k**2*s*v**4 + 8*M**4*c**3*i**9*k**2*s*v**2 + 8*M**4*c**3*i**8*k**3*s*v**2 - 120*M**4*c**2*i**11*k*v**4 - 48*M**4*c**2*i**11*k*v**2*sqrt(M**2 + v**2) - 24*M**4*c**2*i**11*k*v**2 - 30*M**4*c**2*i**11*s*v**6 - 12*M**4*c**2*i**11*s*v**4*sqrt(M**2 + v**2) - 6*M**4*c**2*i**11*s*v**4 + 24*M**4*c**2*i**10*k**2*v**4 - 22*M**4*c**2*i**10*k*s*v**6 - 16*M**4*c**2*i**10*k*s*v**4*sqrt(M**2 + v**2) - 52*M**4*c**2*i**10*k*s*v**4 - 20*M**4*c**2*i**10*k*s*v**2*sqrt(M**2 + v**2) - 12*M**4*c**2*i**10*k*s*v**2 + 16*M**4*c**2*i**9*k**3*v**2 + 2*M**4*c**2*i**9*k**2*s*v**6 - 56*M**4*c**2*i**9*k**2*s*v**4 - 36*M**4*c**2*i**9*k**2*s*v**2*sqrt(M**2 + v**2) - 26*M**4*c**2*i**9*k**2*s*v**2 + 8*M**4*c**2*i**8*k**3*s*v**4 + 6*M**4*c**2*i**7*k**4*s*v**2 - 120*M**4*c*i**11*k*v**6 - 48*M**4*c*i**11*k*v**4*sqrt(M**2 + v**2) - 24*M**4*c*i**11*k*v**4 + 8*M**4*c*i**10*k**2*v**6 + 16*M**4*c*i**9*k**3*v**4 + 70*M**4*i**12*v**8 + 56*M**4*i**12*v**6*sqrt(M**2 + v**2) + 84*M**4*i**12*v**6 + 24*M**4*i**12*v**4*sqrt(M**2 + v**2) + 6*M**4*i**12*v**4 - 30*M**4*i**11*k*v**8 - 12*M**4*i**11*k*v**6*sqrt(M**2 + v**2) - 6*M**4*i**11*k*v**6 + M**4*i**10*k**2*v**8 - 60*M**4*i**10*k**2*v**6 - 24*M**4*i**10*k**2*v**4*sqrt(M**2 + v**2) - 12*M**4*i**10*k**2*v**4 + 4*M**4*i**9*k**3*v**6 + 6*M**4*i**8*k**4*v**4 - 32*M**2*c**6*i**8*k**3*s*v**2 + 16*M**2*c**6*i**8*k**2*s**2*v**4 - 2*M**2*c**6*i**8*k*s**3*v**6 + 8*M**2*c**6*i**7*k**3*s**2*v**4 - 8*M**2*c**6*i**7*k**3*s**2 + 2*M**2*c**6*i**7*k**2*s**3*v**6 - 2*M**2*c**6*i**7*k**2*s**3*v**2 - 32*M**2*c**6*i**6*k**4*s**2 - 4*M**2*c**6*i**6*k**3*s**3*v**6 - 12*M**2*c**6*i**6*k**3*s**3*v**4 - 20*M**2*c**6*i**6*k**3*s**3*v**2 - 4*M**2*c**6*i**6*k**3*s**3 - 32*M**2*c**6*i**5*k**5*s**2 - 24*M**2*c**6*i**5*k**4*s**3*v**4 - 56*M**2*c**6*i**5*k**4*s**3*v**2 - 24*M**2*c**6*i**5*k**4*s**3 - 48*M**2*c**6*i**4*k**5*s**3*v**2 - 48*M**2*c**6*i**4*k**5*s**3 - 32*M**2*c**6*i**3*k**6*s**3 - 64*M**2*c**5*i**8*k**3*s*v**4 - 32*M**2*c**5*i**8*k**3*s*v**2 - 80*M**2*c**5*i**8*k**2*s**2*v**6 - 32*M**2*c**5*i**8*k**2*s**2*v**4*sqrt(M**2 + v**2) - 88*M**2*c**5*i**8*k**2*s**2*v**4 - 32*M**2*c**5*i**8*k**2*s**2*v**2*sqrt(M**2 + v**2) - 96*M**2*c**5*i**7*k**4*s*v**2 + 8*M**2*c**5*i**7*k**3*s**2*v**6 - 152*M**2*c**5*i**7*k**3*s**2*v**4 - 64*M**2*c**5*i**7*k**3*s**2*v**2*sqrt(M**2 + v**2) + 8*M**2*c**5*i**7*k**3*s**2*v**2 + 48*M**2*c**5*i**6*k**4*s**2*v**4 + 48*M**2*c**5*i**6*k**4*s**2*v**2 + 64*M**2*c**5*i**5*k**5*s**2*v**2 + 96*M**2*c**4*i**10*k**2*v**4 + 64*M**2*c**4*i**10*k**2*v**2*sqrt(M**2 + v**2) + 32*M**2*c**4*i**10*k**2*v**2 - 48*M**2*c**4*i**10*k*s*v**6 - 32*M**2*c**4*i**10*k*s*v**4*sqrt(M**2 + v**2) - 16*M**2*c**4*i**10*k*s*v**4 + 6*M**2*c**4*i**10*s**2*v**8 + 4*M**2*c**4*i**10*s**2*v**6*sqrt(M**2 + v**2) + 2*M**2*c**4*i**10*s**2*v**6 + 48*M**2*c**4*i**9*k**2*s*v**6 + 32*M**2*c**4*i**9*k**2*s*v**4*sqrt(M**2 + v**2) + 160*M**2*c**4*i**9*k**2*s*v**4 + 80*M**2*c**4*i**9*k**2*s*v**2*sqrt(M**2 + v**2) + 32*M**2*c**4*i**9*k**2*s*v**2 + 12*M**2*c**4*i**9*k*s**2*v**8 + 8*M**2*c**4*i**9*k*s**2*v**6*sqrt(M**2 + v**2) + 16*M**2*c**4*i**9*k*s**2*v**6 + 12*M**2*c**4*i**9*k*s**2*v**4*sqrt(M**2 + v**2) + 8*M**2*c**4*i**9*k*s**2*v**4 - 48*M**2*c**4*i**8*k**3*s*v**6 + 288*M**2*c**4*i**8*k**3*s*v**4 + 176*M**2*c**4*i**8*k**3*s*v**2*sqrt(M**2 + v**2) + 56*M**2*c**4*i**8*k**3*s*v**2 - 8*M**2*c**4*i**8*k**2*s**2*v**8 + 8*M**2*c**4*i**8*k**2*s**2*v**6*sqrt(M**2 + v**2) + 28*M**2*c**4*i**8*k**2*s**2*v**6 + 44*M**2*c**4*i**8*k**2*s**2*v**4*sqrt(M**2 + v**2) + 58*M**2*c**4*i**8*k**2*s**2*v**4 + 16*M**2*c**4*i**8*k**2*s**2*v**2*sqrt(M**2 + v**2) + 12*M**2*c**4*i**8*k**2*s**2*v**2 - 144*M**2*c**4*i**7*k**4*s*v**4 - 64*M**2*c**4*i**7*k**4*s*v**2 + 2*M**2*c**4*i**7*k**3*s**2*v**8 - 4*M**2*c**4*i**7*k**3*s**2*v**6 + 40*M**2*c**4*i**7*k**3*s**2*v**4*sqrt(M**2 + v**2) + 114*M**2*c**4*i**7*k**3*s**2*v**4 + 56*M**2*c**4*i**7*k**3*s**2*v**2*sqrt(M**2 + v**2) + 52*M**2*c**4*i**7*k**3*s**2*v**2 - 104*M**2*c**4*i**6*k**5*s*v**2 + 12*M**2*c**4*i**6*k**4*s**2*v**6 + 78*M**2*c**4*i**6*k**4*s**2*v**4 + 48*M**2*c**4*i**6*k**4*s**2*v**2*sqrt(M**2 + v**2) + 68*M**2*c**4*i**6*k**4*s**2*v**2 + 28*M**2*c**4*i**5*k**5*s**2*v**4 + 36*M**2*c**4*i**5*k**5*s**2*v**2 + 24*M**2*c**4*i**4*k**6*s**2*v**2 + 192*M**2*c**3*i**10*k**2*v**6 + 128*M**2*c**3*i**10*k**2*v**4*sqrt(M**2 + v**2) + 64*M**2*c**3*i**10*k**2*v**4 + 112*M**2*c**3*i**10*k*s*v**8 + 128*M**2*c**3*i**10*k*s*v**6*sqrt(M**2 + v**2) + 144*M**2*c**3*i**10*k*s*v**6 + 32*M**2*c**3*i**10*k*s*v**4*sqrt(M**2 + v**2) + 48*M**2*c**3*i**9*k**2*s*v**8 + 32*M**2*c**3*i**9*k**2*s*v**6*sqrt(M**2 + v**2) + 112*M**2*c**3*i**9*k**2*s*v**6 + 48*M**2*c**3*i**9*k**2*s*v**4*sqrt(M**2 + v**2) + 16*M**2*c**3*i**9*k**2*s*v**4 - 16*M**2*c**3*i**8*k**3*s*v**8 + 72*M**2*c**3*i**8*k**3*s*v**6 + 48*M**2*c**3*i**8*k**3*s*v**4*sqrt(M**2 + v**2) + 8*M**2*c**3*i**8*k**3*s*v**4 - 72*M**2*c**3*i**7*k**4*s*v**6 - 48*M**2*c**3*i**7*k**4*s*v**4 - 56*M**2*c**3*i**6*k**5*s*v**4 - 120*M**2*c**2*i**11*k*v**8 - 160*M**2*c**2*i**11*k*v**6*sqrt(M**2 + v**2) - 240*M**2*c**2*i**11*k*v**6 - 96*M**2*c**2*i**11*k*v**4*sqrt(M**2 + v**2) - 24*M**2*c**2*i**11*k*v**4 - 30*M**2*c**2*i**11*s*v**10 - 40*M**2*c**2*i**11*s*v**8*sqrt(M**2 + v**2) - 60*M**2*c**2*i**11*s*v**8 - 24*M**2*c**2*i**11*s*v**6*sqrt(M**2 + v**2) - 6*M**2*c**2*i**11*s*v**6 + 144*M**2*c**2*i**10*k**2*v**8 + 96*M**2*c**2*i**10*k**2*v**6*sqrt(M**2 + v**2) + 48*M**2*c**2*i**10*k**2*v**6 + 8*M**2*c**2*i**10*k*s*v**10 - 8*M**2*c**2*i**10*k*s*v**8*sqrt(M**2 + v**2) - 64*M**2*c**2*i**10*k*s*v**8 - 72*M**2*c**2*i**10*k*s*v**6*sqrt(M**2 + v**2) - 92*M**2*c**2*i**10*k*s*v**6 - 40*M**2*c**2*i**10*k*s*v**4*sqrt(M**2 + v**2) - 12*M**2*c**2*i**10*k*s*v**4 + 96*M**2*c**2*i**9*k**3*v**6 + 64*M**2*c**2*i**9*k**3*v**4*sqrt(M**2 + v**2) + 32*M**2*c**2*i**9*k**3*v**4 + 12*M**2*c**2*i**9*k**2*s*v**10 + 8*M**2*c**2*i**9*k**2*s*v**8*sqrt(M**2 + v**2) + 40*M**2*c**2*i**9*k**2*s*v**8 - 20*M**2*c**2*i**9*k**2*s*v**6*sqrt(M**2 + v**2) - 124*M**2*c**2*i**9*k**2*s*v**6 - 80*M**2*c**2*i**9*k**2*s*v**4*sqrt(M**2 + v**2) - 28*M**2*c**2*i**9*k**2*s*v**4 - 2*M**2*c**2*i**8*k**3*s*v**10 + 32*M**2*c**2*i**8*k**3*s*v**8 + 28*M**2*c**2*i**8*k**3*s*v**6*sqrt(M**2 + v**2) - 10*M**2*c**2*i**8*k**3*s*v**6 - 8*M**2*c**2*i**8*k**3*s*v**4*sqrt(M**2 + v**2) - 8*M**2*c**2*i**7*k**5*v**4 - 12*M**2*c**2*i**7*k**4*s*v**8 - 46*M**2*c**2*i**7*k**4*s*v**6 + 16*M**2*c**2*i**7*k**4*s*v**4 - 14*M**2*c**2*i**6*k**5*s*v**6 + 12*M**2*c**2*i**6*k**5*s*v**4 + 12*M**2*c**2*i**5*k**6*s*v**4 - 120*M**2*c*i**11*k*v**10 - 160*M**2*c*i**11*k*v**8*sqrt(M**2 + v**2) - 240*M**2*c*i**11*k*v**8 - 96*M**2*c*i**11*k*v**6*sqrt(M**2 + v**2) - 24*M**2*c*i**11*k*v**6 + 48*M**2*c*i**10*k**2*v**10 + 32*M**2*c*i**10*k**2*v**8*sqrt(M**2 + v**2) + 16*M**2*c*i**10*k**2*v**8 + 96*M**2*c*i**9*k**3*v**8 + 64*M**2*c*i**9*k**3*v**6*sqrt(M**2 + v**2) + 32*M**2*c*i**9*k**3*v**6 - 8*M**2*c*i**7*k**5*v**6 + 28*M**2*i**12*v**12 + 56*M**2*i**12*v**10*sqrt(M**2 + v**2) + 140*M**2*i**12*v**10 + 112*M**2*i**12*v**8*sqrt(M**2 + v**2) + 84*M**2*i**12*v**8 + 24*M**2*i**12*v**6*sqrt(M**2 + v**2) + 4*M**2*i**12*v**6 - 30*M**2*i**11*k*v**12 - 40*M**2*i**11*k*v**10*sqrt(M**2 + v**2) - 60*M**2*i**11*k*v**10 - 24*M**2*i**11*k*v**8*sqrt(M**2 + v**2) - 6*M**2*i**11*k*v**8 + 6*M**2*i**10*k**2*v**12 + 4*M**2*i**10*k**2*v**10*sqrt(M**2 + v**2) - 58*M**2*i**10*k**2*v**10 - 80*M**2*i**10*k**2*v**8*sqrt(M**2 + v**2) - 120*M**2*i**10*k**2*v**8 - 48*M**2*i**10*k**2*v**6*sqrt(M**2 + v**2) - 12*M**2*i**10*k**2*v**6 + 24*M**2*i**9*k**3*v**10 + 16*M**2*i**9*k**3*v**8*sqrt(M**2 + v**2) + 8*M**2*i**9*k**3*v**8 + 36*M**2*i**8*k**4*v**8 + 24*M**2*i**8*k**4*v**6*sqrt(M**2 + v**2) + 12*M**2*i**8*k**4*v**6 - 2*M**2*i**7*k**5*v**8 - 4*M**2*i**6*k**6*v**6 + 16*c**8*i**6*k**4*s**2*v**4 - 8*c**8*i**6*k**3*s**3*v**6 + c**8*i**6*k**2*s**4*v**8 - 8*c**8*i**5*k**4*s**3*v**6 - 16*c**8*i**5*k**4*s**3*v**4 - 8*c**8*i**5*k**4*s**3*v**2 - 2*c**8*i**5*k**3*s**4*v**8 - 4*c**8*i**5*k**3*s**4*v**6 - 2*c**8*i**5*k**3*s**4*v**4 - 32*c**8*i**4*k**5*s**3*v**4 - 32*c**8*i**4*k**5*s**3*v**2 + c**8*i**4*k**4*s**4*v**8 - 4*c**8*i**4*k**4*s**4*v**6 - 2*c**8*i**4*k**4*s**4*v**4 + 4*c**8*i**4*k**4*s**4*v**2 + c**8*i**4*k**4*s**4 - 32*c**8*i**3*k**6*s**3*v**2 + 8*c**8*i**3*k**5*s**4*v**6 + 16*c**8*i**3*k**5*s**4*v**4 + 24*c**8*i**3*k**5*s**4*v**2 + 8*c**8*i**3*k**5*s**4 + 24*c**8*i**2*k**6*s**4*v**4 + 48*c**8*i**2*k**6*s**4*v**2 + 24*c**8*i**2*k**6*s**4 + 32*c**8*i*k**7*s**4*v**2 + 32*c**8*i*k**7*s**4 + 16*c**8*k**8*s**4 + 32*c**7*i**6*k**4*s**2*v**6 + 32*c**7*i**6*k**4*s**2*v**4 + 8*c**7*i**6*k**3*s**3*v**8 + 16*c**7*i**6*k**3*s**3*v**6*sqrt(M**2 + v**2) + 24*c**7*i**6*k**3*s**3*v**6 + 32*c**7*i**6*k**3*s**3*v**4*sqrt(M**2 + v**2) + 16*c**7*i**6*k**3*s**3*v**4 + 16*c**7*i**6*k**3*s**3*v**2*sqrt(M**2 + v**2) + 96*c**7*i**5*k**5*s**2*v**4 - 8*c**7*i**5*k**4*s**3*v**8 + 16*c**7*i**5*k**4*s**3*v**6 + 64*c**7*i**5*k**4*s**3*v**4*sqrt(M**2 + v**2) + 40*c**7*i**5*k**4*s**3*v**4 + 64*c**7*i**5*k**4*s**3*v**2*sqrt(M**2 + v**2) - 8*c**7*i**5*k**4*s**3*v**2 - 56*c**7*i**4*k**5*s**3*v**6 - 48*c**7*i**4*k**5*s**3*v**4 + 64*c**7*i**4*k**5*s**3*v**2*sqrt(M**2 + v**2) - 56*c**7*i**4*k**5*s**3*v**2 - 128*c**7*i**3*k**6*s**3*v**4 - 128*c**7*i**3*k**6*s**3*v**2 - 96*c**7*i**2*k**7*s**3*v**2 - 32*c**6*i**8*k**3*s*v**6 - 64*c**6*i**8*k**3*s*v**4*sqrt(M**2 + v**2) - 32*c**6*i**8*k**3*s*v**4 + 16*c**6*i**8*k**2*s**2*v**8 + 32*c**6*i**8*k**2*s**2*v**6*sqrt(M**2 + v**2) + 16*c**6*i**8*k**2*s**2*v**6 - 2*c**6*i**8*k*s**3*v**10 - 4*c**6*i**8*k*s**3*v**8*sqrt(M**2 + v**2) - 2*c**6*i**8*k*s**3*v**8 + 8*c**6*i**7*k**3*s**2*v**8 + 16*c**6*i**7*k**3*s**2*v**6*sqrt(M**2 + v**2) - 8*c**6*i**7*k**3*s**2*v**6 - 16*c**6*i**7*k**3*s**2*v**4*sqrt(M**2 + v**2) - 8*c**6*i**7*k**3*s**2*v**4 - 16*c**6*i**7*k**3*s**2*v**2*sqrt(M**2 + v**2) - 8*c**6*i**7*k**3*s**2*v**2 + 2*c**6*i**7*k**2*s**3*v**10 + 4*c**6*i**7*k**2*s**3*v**8*sqrt(M**2 + v**2) + 6*c**6*i**7*k**2*s**3*v**8 + 4*c**6*i**7*k**2*s**3*v**6*sqrt(M**2 + v**2) - 2*c**6*i**7*k**2*s**3*v**6 - 4*c**6*i**7*k**2*s**3*v**4*sqrt(M**2 + v**2) - 2*c**6*i**7*k**2*s**3*v**4 + 24*c**6*i**6*k**4*s**2*v**8 - 48*c**6*i**6*k**4*s**2*v**4*sqrt(M**2 + v**2) - 8*c**6*i**6*k**4*s**2*v**4 - 64*c**6*i**6*k**4*s**2*v**2*sqrt(M**2 + v**2) - 32*c**6*i**6*k**4*s**2*v**2 + 2*c**6*i**6*k**3*s**3*v**10 + 12*c**6*i**6*k**3*s**3*v**8 + 8*c**6*i**6*k**3*s**3*v**6*sqrt(M**2 + v**2) - 18*c**6*i**6*k**3*s**3*v**6 - 24*c**6*i**6*k**3*s**3*v**4*sqrt(M**2 + v**2) - 20*c**6*i**6*k**3*s**3*v**4 - 4*c**6*i**6*k**3*s**3*v**2*sqrt(M**2 + v**2) - 4*c**6*i**6*k**3*s**3*v**2 + 128*c**6*i**5*k**5*s**2*v**6 + 96*c**6*i**5*k**5*s**2*v**4 - 64*c**6*i**5*k**5*s**2*v**2*sqrt(M**2 + v**2) - 32*c**6*i**5*k**5*s**2*v**2 - 2*c**6*i**5*k**4*s**3*v**10 - 4*c**6*i**5*k**4*s**3*v**8 - 4*c**6*i**5*k**4*s**3*v**6*sqrt(M**2 + v**2) - 36*c**6*i**5*k**4*s**3*v**6 - 40*c**6*i**5*k**4*s**3*v**4*sqrt(M**2 + v**2) - 60*c**6*i**5*k**4*s**3*v**4 - 20*c**6*i**5*k**4*s**3*v**2*sqrt(M**2 + v**2) - 26*c**6*i**5*k**4*s**3*v**2 + 184*c**6*i**4*k**6*s**2*v**4 - 16*c**6*i**4*k**5*s**3*v**8 - 42*c**6*i**4*k**5*s**3*v**6 - 16*c**6*i**4*k**5*s**3*v**4*sqrt(M**2 + v**2) - 80*c**6*i**4*k**5*s**3*v**4 - 32*c**6*i**4*k**5*s**3*v**2*sqrt(M**2 + v**2) - 64*c**6*i**4*k**5*s**3*v**2 - 50*c**6*i**3*k**6*s**3*v**6 - 84*c**6*i**3*k**6*s**3*v**4 - 16*c**6*i**3*k**6*s**3*v**2*sqrt(M**2 + v**2) - 82*c**6*i**3*k**6*s**3*v**2 - 72*c**6*i**2*k**7*s**3*v**4 - 72*c**6*i**2*k**7*s**3*v**2 - 40*c**6*i*k**8*s**3*v**2 - 64*c**5*i**8*k**3*s*v**8 - 128*c**5*i**8*k**3*s*v**6*sqrt(M**2 + v**2) - 96*c**5*i**8*k**3*s*v**6 - 64*c**5*i**8*k**3*s*v**4*sqrt(M**2 + v**2) - 32*c**5*i**8*k**3*s*v**4 - 16*c**5*i**8*k**2*s**2*v**10 - 64*c**5*i**8*k**2*s**2*v**8*sqrt(M**2 + v**2) - 104*c**5*i**8*k**2*s**2*v**8 - 112*c**5*i**8*k**2*s**2*v**6*sqrt(M**2 + v**2) - 88*c**5*i**8*k**2*s**2*v**6 - 32*c**5*i**8*k**2*s**2*v**4*sqrt(M**2 + v**2) - 96*c**5*i**7*k**4*s*v**6 - 192*c**5*i**7*k**4*s*v**4*sqrt(M**2 + v**2) - 96*c**5*i**7*k**4*s*v**4 + 8*c**5*i**7*k**3*s**2*v**10 + 16*c**5*i**7*k**3*s**2*v**8*sqrt(M**2 + v**2) - 32*c**5*i**7*k**3*s**2*v**8 - 128*c**5*i**7*k**3*s**2*v**6*sqrt(M**2 + v**2) - 160*c**5*i**7*k**3*s**2*v**6 - 64*c**5*i**7*k**3*s**2*v**4*sqrt(M**2 + v**2) + 8*c**5*i**7*k**3*s**2*v**4 + 8*c**5*i**6*k**4*s**2*v**10 + 56*c**5*i**6*k**4*s**2*v**8 + 80*c**5*i**6*k**4*s**2*v**6*sqrt(M**2 + v**2) + 56*c**5*i**6*k**4*s**2*v**6 + 32*c**5*i**6*k**4*s**2*v**4*sqrt(M**2 + v**2) + 56*c**5*i**6*k**4*s**2*v**4 + 56*c**5*i**5*k**5*s**2*v**8 + 96*c**5*i**5*k**5*s**2*v**6 + 48*c**5*i**5*k**5*s**2*v**4*sqrt(M**2 + v**2) + 120*c**5*i**5*k**5*s**2*v**4 + 136*c**5*i**4*k**6*s**2*v**6 + 136*c**5*i**4*k**6*s**2*v**4 + 120*c**5*i**3*k**7*s**2*v**4 + 16*c**4*i**10*k**2*v**8 + 64*c**4*i**10*k**2*v**6*sqrt(M**2 + v**2) + 96*c**4*i**10*k**2*v**6 + 64*c**4*i**10*k**2*v**4*sqrt(M**2 + v**2) + 16*c**4*i**10*k**2*v**4 - 8*c**4*i**10*k*s*v**10 - 32*c**4*i**10*k*s*v**8*sqrt(M**2 + v**2) - 48*c**4*i**10*k*s*v**8 - 32*c**4*i**10*k*s*v**6*sqrt(M**2 + v**2) - 8*c**4*i**10*k*s*v**6 + c**4*i**10*s**2*v**12 + 4*c**4*i**10*s**2*v**10*sqrt(M**2 + v**2) + 6*c**4*i**10*s**2*v**10 + 4*c**4*i**10*s**2*v**8*sqrt(M**2 + v**2) + c**4*i**10*s**2*v**8 + 8*c**4*i**9*k**2*s*v**10 + 32*c**4*i**9*k**2*s*v**8*sqrt(M**2 + v**2) + 80*c**4*i**9*k**2*s*v**8 + 144*c**4*i**9*k**2*s*v**6*sqrt(M**2 + v**2) + 152*c**4*i**9*k**2*s*v**6 + 80*c**4*i**9*k**2*s*v**4*sqrt(M**2 + v**2) + 16*c**4*i**9*k**2*s*v**4 + 2*c**4*i**9*k*s**2*v**12 + 8*c**4*i**9*k*s**2*v**10*sqrt(M**2 + v**2) + 12*c**4*i**9*k*s**2*v**10 + 12*c**4*i**9*k*s**2*v**8*sqrt(M**2 + v**2) + 14*c**4*i**9*k*s**2*v**8 + 12*c**4*i**9*k*s**2*v**6*sqrt(M**2 + v**2) + 4*c**4*i**9*k*s**2*v**6 - 48*c**4*i**8*k**3*s*v**10 - 96*c**4*i**8*k**3*s*v**8*sqrt(M**2 + v**2) - 16*c**4*i**8*k**3*s*v**8 + 176*c**4*i**8*k**3*s*v**6*sqrt(M**2 + v**2) + 280*c**4*i**8*k**3*s*v**6 + 160*c**4*i**8*k**3*s*v**4*sqrt(M**2 + v**2) + 24*c**4*i**8*k**3*s*v**4 - 6*c**4*i**8*k**2*s**2*v**12 - 16*c**4*i**8*k**2*s**2*v**10*sqrt(M**2 + v**2) - 20*c**4*i**8*k**2*s**2*v**10 - 12*c**4*i**8*k**2*s**2*v**8*sqrt(M**2 + v**2) + 26*c**4*i**8*k**2*s**2*v**8 + 56*c**4*i**8*k**2*s**2*v**6*sqrt(M**2 + v**2) + 38*c**4*i**8*k**2*s**2*v**6 + 16*c**4*i**8*k**2*s**2*v**4*sqrt(M**2 + v**2) + 6*c**4*i**8*k**2*s**2*v**4 - 144*c**4*i**7*k**4*s*v**8 - 288*c**4*i**7*k**4*s*v**6*sqrt(M**2 + v**2) - 208*c**4*i**7*k**4*s*v**6 - 128*c**4*i**7*k**4*s*v**4*sqrt(M**2 + v**2) - 64*c**4*i**7*k**4*s*v**4 + 2*c**4*i**7*k**3*s**2*v**12 + 4*c**4*i**7*k**3*s**2*v**10*sqrt(M**2 + v**2) - 14*c**4*i**7*k**3*s**2*v**10 - 36*c**4*i**7*k**3*s**2*v**8*sqrt(M**2 + v**2) + 14*c**4*i**7*k**3*s**2*v**8 + 92*c**4*i**7*k**3*s**2*v**6*sqrt(M**2 + v**2) + 90*c**4*i**7*k**3*s**2*v**6 + 60*c**4*i**7*k**3*s**2*v**4*sqrt(M**2 + v**2) + 28*c**4*i**7*k**3*s**2*v**4 - 104*c**4*i**6*k**5*s*v**6 - 208*c**4*i**6*k**5*s*v**4*sqrt(M**2 + v**2) - 104*c**4*i**6*k**5*s*v**4 + c**4*i**6*k**4*s**2*v**12 + 20*c**4*i**6*k**4*s**2*v**10 + 28*c**4*i**6*k**4*s**2*v**8*sqrt(M**2 + v**2) + 48*c**4*i**6*k**4*s**2*v**8 + 84*c**4*i**6*k**4*s**2*v**6*sqrt(M**2 + v**2) + 74*c**4*i**6*k**4*s**2*v**6 + 60*c**4*i**6*k**4*s**2*v**4*sqrt(M**2 + v**2) + 45*c**4*i**6*k**4*s**2*v**4 - 8*c**4*i**5*k**6*s*v**6 + 8*c**4*i**5*k**5*s**2*v**10 + 34*c**4*i**5*k**5*s**2*v**8 + 40*c**4*i**5*k**5*s**2*v**6*sqrt(M**2 + v**2) + 20*c**4*i**5*k**5*s**2*v**6 + 4*c**4*i**5*k**5*s**2*v**4*sqrt(M**2 + v**2) + 44*c**4*i**5*k**5*s**2*v**4 + 28*c**4*i**4*k**6*s**2*v**8 + 20*c**4*i**4*k**6*s**2*v**6 - 12*c**4*i**4*k**6*s**2*v**4*sqrt(M**2 + v**2) + 52*c**4*i**4*k**6*s**2*v**4 + 48*c**4*i**3*k**7*s**2*v**6 + 48*c**4*i**3*k**7*s**2*v**4 + 33*c**4*i**2*k**8*s**2*v**4 + 32*c**3*i**10*k**2*v**10 + 128*c**3*i**10*k**2*v**8*sqrt(M**2 + v**2) + 192*c**3*i**10*k**2*v**8 + 128*c**3*i**10*k**2*v**6*sqrt(M**2 + v**2) + 32*c**3*i**10*k**2*v**6 + 8*c**3*i**10*k*s*v**12 + 48*c**3*i**10*k*s*v**10*sqrt(M**2 + v**2) + 112*c**3*i**10*k*s*v**10 + 128*c**3*i**10*k*s*v**8*sqrt(M**2 + v**2) + 72*c**3*i**10*k*s*v**8 + 16*c**3*i**10*k*s*v**6*sqrt(M**2 + v**2) + 8*c**3*i**9*k**2*s*v**12 + 32*c**3*i**9*k**2*s*v**10*sqrt(M**2 + v**2) + 72*c**3*i**9*k**2*s*v**10 + 112*c**3*i**9*k**2*s*v**8*sqrt(M**2 + v**2) + 104*c**3*i**9*k**2*s*v**8 + 48*c**3*i**9*k**2*s*v**6*sqrt(M**2 + v**2) + 8*c**3*i**9*k**2*s*v**6 - 16*c**3*i**8*k**3*s*v**12 - 32*c**3*i**8*k**3*s*v**10*sqrt(M**2 + v**2) - 16*c**3*i**8*k**3*s*v**10 + 32*c**3*i**8*k**3*s*v**8*sqrt(M**2 + v**2) + 64*c**3*i**8*k**3*s*v**8 + 32*c**3*i**8*k**3*s*v**6*sqrt(M**2 + v**2) - 72*c**3*i**7*k**4*s*v**10 - 144*c**3*i**7*k**4*s*v**8*sqrt(M**2 + v**2) - 120*c**3*i**7*k**4*s*v**8 - 96*c**3*i**7*k**4*s*v**6*sqrt(M**2 + v**2) - 48*c**3*i**7*k**4*s*v**6 - 40*c**3*i**6*k**5*s*v**8 - 96*c**3*i**6*k**5*s*v**6*sqrt(M**2 + v**2) - 56*c**3*i**6*k**5*s*v**6 - 8*c**3*i**5*k**6*s*v**8 - 8*c**3*i**5*k**6*s*v**6 - 24*c**3*i**4*k**7*s*v**6 - 8*c**2*i**11*k*v**12 - 48*c**2*i**11*k*v**10*sqrt(M**2 + v**2) - 120*c**2*i**11*k*v**10 - 160*c**2*i**11*k*v**8*sqrt(M**2 + v**2) - 120*c**2*i**11*k*v**8 - 48*c**2*i**11*k*v**6*sqrt(M**2 + v**2) - 8*c**2*i**11*k*v**6 - 2*c**2*i**11*s*v**14 - 12*c**2*i**11*s*v**12*sqrt(M**2 + v**2) - 30*c**2*i**11*s*v**12 - 40*c**2*i**11*s*v**10*sqrt(M**2 + v**2) - 30*c**2*i**11*s*v**10 - 12*c**2*i**11*s*v**8*sqrt(M**2 + v**2) - 2*c**2*i**11*s*v**8 + 24*c**2*i**10*k**2*v**12 + 96*c**2*i**10*k**2*v**10*sqrt(M**2 + v**2) + 144*c**2*i**10*k**2*v**10 + 96*c**2*i**10*k**2*v**8*sqrt(M**2 + v**2) + 24*c**2*i**10*k**2*v**8 + 2*c**2*i**10*k*s*v**14 + 8*c**2*i**10*k*s*v**12*sqrt(M**2 + v**2) + 8*c**2*i**10*k*s*v**12 - 12*c**2*i**10*k*s*v**10*sqrt(M**2 + v**2) - 42*c**2*i**10*k*s*v**10 - 56*c**2*i**10*k*s*v**8*sqrt(M**2 + v**2) - 44*c**2*i**10*k*s*v**8 - 20*c**2*i**10*k*s*v**6*sqrt(M**2 + v**2) - 4*c**2*i**10*k*s*v**6 + 16*c**2*i**9*k**3*v**10 + 64*c**2*i**9*k**3*v**8*sqrt(M**2 + v**2) + 96*c**2*i**9*k**3*v**8 + 64*c**2*i**9*k**3*v**6*sqrt(M**2 + v**2) + 16*c**2*i**9*k**3*v**6 + 2*c**2*i**9*k**2*s*v**14 + 8*c**2*i**9*k**2*s*v**12*sqrt(M**2 + v**2) + 24*c**2*i**9*k**2*s*v**12 + 48*c**2*i**9*k**2*s*v**10*sqrt(M**2 + v**2) + 36*c**2*i**9*k**2*s*v**10 - 28*c**2*i**9*k**2*s*v**8*sqrt(M**2 + v**2) - 68*c**2*i**9*k**2*s*v**8 - 44*c**2*i**9*k**2*s*v**6*sqrt(M**2 + v**2) - 10*c**2*i**9*k**2*s*v**6 - 2*c**2*i**8*k**3*s*v**14 - 4*c**2*i**8*k**3*s*v**12*sqrt(M**2 + v**2) - 2*c**2*i**8*k**3*s*v**12 + 12*c**2*i**8*k**3*s*v**10*sqrt(M**2 + v**2) + 22*c**2*i**8*k**3*s*v**10 - 18*c**2*i**8*k**3*s*v**8 - 8*c**2*i**8*k**3*s*v**6*sqrt(M**2 + v**2) - 8*c**2*i**7*k**5*v**8 - 16*c**2*i**7*k**5*v**6*sqrt(M**2 + v**2) - 8*c**2*i**7*k**5*v**6 - 12*c**2*i**7*k**4*s*v**12 - 24*c**2*i**7*k**4*s*v**10*sqrt(M**2 + v**2) - 40*c**2*i**7*k**4*s*v**10 - 68*c**2*i**7*k**4*s*v**8*sqrt(M**2 + v**2) - 42*c**2*i**7*k**4*s*v**8 + 8*c**2*i**7*k**4*s*v**6*sqrt(M**2 + v**2) + 10*c**2*i**7*k**4*s*v**6 - 6*c**2*i**6*k**5*s*v**10 - 20*c**2*i**6*k**5*s*v**8*sqrt(M**2 + v**2) + 2*c**2*i**6*k**5*s*v**8 + 28*c**2*i**6*k**5*s*v**6*sqrt(M**2 + v**2) + 12*c**2*i**6*k**5*s*v**6 - 2*c**2*i**5*k**6*s*v**10 + 20*c**2*i**5*k**6*s*v**8 + 36*c**2*i**5*k**6*s*v**6*sqrt(M**2 + v**2) + 10*c**2*i**5*k**6*s*v**6 - 8*c**2*i**4*k**7*s*v**8 - 8*c**2*i**4*k**7*s*v**6 - 10*c**2*i**3*k**8*s*v**6 - 8*c*i**11*k*v**14 - 48*c*i**11*k*v**12*sqrt(M**2 + v**2) - 120*c*i**11*k*v**12 - 160*c*i**11*k*v**10*sqrt(M**2 + v**2) - 120*c*i**11*k*v**10 - 48*c*i**11*k*v**8*sqrt(M**2 + v**2) - 8*c*i**11*k*v**8 + 8*c*i**10*k**2*v**14 + 32*c*i**10*k**2*v**12*sqrt(M**2 + v**2) + 48*c*i**10*k**2*v**12 + 32*c*i**10*k**2*v**10*sqrt(M**2 + v**2) + 8*c*i**10*k**2*v**10 + 16*c*i**9*k**3*v**12 + 64*c*i**9*k**3*v**10*sqrt(M**2 + v**2) + 96*c*i**9*k**3*v**10 + 64*c*i**9*k**3*v**8*sqrt(M**2 + v**2) + 16*c*i**9*k**3*v**8 - 8*c*i**7*k**5*v**10 - 16*c*i**7*k**5*v**8*sqrt(M**2 + v**2) - 8*c*i**7*k**5*v**8 + i**12*v**16 + 8*i**12*v**14*sqrt(M**2 + v**2) + 28*i**12*v**14 + 56*i**12*v**12*sqrt(M**2 + v**2) + 70*i**12*v**12 + 56*i**12*v**10*sqrt(M**2 + v**2) + 28*i**12*v**10 + 8*i**12*v**8*sqrt(M**2 + v**2) + i**12*v**8 - 2*i**11*k*v**16 - 12*i**11*k*v**14*sqrt(M**2 + v**2) - 30*i**11*k*v**14 - 40*i**11*k*v**12*sqrt(M**2 + v**2) - 30*i**11*k*v**12 - 12*i**11*k*v**10*sqrt(M**2 + v**2) - 2*i**11*k*v**10 + i**10*k**2*v**16 + 4*i**10*k**2*v**14*sqrt(M**2 + v**2) + 2*i**10*k**2*v**14 - 20*i**10*k**2*v**12*sqrt(M**2 + v**2) - 59*i**10*k**2*v**12 - 80*i**10*k**2*v**10*sqrt(M**2 + v**2) - 60*i**10*k**2*v**10 - 24*i**10*k**2*v**8*sqrt(M**2 + v**2) - 4*i**10*k**2*v**8 + 4*i**9*k**3*v**14 + 16*i**9*k**3*v**12*sqrt(M**2 + v**2) + 24*i**9*k**3*v**12 + 16*i**9*k**3*v**10*sqrt(M**2 + v**2) + 4*i**9*k**3*v**10 + 6*i**8*k**4*v**12 + 24*i**8*k**4*v**10*sqrt(M**2 + v**2) + 36*i**8*k**4*v**10 + 24*i**8*k**4*v**8*sqrt(M**2 + v**2) + 6*i**8*k**4*v**8 - 2*i**7*k**5*v**12 - 4*i**7*k**5*v**10*sqrt(M**2 + v**2) - 2*i**7*k**5*v**10 - 4*i**6*k**6*v**10 - 8*i**6*k**6*v**8*sqrt(M**2 + v**2) - 4*i**6*k**6*v**8 + i**4*k**8*v**8, 0), Complexes), {0})"
      ]
     },
     "execution_count": 8,
     "metadata": {},
     "output_type": "execute_result"
    }
   ],
   "source": [
    "solveset(delta_square_i, i)"
   ]
  }
 ],
 "metadata": {
  "kernelspec": {
   "display_name": "scope",
   "language": "python",
   "name": "python3"
  },
  "language_info": {
   "codemirror_mode": {
    "name": "ipython",
    "version": 3
   },
   "file_extension": ".py",
   "mimetype": "text/x-python",
   "name": "python",
   "nbconvert_exporter": "python",
   "pygments_lexer": "ipython3",
   "version": "3.10.9"
  },
  "orig_nbformat": 4
 },
 "nbformat": 4,
 "nbformat_minor": 2
}
