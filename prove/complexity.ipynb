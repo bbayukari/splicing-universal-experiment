{
 "cells": [
  {
   "cell_type": "markdown",
   "metadata": {},
   "source": [
    "abess-universal 算法复杂度证明 技术性条件验证"
   ]
  },
  {
   "cell_type": "code",
   "execution_count": 3,
   "metadata": {},
   "outputs": [],
   "source": [
    "import math\n",
    "import matplotlib.pyplot as plt  \n",
    "import numpy as np\n",
    "from scipy.optimize import fsolve"
   ]
  },
  {
   "cell_type": "markdown",
   "metadata": {},
   "source": [
    "f为 $\\frac{\\mathcal{L}(\\tilde{\\boldsymbol{\\theta}})-\\mathcal{L}(\\boldsymbol{\\theta}^*)}{\\mathcal{L}(\\hat{\\boldsymbol{\\theta}})-\\mathcal{L}(\\boldsymbol{\\theta}^*)} $"
   ]
  },
  {
   "cell_type": "code",
   "execution_count": 2,
   "metadata": {},
   "outputs": [],
   "source": [
    "def f(x, y=None, z=None):\n",
    "    if y is None:\n",
    "        y=(1.42-x)*3/7\n",
    "    if z is None:\n",
    "        z=(x-1)/2\n",
    "    d = (1+math.sqrt(x))*math.sqrt((z+y)**2+(y+z*y+z**2+z)**2)\n",
    "    return (y**2+x*y**2/2+(2*y*z+x*y*z/2+y)*d+(x*z**2/2+z**2+x/2)*d**2) / (0.5-y**2-y*z-y-x*y**2/2-x*y*z-x*z**2/2-y*z-z**2)"
   ]
  },
  {
   "cell_type": "markdown",
   "metadata": {},
   "source": [
    "首先考察f在现有技术性条件下，是否严格小于1"
   ]
  },
  {
   "cell_type": "code",
   "execution_count": 7,
   "metadata": {},
   "outputs": [
    {
     "data": {
      "text/plain": [
       "[<matplotlib.lines.Line2D at 0x14e5fc6f7130>]"
      ]
     },
     "execution_count": 7,
     "metadata": {},
     "output_type": "execute_result"
    },
    {
     "data": {
      "image/png": "[encoded data removed]",
      "text/plain": [
       "<Figure size 432x288 with 1 Axes>"
      ]
     },
     "metadata": {
      "needs_background": "light"
     },
     "output_type": "display_data"
    }
   ],
   "source": [
    "x = np.linspace(1,1.42,1000)\n",
    "y = np.array([f(i) for i in x])\n",
    "plt.plot(x,y)"
   ]
  },
  {
   "cell_type": "markdown",
   "metadata": {},
   "source": [
    "检查f在x接近1时的大小"
   ]
  },
  {
   "cell_type": "code",
   "execution_count": 11,
   "metadata": {},
   "outputs": [
    {
     "data": {
      "text/plain": [
       "0.9942558542438333"
      ]
     },
     "execution_count": 11,
     "metadata": {},
     "output_type": "execute_result"
    }
   ],
   "source": [
    "f(1)"
   ]
  },
  {
   "cell_type": "markdown",
   "metadata": {},
   "source": [
    "f为 $\\mathcal{L}(\\hat{\\boldsymbol{\\theta}})-\\mathcal{L}(\\boldsymbol{\\theta}^*)$"
   ]
  },
  {
   "cell_type": "code",
   "execution_count": 1,
   "metadata": {},
   "outputs": [],
   "source": [
    "def g(x, y=None, z=None):\n",
    "    if y is None:\n",
    "        y=(1.42-x)*3/7\n",
    "    if z is None:\n",
    "        z=(x-1)/2\n",
    "    return 0.5-y**2-y*z-y-x*y**2/2-x*y*z-x*z**2/2-y*z-z**2"
   ]
  },
  {
   "cell_type": "code",
   "execution_count": 4,
   "metadata": {},
   "outputs": [
    {
     "data": {
      "text/plain": [
       "[<matplotlib.lines.Line2D at 0x14d1bfd52620>]"
      ]
     },
     "execution_count": 4,
     "metadata": {},
     "output_type": "execute_result"
    },
    {
     "data": {
      "image/png": "[encoded data removed]",
      "text/plain": [
       "<Figure size 432x288 with 1 Axes>"
      ]
     },
     "metadata": {
      "needs_background": "light"
     },
     "output_type": "display_data"
    }
   ],
   "source": [
    "x = np.linspace(1,1.42,1000)\n",
    "y = np.array([g(i) for i in x])\n",
    "plt.plot(x,y)"
   ]
  },
  {
   "cell_type": "code",
   "execution_count": 5,
   "metadata": {},
   "outputs": [
    {
     "data": {
      "text/plain": [
       "0.2714000000000001"
      ]
     },
     "execution_count": 5,
     "metadata": {},
     "output_type": "execute_result"
    }
   ],
   "source": [
    "g(1)"
   ]
  }
 ],
 "metadata": {
  "kernelspec": {
   "display_name": "Python 3.10.4 ('abess-dev')",
   "language": "python",
   "name": "python3"
  },
  "language_info": {
   "codemirror_mode": {
    "name": "ipython",
    "version": 3
   },
   "file_extension": ".py",
   "mimetype": "text/x-python",
   "name": "python",
   "nbconvert_exporter": "python",
   "pygments_lexer": "ipython3",
   "version": "3.10.4"
  },
  "orig_nbformat": 4,
  "vscode": {
   "interpreter": {
    "hash": "4b3267657c2ca56fed6d7fdb7edada955d98b24e50acd65b198d3fe30cfd65ff"
   }
  }
 },
 "nbformat": 4,
 "nbformat_minor": 2
}
