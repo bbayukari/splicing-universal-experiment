{
 "cells": [
  {
   "cell_type": "code",
   "execution_count": 10,
   "metadata": {},
   "outputs": [],
   "source": [
    "import re\n",
    "import numpy as np\n",
    "\n",
    "with open(\"logs/scope.log\") as f:\n",
    "    lines = f.readlines()\n",
    "\n",
    "lines = [line for line in lines if line[0] == \"[\"]\n"
   ]
  },
  {
   "cell_type": "code",
   "execution_count": 11,
   "metadata": {},
   "outputs": [],
   "source": [
    "def get_time(line):\n",
    "    time = re.findall(r\"\\d\\d:\\d\\d:\\d\\d\\.\\d\\d\\d\", line)[0]\n",
    "    hour, min, sec = time.split(\":\")\n",
    "    return float(hour) * 3600 + float(min) * 60 + float(sec)"
   ]
  },
  {
   "cell_type": "code",
   "execution_count": 12,
   "metadata": {},
   "outputs": [
    {
     "name": "stdout",
     "output_type": "stream",
     "text": [
      "scope time [0.156, 0.344, 1.171, 1.19, 2.095, 2.69, 3.626, 2.172, 1.841, 2.699, 2.686, 2.868, 1.862, 2.935, 2.58, 2.457, 2.284, 3.461, 4.105, 2.761]\n"
     ]
    }
   ],
   "source": [
    "scope_time = []\n",
    "for line in lines:\n",
    "    if \"SCOPE begin!\" in line:\n",
    "        begin = get_time(line)\n",
    "    if \"SCOPE end!\" in line:\n",
    "        end = get_time(line)\n",
    "        scope_time.append(round(end - begin, 3))\n",
    "\n",
    "print(\"scope time\", scope_time)"
   ]
  },
  {
   "cell_type": "code",
   "execution_count": 15,
   "metadata": {},
   "outputs": [
    {
     "name": "stdout",
     "output_type": "stream",
     "text": [
      "the num of splicing iterations:  [1, 1, 4, 7, 15, 11, 12, 9, 4, 5, 4, 7, 4, 5, 4, 4, 4, 3, 4, 3]\n"
     ]
    }
   ],
   "source": [
    "splicing = []\n",
    "\n",
    "for line in lines:\n",
    "    if \"SCOPE begin!\" in line:\n",
    "        splicing.append(0)\n",
    "    if \"splicing iteration\" in line:\n",
    "        splicing[-1] += 1\n",
    "\n",
    "print(\"the num of splicing iterations: \", splicing)"
   ]
  },
  {
   "cell_type": "code",
   "execution_count": 6,
   "metadata": {},
   "outputs": [
    {
     "name": "stdout",
     "output_type": "stream",
     "text": [
      "the num of trying to splice:  [3, 3, 8, 9, 19, 12, 15, 16, 8, 9, 8, 13, 8, 9, 8, 8, 8, 7, 8, 7]\n"
     ]
    }
   ],
   "source": [
    "splicing = []\n",
    "\n",
    "for line in lines:\n",
    "    if \"SCOPE begin!\" in line:\n",
    "        splicing.append(0)\n",
    "    if \"splicing operator\" in line:\n",
    "        splicing[-1] += 1\n",
    "\n",
    "print(\"the num of trying to splice: \", splicing)"
   ]
  },
  {
   "cell_type": "code",
   "execution_count": 13,
   "metadata": {},
   "outputs": [
    {
     "name": "stdout",
     "output_type": "stream",
     "text": [
      "the num of sacrifice:  [2, 2, 6, 10, 18, 14, 15, 12, 6, 7, 6, 10, 6, 7, 6, 6, 6, 5, 6, 5] , mean:  7.75\n",
      "the percent time of sacrifice:  ['80.77%', '63.08%', '53.12%', '69.41%', '66.25%', '68.88%', '60.54%', '66.9%', '49.0%', '57.39%', '56.96%', '64.64%', '66.76%', '70.15%', '77.75%', '59.91%', '68.21%', '61.8%', '60.39%', '58.6%'] , mean:  64.03%\n"
     ]
    }
   ],
   "source": [
    "sacrifice_num = []\n",
    "sacrifice_time = []\n",
    "begin = 0\n",
    "\n",
    "for line in lines:\n",
    "    if \"SCOPE begin!\" in line:\n",
    "        sacrifice_num.append(0)\n",
    "        sacrifice_time.append(0)\n",
    "    if \"sacrifice begin\" in line:\n",
    "        sacrifice_num[-1] += 1\n",
    "        begin = get_time(line)\n",
    "    if \"sacrifice end\" in line:\n",
    "        sacrifice_time[-1] += round(get_time(line) - begin, 3)\n",
    "\n",
    "sacrifice_percent_time = [i / j for i, j in zip(sacrifice_time, scope_time)]\n",
    "\n",
    "print(\"the num of sacrifice: \", sacrifice_num, \", mean: \", np.mean(sacrifice_num))\n",
    "print(\"the percent time of sacrifice: \", [str(round(i*100, 2)) + \"%\" for i in sacrifice_percent_time], \", mean: \", str(round(np.mean(sacrifice_percent_time)*100, 2)) + \"%\")"
   ]
  },
  {
   "cell_type": "code",
   "execution_count": 14,
   "metadata": {},
   "outputs": [
    {
     "name": "stdout",
     "output_type": "stream",
     "text": [
      "the num of optimization:  [5, 5, 10, 15, 23, 19, 20, 17, 10, 11, 10, 15, 10, 11, 10, 10, 10, 9, 10, 9] , mean:  11.95\n",
      "the percent time of optimization:  ['16.67%', '35.17%', '45.6%', '29.66%', '32.55%', '30.22%', '38.72%', '32.32%', '50.52%', '41.94%', '42.41%', '34.62%', '32.6%', '29.1%', '21.51%', '39.44%', '31.0%', '37.62%', '39.05%', '40.85%'] , mean:  35.08%\n"
     ]
    }
   ],
   "source": [
    "optim_num = []\n",
    "optim_time = []\n",
    "begin = 0\n",
    "\n",
    "for line in lines:\n",
    "    if \"SCOPE begin!\" in line:\n",
    "        optim_num.append(0)\n",
    "        optim_time.append(0)\n",
    "    if \"optimization begin\" in line:\n",
    "        optim_num[-1] += 1\n",
    "        begin = get_time(line)\n",
    "    if \"optimization end\" in line:\n",
    "        optim_time[-1] += round(get_time(line) - begin, 3)\n",
    "\n",
    "optim_percent_time = [i / j for i, j in zip(optim_time, scope_time)]\n",
    "\n",
    "print(\"the num of optimization: \", optim_num, \", mean: \", np.mean(optim_num))\n",
    "print(\"the percent time of optimization: \", [str(round(i*100, 2)) + \"%\" for i in optim_percent_time], \", mean: \", str(round(np.mean(optim_percent_time)*100, 2)) + \"%\")"
   ]
  }
 ],
 "metadata": {
  "kernelspec": {
   "display_name": "Python 3.10.8 ('abess-dev')",
   "language": "python",
   "name": "python3"
  },
  "language_info": {
   "codemirror_mode": {
    "name": "ipython",
    "version": 3
   },
   "file_extension": ".py",
   "mimetype": "text/x-python",
   "name": "python",
   "nbconvert_exporter": "python",
   "pygments_lexer": "ipython3",
   "version": "3.10.8"
  },
  "orig_nbformat": 4,
  "vscode": {
   "interpreter": {
    "hash": "e1dbdcad3726dca8b3fd850eaad821d4014ff0364638781e61d97cf83122f8d9"
   }
  }
 },
 "nbformat": 4,
 "nbformat_minor": 2
}
