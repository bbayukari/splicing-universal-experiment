{
 "cells": [
  {
   "cell_type": "code",
   "execution_count": 1,
   "metadata": {},
   "outputs": [],
   "source": [
    "%matplotlib inline\n",
    "\n",
    "import pandas as pd\n",
    "import matplotlib.pyplot as plt\n",
    "import numpy as np"
   ]
  },
  {
   "cell_type": "code",
   "execution_count": 28,
   "metadata": {},
   "outputs": [
    {
     "data": {
      "text/html": [
       "<div>\n",
       "<style scoped>\n",
       "    .dataframe tbody tr th:only-of-type {\n",
       "        vertical-align: middle;\n",
       "    }\n",
       "\n",
       "    .dataframe tbody tr th {\n",
       "        vertical-align: top;\n",
       "    }\n",
       "\n",
       "    .dataframe thead th {\n",
       "        text-align: right;\n",
       "    }\n",
       "</style>\n",
       "<table border=\"1\" class=\"dataframe\">\n",
       "  <thead>\n",
       "    <tr style=\"text-align: right;\">\n",
       "      <th></th>\n",
       "      <th>1</th>\n",
       "      <th>2</th>\n",
       "      <th>0</th>\n",
       "      <th>4</th>\n",
       "    </tr>\n",
       "  </thead>\n",
       "  <tbody>\n",
       "    <tr>\n",
       "      <th>model</th>\n",
       "      <td>linear</td>\n",
       "      <td>logistic</td>\n",
       "      <td>ising</td>\n",
       "      <td>non_linear</td>\n",
       "    </tr>\n",
       "    <tr>\n",
       "      <th>accuracy</th>\n",
       "      <td>0.83(0.17)</td>\n",
       "      <td>0.83(0.05)</td>\n",
       "      <td>0.94(0.04)</td>\n",
       "      <td>0.74(0.09)</td>\n",
       "    </tr>\n",
       "    <tr>\n",
       "      <th>time</th>\n",
       "      <td>14.59(5.6)</td>\n",
       "      <td>69.45(53.47)</td>\n",
       "      <td>32.26(17.88)</td>\n",
       "      <td>534.49(337.72)</td>\n",
       "    </tr>\n",
       "  </tbody>\n",
       "</table>\n",
       "</div>"
      ],
      "text/plain": [
       "                   1             2             0               4\n",
       "model         linear      logistic         ising      non_linear\n",
       "accuracy  0.83(0.17)    0.83(0.05)    0.94(0.04)      0.74(0.09)\n",
       "time      14.59(5.6)  69.45(53.47)  32.26(17.88)  534.49(337.72)"
      ]
     },
     "execution_count": 28,
     "metadata": {},
     "output_type": "execute_result"
    }
   ],
   "source": [
    "df = pd.read_csv(\"skscope_experiment_lasso.csv\")\n",
    "\n",
    "df[df[\"method\"] == \"LASSO\"].groupby(\"model\")[[\"accuracy\", \"time\"]].agg(\n",
    "    lambda x: str(x.mean().round(2)) + \"(\" + str(x.std().round(2)) + \")\"\n",
    ").reset_index().transpose().iloc[:, [1,2,0,4]]"
   ]
  },
  {
   "cell_type": "code",
   "execution_count": 31,
   "metadata": {},
   "outputs": [
    {
     "data": {
      "text/html": [
       "<div>\n",
       "<style scoped>\n",
       "    .dataframe tbody tr th:only-of-type {\n",
       "        vertical-align: middle;\n",
       "    }\n",
       "\n",
       "    .dataframe tbody tr th {\n",
       "        vertical-align: top;\n",
       "    }\n",
       "\n",
       "    .dataframe thead th {\n",
       "        text-align: right;\n",
       "    }\n",
       "</style>\n",
       "<table border=\"1\" class=\"dataframe\">\n",
       "  <thead>\n",
       "    <tr style=\"text-align: right;\">\n",
       "      <th>model</th>\n",
       "      <th>method</th>\n",
       "      <th>linear</th>\n",
       "      <th>logistic</th>\n",
       "      <th>ising</th>\n",
       "      <th>non_linear</th>\n",
       "    </tr>\n",
       "  </thead>\n",
       "  <tbody>\n",
       "    <tr>\n",
       "      <th>4</th>\n",
       "      <td>OMP</td>\n",
       "      <td>1.0(0.01)</td>\n",
       "      <td>0.91(0.05)</td>\n",
       "      <td>0.98(0.03)</td>\n",
       "      <td>0.77(0.09)</td>\n",
       "    </tr>\n",
       "    <tr>\n",
       "      <th>3</th>\n",
       "      <td>IHT</td>\n",
       "      <td>0.79(0.04)</td>\n",
       "      <td>0.97(0.03)</td>\n",
       "      <td>0.95(0.05)</td>\n",
       "      <td>0.78(0.09)</td>\n",
       "    </tr>\n",
       "    <tr>\n",
       "      <th>2</th>\n",
       "      <td>HTP</td>\n",
       "      <td>1.0(0.0)</td>\n",
       "      <td>0.84(0.05)</td>\n",
       "      <td>0.97(0.03)</td>\n",
       "      <td>0.78(0.09)</td>\n",
       "    </tr>\n",
       "    <tr>\n",
       "      <th>1</th>\n",
       "      <td>GraSP</td>\n",
       "      <td>1.0(0.0)</td>\n",
       "      <td>0.87(0.07)</td>\n",
       "      <td>0.99(0.01)</td>\n",
       "      <td>0.78(0.08)</td>\n",
       "    </tr>\n",
       "    <tr>\n",
       "      <th>0</th>\n",
       "      <td>FoBa</td>\n",
       "      <td>1.0(0.0)</td>\n",
       "      <td>0.92(0.06)</td>\n",
       "      <td>1.0(0.01)</td>\n",
       "      <td>0.77(0.09)</td>\n",
       "    </tr>\n",
       "    <tr>\n",
       "      <th>5</th>\n",
       "      <td>SCOPE</td>\n",
       "      <td>1.0(0.0)</td>\n",
       "      <td>0.94(0.04)</td>\n",
       "      <td>1.0(0.01)</td>\n",
       "      <td>0.77(0.09)</td>\n",
       "    </tr>\n",
       "  </tbody>\n",
       "</table>\n",
       "</div>"
      ],
      "text/plain": [
       "model method      linear    logistic       ising  non_linear\n",
       "4        OMP   1.0(0.01)  0.91(0.05)  0.98(0.03)  0.77(0.09)\n",
       "3        IHT  0.79(0.04)  0.97(0.03)  0.95(0.05)  0.78(0.09)\n",
       "2        HTP    1.0(0.0)  0.84(0.05)  0.97(0.03)  0.78(0.09)\n",
       "1      GraSP    1.0(0.0)  0.87(0.07)  0.99(0.01)  0.78(0.08)\n",
       "0       FoBa    1.0(0.0)  0.92(0.06)   1.0(0.01)  0.77(0.09)\n",
       "5      SCOPE    1.0(0.0)  0.94(0.04)   1.0(0.01)  0.77(0.09)"
      ]
     },
     "execution_count": 31,
     "metadata": {},
     "output_type": "execute_result"
    }
   ],
   "source": [
    "df = pd.read_csv(\"skscope_experiment_jit.csv\")\n",
    "df[df.jit == True].groupby(['method', 'model'])['accuracy'].apply(\n",
    "    lambda x: str(x.mean().round(2)) + \"(\" + str(x.std().round(2)) + \")\"\n",
    ").unstack().reset_index().iloc[[4,3,2,1,0,5], [0,2,3,1,5]]"
   ]
  },
  {
   "cell_type": "code",
   "execution_count": 33,
   "metadata": {},
   "outputs": [
    {
     "name": "stdout",
     "output_type": "stream",
     "text": [
      "      method     accuracy         time\n",
      "model        trend_filter trend_filter\n",
      "5        OMP   0.86(0.03)   1.77(0.57)\n",
      "3        IHT    0.08(0.0)   0.76(0.28)\n",
      "2        HTP   0.47(0.03)   0.71(0.23)\n",
      "1      GraSP   0.78(0.12)   0.95(0.38)\n",
      "0       FoBa     1.0(0.0)   8.27(1.66)\n",
      "6      SCOPE   0.98(0.02)   4.73(1.13)\n",
      "4      LASSO   0.21(0.04)  19.75(9.57)\n"
     ]
    }
   ],
   "source": [
    "df = pd.read_csv(\"skscope_experiment_trend_filter.csv\")\n",
    "print(df.groupby(['method', 'model'])[[\"accuracy\", \"time\"]].agg(\n",
    "    lambda x: str(x.mean().round(2)) + \"(\" + str(x.std().round(2)) + \")\"\n",
    ").unstack().reset_index().iloc[[5,3,2,1,0,6,4]])"
   ]
  },
  {
   "cell_type": "code",
   "execution_count": 42,
   "metadata": {},
   "outputs": [
    {
     "name": "stdout",
     "output_type": "stream",
     "text": [
      "                0              1           2              3\n",
      "model      linear         linear  non_linear     non_linear\n",
      "level_1  accuracy           time    accuracy           time\n",
      "0        1.0(0.0)  1009.94(0.66)  0.79(0.08)  1003.88(1.53)\n"
     ]
    }
   ],
   "source": [
    "df = pd.read_csv(\"gurobi_experiment-1.csv\")\n",
    "print(df.groupby(['model'])[[\"accuracy\", \"time\"]].agg(\n",
    "    lambda x: str(x.mean().round(2)) + \"(\" + str(x.std().round(2)) + \")\"\n",
    ").stack().reset_index().transpose())"
   ]
  },
  {
   "cell_type": "code",
   "execution_count": 43,
   "metadata": {},
   "outputs": [
    {
     "name": "stdout",
     "output_type": "stream",
     "text": [
      "                    0              1\n",
      "model    trend_filter   trend_filter\n",
      "level_1      accuracy           time\n",
      "0            1.0(0.0)  1013.16(0.62)\n"
     ]
    }
   ],
   "source": [
    "df = pd.read_csv(\"gurobi_experiment-trend_filter.csv\")\n",
    "print(df.groupby(['model'])[[\"accuracy\", \"time\"]].agg(\n",
    "    lambda x: str(x.mean().round(2)) + \"(\" + str(x.std().round(2)) + \")\"\n",
    ").stack().reset_index().transpose())"
   ]
  },
  {
   "cell_type": "code",
   "execution_count": 2,
   "metadata": {},
   "outputs": [
    {
     "name": "stdout",
     "output_type": "stream",
     "text": [
      "|    | method   |   ising |   linear |   logistic |   multitask |   non_linear |   trend_filter |\n",
      "|---:|:---------|--------:|---------:|-----------:|------------:|-------------:|---------------:|\n",
      "|  0 | FoBa     |   14.76 |    11.93 |      19.16 |        7.02 |         4.32 |           2.97 |\n",
      "|  1 | GraSP    |   10.34 |     5.76 |      31.63 |        6.73 |         1.07 |           1.81 |\n",
      "|  2 | HTP      |   13.26 |     5.34 |      13.55 |       11.16 |         1.21 |           0.89 |\n",
      "|  3 | IHT      |    4.89 |     1.06 |       3.28 |        1.84 |         0.53 |           0.25 |\n",
      "|  4 | OMP      |   16.16 |    11.33 |      20.88 |        9.82 |         2.83 |           0.9  |\n",
      "|  5 | SCOPE    |   11.21 |     5.24 |      17.26 |        2.06 |         2.01 |           3.21 |\n"
     ]
    }
   ],
   "source": [
    "df = pd.read_csv(\"skscope_experiment_jit.csv\")\n",
    "\n",
    "df = df.pivot(\n",
    "    index=['model', 'seed', 'method'],\n",
    "    columns='jit',\n",
    "    values='time',\n",
    ").reset_index()\n",
    "\n",
    "df['acceleration'] = df[False] / df[True]\n",
    "print(df.groupby(['method', 'model'])['acceleration'].mean().unstack().round(2).reset_index().to_markdown())"
   ]
  },
  {
   "cell_type": "markdown",
   "metadata": {},
   "source": [
    "|          |   Ising model |   Linear regression |   Logistic regression |   Multi-task learning |   Nonlinear feature selection |   Trend filtering |\n",
    "|:---------|--------:|---------:|-----------:|------------:|-------------:|---------------:|\n",
    "| FobaSolver     |   14.76 |    11.93 |      19.16 |        7.02 |         4.32 |           2.97 |\n",
    "| GraspSolver    |   10.34 |     5.76 |      31.63 |        6.73 |         1.07 |           1.81 |\n",
    "| HTPSolver      |   13.26 |     5.34 |      13.55 |       11.16 |         1.21 |           0.89 |\n",
    "| IHTSolver      |    4.89 |     1.06 |       3.28 |        1.84 |         0.53 |           0.25 |\n",
    "| OMPSolver      |   16.16 |    11.33 |      20.88 |        9.82 |         2.83 |           0.9  |\n",
    "| ScopeSolver    |   11.21 |     5.24 |      17.26 |        2.06 |         2.01 |           3.21 |"
   ]
  },
  {
   "cell_type": "markdown",
   "metadata": {},
   "source": [
    "\\begin{table}[htbp]\n",
    "  \\vspace*{-0.35cm}\n",
    "  \\begin{center}\n",
    "    {\\small\n",
    "    \\begin{tabular}{c|cc|cc|cc}\n",
    "      \\toprule\n",
    "      Method & \\multicolumn{2}{c|}{Linear regression}     & \\multicolumn{2}{c|}{Logistic regression} & \\multicolumn{2}{c}{Trend filtering} \\\\ \\cline{2-7} \n",
    "      & JIT time           & non-JIT time            & JIT time          & non-JIT time           & JIT time           & non-JIT time             \\\\ \\hline\n",
    "      OMPSolver               &  2.45(0.68) &    26.74(5.99) &  1.66(0.67) &    32.78(10.32) &    1.6(0.65) &  1.43(0.68) \\\\\n",
    "      IHTSolver               &  3.42(0.88) &     3.54(1.11) &  1.06(0.67) &      3.59(3.77) &    2.8(1.35) &  0.68(0.35) \\\\\n",
    "      HTPSolver               &  4.14(1.25) &     21.7(8.55) &  2.37(0.92) &    32.13(17.28) &   1.71(0.85) &  1.46(0.82) \\\\\n",
    "      GraspSolver             &  1.16(0.38) &     6.57(2.35) &   12.7(8.2) &  408.14(246.79) &   1.74(0.74) &  3.14(1.95) \\\\\n",
    "      FobaSolver              &   11.7(2.9) &  132.04(17.53) &  6.31(2.15) &   116.23(33.13) &   1.89(0.84) &  5.46(2.24) \\\\\n",
    "      ScopeSolver             &   2.11(0.7) &    10.73(3.36) &  3.24(2.67) &    53.88(38.12) &   2.85(1.29) &  8.93(3.54) \\\\\n",
    "      \\midrule\n",
    "      Method & \\multicolumn{2}{c|}{Multi-task learning} & \\multicolumn{2}{c|}{Ising model}    & \\multicolumn{2}{c}{Nonlinear feature selection}   \\\\ \\cline{2-7} \n",
    "      & JIT time           & non-JIT time            & JIT time          & non-JIT time           & JIT time           & non-JIT time             \\\\ \\hline\n",
    "      OMPSolver               &  4.07(0.48) &     39.8(5.22) &   2.86(0.86) &   45.64(14.47) &  11.53(3.61) &   32.61(10.47) \\\\\n",
    "      IHTSolver               &  1.24(0.23) &     2.26(0.49) &   3.24(1.43) &    15.23(5.69) &   6.37(2.32) &     3.36(2.06) \\\\\n",
    "      HTPSolver               &  21.5(4.56) &  235.89(64.94) &   5.26(2.03) &   70.71(34.32) &  10.82(7.86) &    12.61(8.33) \\\\\n",
    "      GraspSolver             &  0.87(0.31) &     5.95(2.75) &   1.02(0.44) &    10.62(5.77) &   7.34(2.75) &     7.65(3.05) \\\\\n",
    "      FobaSolver              &  6.65(0.65) &    46.59(6.96) &  11.59(3.55) &  165.58(42.08) &   31.26(8.8) &  132.27(32.48) \\\\\n",
    "      ScopeSolver             &  7.28(4.84) &    14.02(9.26) &   1.69(0.67) &    18.65(7.79) &     8.6(2.7) &    17.03(5.52) \\\\\n",
    "      \\bottomrule\n",
    "    \\end{tabular}\n",
    "    }\n",
    "  \\end{center}\n",
    "\\end{table}"
   ]
  }
 ],
 "metadata": {
  "kernelspec": {
   "display_name": "scope",
   "language": "python",
   "name": "python3"
  },
  "language_info": {
   "codemirror_mode": {
    "name": "ipython",
    "version": 3
   },
   "file_extension": ".py",
   "mimetype": "text/x-python",
   "name": "python",
   "nbconvert_exporter": "python",
   "pygments_lexer": "ipython3",
   "version": "3.10.9"
  },
  "orig_nbformat": 4
 },
 "nbformat": 4,
 "nbformat_minor": 2
}
